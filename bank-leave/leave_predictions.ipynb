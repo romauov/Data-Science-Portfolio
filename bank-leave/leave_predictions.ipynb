{
 "cells": [
  {
   "cell_type": "markdown",
   "metadata": {},
   "source": [
    "# Отток клиентов"
   ]
  },
  {
   "cell_type": "markdown",
   "metadata": {},
   "source": [
    "Из «Бета-Банка» стали уходить клиенты, каждый месяц, немного, но заметно. Банковские маркетологи посчитали: сохранять текущих клиентов дешевле, чем привлекать новых.\n",
    "\n",
    "Построим модель, которая сможет спрогнозировать, уйдёт клиент из банка в ближайшее время или нет на основании исторических данных о поведении клиентов и расторжении договоров с банком. \n",
    "\n",
    "При построении модели будем использовать метрики F1 и AUC-ROC.\n",
    "\n",
    "Источник данных: [https://www.kaggle.com/barelydedicated/bank-customer-churn-modeling](https://www.kaggle.com/barelydedicated/bank-customer-churn-modeling)"
   ]
  },
  {
   "cell_type": "markdown",
   "metadata": {},
   "source": [
    "## Подготовка данных"
   ]
  },
  {
   "cell_type": "code",
   "execution_count": 1,
   "metadata": {
    "scrolled": true
   },
   "outputs": [
    {
     "data": {
      "text/html": [
       "<div>\n",
       "<style scoped>\n",
       "    .dataframe tbody tr th:only-of-type {\n",
       "        vertical-align: middle;\n",
       "    }\n",
       "\n",
       "    .dataframe tbody tr th {\n",
       "        vertical-align: top;\n",
       "    }\n",
       "\n",
       "    .dataframe thead th {\n",
       "        text-align: right;\n",
       "    }\n",
       "</style>\n",
       "<table border=\"1\" class=\"dataframe\">\n",
       "  <thead>\n",
       "    <tr style=\"text-align: right;\">\n",
       "      <th></th>\n",
       "      <th>RowNumber</th>\n",
       "      <th>CustomerId</th>\n",
       "      <th>Surname</th>\n",
       "      <th>CreditScore</th>\n",
       "      <th>Geography</th>\n",
       "      <th>Gender</th>\n",
       "      <th>Age</th>\n",
       "      <th>Tenure</th>\n",
       "      <th>Balance</th>\n",
       "      <th>NumOfProducts</th>\n",
       "      <th>HasCrCard</th>\n",
       "      <th>IsActiveMember</th>\n",
       "      <th>EstimatedSalary</th>\n",
       "      <th>Exited</th>\n",
       "    </tr>\n",
       "  </thead>\n",
       "  <tbody>\n",
       "    <tr>\n",
       "      <th>0</th>\n",
       "      <td>1</td>\n",
       "      <td>15634602</td>\n",
       "      <td>Hargrave</td>\n",
       "      <td>619</td>\n",
       "      <td>France</td>\n",
       "      <td>Female</td>\n",
       "      <td>42</td>\n",
       "      <td>2.0</td>\n",
       "      <td>0.00</td>\n",
       "      <td>1</td>\n",
       "      <td>1</td>\n",
       "      <td>1</td>\n",
       "      <td>101348.88</td>\n",
       "      <td>1</td>\n",
       "    </tr>\n",
       "    <tr>\n",
       "      <th>1</th>\n",
       "      <td>2</td>\n",
       "      <td>15647311</td>\n",
       "      <td>Hill</td>\n",
       "      <td>608</td>\n",
       "      <td>Spain</td>\n",
       "      <td>Female</td>\n",
       "      <td>41</td>\n",
       "      <td>1.0</td>\n",
       "      <td>83807.86</td>\n",
       "      <td>1</td>\n",
       "      <td>0</td>\n",
       "      <td>1</td>\n",
       "      <td>112542.58</td>\n",
       "      <td>0</td>\n",
       "    </tr>\n",
       "    <tr>\n",
       "      <th>2</th>\n",
       "      <td>3</td>\n",
       "      <td>15619304</td>\n",
       "      <td>Onio</td>\n",
       "      <td>502</td>\n",
       "      <td>France</td>\n",
       "      <td>Female</td>\n",
       "      <td>42</td>\n",
       "      <td>8.0</td>\n",
       "      <td>159660.80</td>\n",
       "      <td>3</td>\n",
       "      <td>1</td>\n",
       "      <td>0</td>\n",
       "      <td>113931.57</td>\n",
       "      <td>1</td>\n",
       "    </tr>\n",
       "    <tr>\n",
       "      <th>3</th>\n",
       "      <td>4</td>\n",
       "      <td>15701354</td>\n",
       "      <td>Boni</td>\n",
       "      <td>699</td>\n",
       "      <td>France</td>\n",
       "      <td>Female</td>\n",
       "      <td>39</td>\n",
       "      <td>1.0</td>\n",
       "      <td>0.00</td>\n",
       "      <td>2</td>\n",
       "      <td>0</td>\n",
       "      <td>0</td>\n",
       "      <td>93826.63</td>\n",
       "      <td>0</td>\n",
       "    </tr>\n",
       "    <tr>\n",
       "      <th>4</th>\n",
       "      <td>5</td>\n",
       "      <td>15737888</td>\n",
       "      <td>Mitchell</td>\n",
       "      <td>850</td>\n",
       "      <td>Spain</td>\n",
       "      <td>Female</td>\n",
       "      <td>43</td>\n",
       "      <td>2.0</td>\n",
       "      <td>125510.82</td>\n",
       "      <td>1</td>\n",
       "      <td>1</td>\n",
       "      <td>1</td>\n",
       "      <td>79084.10</td>\n",
       "      <td>0</td>\n",
       "    </tr>\n",
       "  </tbody>\n",
       "</table>\n",
       "</div>"
      ],
      "text/plain": [
       "   RowNumber  CustomerId   Surname  CreditScore Geography  Gender  Age  \\\n",
       "0          1    15634602  Hargrave          619    France  Female   42   \n",
       "1          2    15647311      Hill          608     Spain  Female   41   \n",
       "2          3    15619304      Onio          502    France  Female   42   \n",
       "3          4    15701354      Boni          699    France  Female   39   \n",
       "4          5    15737888  Mitchell          850     Spain  Female   43   \n",
       "\n",
       "   Tenure    Balance  NumOfProducts  HasCrCard  IsActiveMember  \\\n",
       "0     2.0       0.00              1          1               1   \n",
       "1     1.0   83807.86              1          0               1   \n",
       "2     8.0  159660.80              3          1               0   \n",
       "3     1.0       0.00              2          0               0   \n",
       "4     2.0  125510.82              1          1               1   \n",
       "\n",
       "   EstimatedSalary  Exited  \n",
       "0        101348.88       1  \n",
       "1        112542.58       0  \n",
       "2        113931.57       1  \n",
       "3         93826.63       0  \n",
       "4         79084.10       0  "
      ]
     },
     "execution_count": 1,
     "metadata": {},
     "output_type": "execute_result"
    }
   ],
   "source": [
    "import pandas as pd\n",
    "import matplotlib.pyplot as plt\n",
    "import numpy as np\n",
    "import seaborn as sns\n",
    "\n",
    "from sklearn.ensemble import RandomForestClassifier\n",
    "from sklearn.dummy import DummyClassifier\n",
    "from sklearn.linear_model import LogisticRegression\n",
    "from sklearn.metrics import f1_score, roc_auc_score, roc_curve\n",
    "from sklearn.model_selection import train_test_split\n",
    "from sklearn.preprocessing import StandardScaler\n",
    "from sklearn.tree import DecisionTreeClassifier\n",
    "from sklearn.utils import shuffle\n",
    "\n",
    "from time import perf_counter\n",
    "\n",
    "data = pd.read_csv('datasets/Churn.csv')\n",
    "data.head()"
   ]
  },
  {
   "cell_type": "code",
   "execution_count": 2,
   "metadata": {},
   "outputs": [
    {
     "name": "stdout",
     "output_type": "stream",
     "text": [
      "<class 'pandas.core.frame.DataFrame'>\n",
      "RangeIndex: 10000 entries, 0 to 9999\n",
      "Data columns (total 14 columns):\n",
      " #   Column           Non-Null Count  Dtype  \n",
      "---  ------           --------------  -----  \n",
      " 0   RowNumber        10000 non-null  int64  \n",
      " 1   CustomerId       10000 non-null  int64  \n",
      " 2   Surname          10000 non-null  object \n",
      " 3   CreditScore      10000 non-null  int64  \n",
      " 4   Geography        10000 non-null  object \n",
      " 5   Gender           10000 non-null  object \n",
      " 6   Age              10000 non-null  int64  \n",
      " 7   Tenure           9091 non-null   float64\n",
      " 8   Balance          10000 non-null  float64\n",
      " 9   NumOfProducts    10000 non-null  int64  \n",
      " 10  HasCrCard        10000 non-null  int64  \n",
      " 11  IsActiveMember   10000 non-null  int64  \n",
      " 12  EstimatedSalary  10000 non-null  float64\n",
      " 13  Exited           10000 non-null  int64  \n",
      "dtypes: float64(3), int64(8), object(3)\n",
      "memory usage: 1.1+ MB\n"
     ]
    }
   ],
   "source": [
    "data.info()"
   ]
  },
  {
   "cell_type": "markdown",
   "metadata": {},
   "source": [
    "В столбце 'Tenure' есть пропуски, изучим строки с пропусками."
   ]
  },
  {
   "cell_type": "code",
   "execution_count": 3,
   "metadata": {},
   "outputs": [
    {
     "data": {
      "image/png": "[encoded data removed]",
      "text/plain": [
       "<Figure size 1500x1000 with 12 Axes>"
      ]
     },
     "metadata": {},
     "output_type": "display_data"
    }
   ],
   "source": [
    "data[data['Tenure'].isna()].hist(figsize=(15,10)); # ; - для того, чтобы не выводился текст"
   ]
  },
  {
   "cell_type": "code",
   "execution_count": 4,
   "metadata": {},
   "outputs": [
    {
     "data": {
      "image/png": "[encoded data removed]",
      "text/plain": [
       "<Figure size 1500x1000 with 12 Axes>"
      ]
     },
     "metadata": {},
     "output_type": "display_data"
    }
   ],
   "source": [
    "data[data['Exited'] == 1].hist(figsize=(15,10));"
   ]
  },
  {
   "cell_type": "markdown",
   "metadata": {},
   "source": [
    "В строках с пропусками присуствую данные клиентов с различными кредитными рейтингами, балансами счёта и расчётными зарплатами, примерно такая же ситуация у клиентов, которые покинули банк, а гистограмма со сроками пребывания клиентами в банке равномерна и не имеет выраженных пиков, поэтому заполним пропуски случайными значениями из тех, что уже встречаются. "
   ]
  },
  {
   "cell_type": "code",
   "execution_count": 5,
   "metadata": {},
   "outputs": [],
   "source": [
    "data.loc[data['Tenure'].isna(), 'Tenure'] = np.random.randint(0, 10)"
   ]
  },
  {
   "cell_type": "markdown",
   "metadata": {},
   "source": [
    "## Исследование задачи"
   ]
  },
  {
   "cell_type": "markdown",
   "metadata": {},
   "source": [
    "Стоблцы 'RowNumber', 'CustomerId', 'Surname' используются для идентификации клиента, но не помогут спрогнозировать останется ли этот клиент в будущем, поэтому удалим эти столбцы из датасета."
   ]
  },
  {
   "cell_type": "code",
   "execution_count": 6,
   "metadata": {
    "scrolled": true
   },
   "outputs": [],
   "source": [
    "data_cleared = data.drop(['RowNumber', 'CustomerId', 'Surname'], axis=1)\n",
    "#sns.pairplot(data_cleared, hue=\"Exited\")"
   ]
  },
  {
   "cell_type": "markdown",
   "metadata": {},
   "source": [
    "Разбьём данные на обучающую, валидационную и тестовые выборки, а затем закодируем строковые данные в стобцах датасета с помощью OHE."
   ]
  },
  {
   "cell_type": "code",
   "execution_count": 7,
   "metadata": {},
   "outputs": [
    {
     "name": "stdout",
     "output_type": "stream",
     "text": [
      "features_train (6000, 10)\n",
      "features_valid (2000, 10)\n",
      "features_test (2000, 10)\n",
      "target_train (6000,)\n",
      "target_valid (2000,)\n",
      "target_test (2000,)\n"
     ]
    }
   ],
   "source": [
    "target = data_cleared['Exited']\n",
    "features = data_cleared.drop('Exited', axis=1)\n",
    "\n",
    "features_train, features_test, target_train, target_test = \\\n",
    "train_test_split(features, target, test_size=0.2)\n",
    "\n",
    "features_train, features_valid, target_train, target_valid = \\\n",
    "train_test_split(features_train, target_train, test_size=0.25)\n",
    "\n",
    "samples = [features_train, features_valid, features_test, target_train, target_valid, target_test]\n",
    "samples_names = ['features_train', 'features_valid', 'features_test', 'target_train', 'target_valid', 'target_test']\n",
    "\n",
    "for i in range(len(samples)):\n",
    "    print(samples_names[i], samples[i].shape)"
   ]
  },
  {
   "cell_type": "code",
   "execution_count": 8,
   "metadata": {},
   "outputs": [],
   "source": [
    "features_train = pd.get_dummies(features_train, drop_first=True)\n",
    "features_valid = pd.get_dummies(features_valid, drop_first=True)\n",
    "features_test = pd.get_dummies(features_test, drop_first=True)"
   ]
  },
  {
   "cell_type": "markdown",
   "metadata": {},
   "source": [
    "Для начала проверим эффективность baseline модели."
   ]
  },
  {
   "cell_type": "code",
   "execution_count": 9,
   "metadata": {
    "scrolled": true
   },
   "outputs": [
    {
     "data": {
      "text/plain": [
       "0.0"
      ]
     },
     "execution_count": 9,
     "metadata": {},
     "output_type": "execute_result"
    }
   ],
   "source": [
    "dummy_model = DummyClassifier(strategy='most_frequent', random_state=1)\\\n",
    ".fit(features_train, target_train)\n",
    "target_predicted = dummy_model.predict(features_valid)\n",
    "\n",
    "f1_score(target_valid, target_predicted)"
   ]
  },
  {
   "cell_type": "markdown",
   "metadata": {},
   "source": [
    "Baseline модель показала нулевую эффективность, посмотрим на результаты модели логистической  регрессии и решающего дерева с несбалансированными классами."
   ]
  },
  {
   "cell_type": "code",
   "execution_count": 10,
   "metadata": {
    "scrolled": true
   },
   "outputs": [
    {
     "data": {
      "text/plain": [
       "0.08352668213457076"
      ]
     },
     "execution_count": 10,
     "metadata": {},
     "output_type": "execute_result"
    }
   ],
   "source": [
    "model = LogisticRegression().fit(features_train, target_train)\n",
    "target_predicted = model.predict(features_valid)\n",
    "\n",
    "f1_score(target_valid, target_predicted)"
   ]
  },
  {
   "cell_type": "code",
   "execution_count": 11,
   "metadata": {},
   "outputs": [
    {
     "data": {
      "text/plain": [
       "0.452020202020202"
      ]
     },
     "execution_count": 11,
     "metadata": {},
     "output_type": "execute_result"
    }
   ],
   "source": [
    "model = DecisionTreeClassifier().fit(features_train, target_train)\n",
    "target_predicted = model.predict(features_valid)\n",
    "\n",
    "f1_score(target_valid, target_predicted)"
   ]
  },
  {
   "cell_type": "markdown",
   "metadata": {},
   "source": [
    "Обе модели не показывают значения метриики на целевом уровне."
   ]
  },
  {
   "cell_type": "markdown",
   "metadata": {},
   "source": [
    "## Борьба с дисбалансом"
   ]
  },
  {
   "cell_type": "code",
   "execution_count": 12,
   "metadata": {},
   "outputs": [
    {
     "data": {
      "image/png": "[encoded data removed]",
      "text/plain": [
       "<Figure size 640x480 with 1 Axes>"
      ]
     },
     "metadata": {},
     "output_type": "display_data"
    }
   ],
   "source": [
    "data['Age'].hist() ;"
   ]
  },
  {
   "cell_type": "code",
   "execution_count": 13,
   "metadata": {},
   "outputs": [
    {
     "data": {
      "image/png": "[encoded data removed]",
      "text/plain": [
       "<Figure size 640x480 with 1 Axes>"
      ]
     },
     "metadata": {},
     "output_type": "display_data"
    }
   ],
   "source": [
    "data['Balance'].hist() ;"
   ]
  },
  {
   "cell_type": "markdown",
   "metadata": {},
   "source": [
    "На примере стобцов 'Age' и 'Balance' видно, что значения в них очень сильно отличаются, поэтому необходимо стандартитизировать признаки во всех выборках."
   ]
  },
  {
   "cell_type": "code",
   "execution_count": 14,
   "metadata": {},
   "outputs": [],
   "source": [
    "pd.options.mode.chained_assignment = None\n",
    "\n",
    "numeric = ['CreditScore', 'Age', 'Tenure', 'Balance', 'NumOfProducts', 'HasCrCard',\n",
    "       'IsActiveMember', 'EstimatedSalary', 'Geography_Germany',\n",
    "       'Geography_Spain', 'Gender_Male']\n",
    "\n",
    "scaler = StandardScaler().fit(features_train[numeric])\n",
    "\n",
    "features_train[numeric] = scaler.transform(features_train[numeric])\n",
    "features_valid[numeric] = scaler.transform(features_valid[numeric])\n",
    "features_test[numeric] = scaler.transform(features_test[numeric])"
   ]
  },
  {
   "cell_type": "markdown",
   "metadata": {},
   "source": [
    "Посморим как изменилась метрика модели после масштабирования признаков."
   ]
  },
  {
   "cell_type": "code",
   "execution_count": 15,
   "metadata": {
    "scrolled": true
   },
   "outputs": [
    {
     "data": {
      "text/plain": [
       "0.2740286298568507"
      ]
     },
     "execution_count": 15,
     "metadata": {},
     "output_type": "execute_result"
    }
   ],
   "source": [
    "model = LogisticRegression().fit(features_train, target_train)\n",
    "target_predicted = model.predict(features_valid)\n",
    "\n",
    "f1_score(target_valid, target_predicted)"
   ]
  },
  {
   "cell_type": "code",
   "execution_count": 16,
   "metadata": {
    "scrolled": true
   },
   "outputs": [
    {
     "data": {
      "text/plain": [
       "Exited\n",
       "0    7963\n",
       "1    2037\n",
       "Name: count, dtype: int64"
      ]
     },
     "execution_count": 16,
     "metadata": {},
     "output_type": "execute_result"
    }
   ],
   "source": [
    "data['Exited'].value_counts()"
   ]
  },
  {
   "cell_type": "markdown",
   "metadata": {},
   "source": [
    "В изначальной выборке клиентов, которые покинули банк в 4 раза меньше чем тех, кто остался, посмотрим как повлияет увеличение количество данных с целевым признаком 1 на качество обучения модели. "
   ]
  },
  {
   "cell_type": "code",
   "execution_count": 17,
   "metadata": {},
   "outputs": [],
   "source": [
    "def upsample(features, target, repeat):\n",
    "    features_zeros = features[target == 0]\n",
    "    features_ones = features[target == 1]\n",
    "    target_zeros = target[target == 0]\n",
    "    target_ones = target[target == 1]\n",
    "\n",
    "    features_upsampled = pd.concat([features_zeros] + [features_ones] * repeat)\n",
    "    target_upsampled = pd.concat([target_zeros] + [target_ones] * repeat)\n",
    "    \n",
    "    features_upsampled, target_upsampled = shuffle(\n",
    "        features_upsampled, target_upsampled, random_state=12345)\n",
    "    \n",
    "    return features_upsampled, target_upsampled\n",
    "\n",
    "features_upsampled, target_upsampled = upsample(features_train, target_train, 4)\n"
   ]
  },
  {
   "cell_type": "code",
   "execution_count": 18,
   "metadata": {},
   "outputs": [
    {
     "data": {
      "text/plain": [
       "0.48490230905861453"
      ]
     },
     "execution_count": 18,
     "metadata": {},
     "output_type": "execute_result"
    }
   ],
   "source": [
    "model = LogisticRegression().fit(features_upsampled, target_upsampled)\n",
    "target_predicted = model.predict(features_valid)\n",
    "\n",
    "f1_score(target_valid, target_predicted)"
   ]
  },
  {
   "cell_type": "markdown",
   "metadata": {},
   "source": [
    "Модель значительно прибавила в качестве, теперь подберём гиперпараметры для модели случайного леса."
   ]
  },
  {
   "cell_type": "code",
   "execution_count": 19,
   "metadata": {},
   "outputs": [
    {
     "name": "stdout",
     "output_type": "stream",
     "text": [
      "F1-метрика модели 0.5995475113122172\n",
      "Глубина модели 8\n",
      "CPU times: user 5.03 s, sys: 7.26 ms, total: 5.04 s\n",
      "Wall time: 5.04 s\n"
     ]
    }
   ],
   "source": [
    "%%time\n",
    "\n",
    "best_score = 0\n",
    "best_depth = None\n",
    "best_model = None\n",
    "\n",
    "t_start = perf_counter()\n",
    "\n",
    "for depth in range(1, 101):\n",
    "    \n",
    "    model = RandomForestClassifier(n_estimators=20, max_depth=depth, random_state=8)\\\n",
    "    .fit(features_upsampled, target_upsampled)\n",
    "    t_stop = perf_counter()\n",
    "    if t_stop - t_start > 5:\n",
    "        break\n",
    "    score = f1_score(target_valid, model.predict(features_valid))\n",
    "    if score > best_score:\n",
    "        best_score = score\n",
    "        best_depth = depth\n",
    "        best_model = model\n",
    "        \n",
    "print('F1-метрика модели', best_score)\n",
    "print('Глубина модели', best_depth)"
   ]
  },
  {
   "cell_type": "code",
   "execution_count": 20,
   "metadata": {},
   "outputs": [
    {
     "name": "stdout",
     "output_type": "stream",
     "text": [
      "F1-метрика модели 0.6002265005662514\n",
      "Глубина модели 8\n",
      "Количество деревьев 79\n",
      "CPU times: user 30.1 s, sys: 0 ns, total: 30.1 s\n",
      "Wall time: 30.1 s\n"
     ]
    }
   ],
   "source": [
    "%%time\n",
    "\n",
    "best_score = 0\n",
    "best_est = None\n",
    "\n",
    "t_start = perf_counter()\n",
    "\n",
    "for est in range(10, 1001):\n",
    "    \n",
    "    \n",
    "    model = RandomForestClassifier(n_estimators=est, max_depth=best_depth, random_state=10)\\\n",
    "    .fit(features_upsampled, target_upsampled)\n",
    "    t_stop = perf_counter()\n",
    "    \n",
    "    if t_stop - t_start > 30:\n",
    "        break\n",
    "    \n",
    "    score = f1_score(target_valid, model.predict(features_valid))\n",
    "    \n",
    "    if score > best_score:\n",
    "        \n",
    "        best_score = score\n",
    "        best_est = est\n",
    "        best_model = model\n",
    "\n",
    "print('F1-метрика модели', best_score)\n",
    "print('Глубина модели', best_depth)\n",
    "print('Количество деревьев', best_est)"
   ]
  },
  {
   "cell_type": "markdown",
   "metadata": {},
   "source": [
    "Получили, что наилучший результат показывает модель случайного леса с грубиной 22 и количество деревьев 32."
   ]
  },
  {
   "cell_type": "markdown",
   "metadata": {},
   "source": [
    "## Тестирование модели"
   ]
  },
  {
   "cell_type": "markdown",
   "metadata": {},
   "source": [
    "Проверим результаты лучшей модели на тестовой выборке."
   ]
  },
  {
   "cell_type": "code",
   "execution_count": 21,
   "metadata": {},
   "outputs": [
    {
     "data": {
      "text/plain": [
       "0.6272545090180361"
      ]
     },
     "execution_count": 21,
     "metadata": {},
     "output_type": "execute_result"
    }
   ],
   "source": [
    "f1_score(target_test, best_model.predict(features_test))"
   ]
  },
  {
   "cell_type": "markdown",
   "metadata": {},
   "source": [
    "Модель показывает значение метрики на целевом уровне."
   ]
  },
  {
   "cell_type": "code",
   "execution_count": 22,
   "metadata": {
    "scrolled": true,
    "tags": []
   },
   "outputs": [
    {
     "data": {
      "image/png": "[encoded data removed]",
      "text/plain": [
       "<Figure size 640x480 with 1 Axes>"
      ]
     },
     "metadata": {},
     "output_type": "display_data"
    }
   ],
   "source": [
    "probabilities_valid = best_model.predict_proba(features_test)\n",
    "probabilities_one_valid = probabilities_valid[:, 1]\n",
    "\n",
    "fpr, tpr, thresholds = roc_curve(target_test, probabilities_one_valid)\n",
    "\n",
    "plt.figure()\n",
    "plt.plot(fpr, tpr)\n",
    "plt.plot([0, 1], [0, 1], linestyle='--')\n",
    "plt.xlim([0.0, 1.0])\n",
    "plt.ylim([0.0, 1.0])\n",
    "plt.xlabel('False Positive Rate')\n",
    "plt.ylabel('True Positive Rate')\n",
    "plt.title('ROC-curve')\n",
    "plt.show()"
   ]
  },
  {
   "cell_type": "code",
   "execution_count": 23,
   "metadata": {},
   "outputs": [
    {
     "data": {
      "text/plain": [
       "0.8712429094351437"
      ]
     },
     "execution_count": 23,
     "metadata": {},
     "output_type": "execute_result"
    }
   ],
   "source": [
    "roc_auc_score(target_test, probabilities_one_valid)"
   ]
  },
  {
   "cell_type": "markdown",
   "metadata": {},
   "source": [
    "Метрики демонстрируют, что модель обучена на хорошем уровне."
   ]
  },
  {
   "cell_type": "markdown",
   "metadata": {},
   "source": [
    "## Выводы по проделанной работе\n",
    "Целью данного исследования было составление модели, прогнозирующей отток клиентов из банка на основе исторических данных. Для этого были выполнены следующие действия:\n",
    "1. Устранены пропуски с информацией в стобце 'Tenure', информация была дополнена медианными значениями.\n",
    "1. Из датасета были удалены идентификационные признаки клиентов, не влияющие на обучение модели, а оставшиеся строковые признаки были закодированы.\n",
    "1. Рассчитаны эффективности baseline модели и модели с несбалансированными признаками, они оказалась не достаточными.\n",
    "1. Для улучшения обучения модели обучающаю выборка была расширена данными с положительными целевыми признаками.\n",
    "1. Был произведён рассчёт гиперпараметров наилучшей модели случайного леса.\n",
    "\n",
    "В результате, на тестовой выборке полученная модель показала значения f1-метрики на целевом уровне, также с помощью AUC-ROC метрики было показано, что модель хорошо обучена."
   ]
  }
 ],
 "metadata": {
  "ExecuteTimeLog": [
   {
    "duration": 565,
    "start_time": "2022-12-01T06:26:10.127Z"
   },
   {
    "duration": 58,
    "start_time": "2022-12-01T06:26:31.182Z"
   },
   {
    "duration": 11,
    "start_time": "2022-12-01T06:26:39.456Z"
   },
   {
    "duration": 513,
    "start_time": "2022-12-01T06:27:50.669Z"
   },
   {
    "duration": 234,
    "start_time": "2022-12-01T06:28:11.816Z"
   },
   {
    "duration": 308,
    "start_time": "2022-12-01T06:29:24.886Z"
   },
   {
    "duration": 5,
    "start_time": "2022-12-01T06:29:41.811Z"
   },
   {
    "duration": 137,
    "start_time": "2022-12-01T06:33:18.897Z"
   },
   {
    "duration": 746,
    "start_time": "2022-12-01T06:37:13.873Z"
   },
   {
    "duration": 8,
    "start_time": "2022-12-01T06:42:39.216Z"
   },
   {
    "duration": 8,
    "start_time": "2022-12-01T06:42:48.945Z"
   },
   {
    "duration": 66,
    "start_time": "2022-12-01T06:43:34.595Z"
   },
   {
    "duration": 15,
    "start_time": "2022-12-01T06:43:37.029Z"
   },
   {
    "duration": 7,
    "start_time": "2022-12-01T06:43:39.824Z"
   },
   {
    "duration": 56,
    "start_time": "2022-12-01T06:46:40.566Z"
   },
   {
    "duration": 8,
    "start_time": "2022-12-01T06:47:41.929Z"
   },
   {
    "duration": 35,
    "start_time": "2022-12-01T06:47:44.074Z"
   },
   {
    "duration": 5,
    "start_time": "2022-12-01T06:49:25.359Z"
   },
   {
    "duration": 7,
    "start_time": "2022-12-01T06:50:00.483Z"
   },
   {
    "duration": 4,
    "start_time": "2022-12-01T06:50:31.640Z"
   },
   {
    "duration": 5,
    "start_time": "2022-12-01T06:50:50.030Z"
   },
   {
    "duration": 17,
    "start_time": "2022-12-01T06:55:01.664Z"
   },
   {
    "duration": 16,
    "start_time": "2022-12-01T06:55:15.008Z"
   },
   {
    "duration": 806,
    "start_time": "2022-12-01T06:56:14.555Z"
   },
   {
    "duration": 604,
    "start_time": "2022-12-01T06:57:35.431Z"
   },
   {
    "duration": 962,
    "start_time": "2022-12-01T06:57:54.808Z"
   },
   {
    "duration": 6,
    "start_time": "2022-12-01T06:59:44.612Z"
   },
   {
    "duration": 8,
    "start_time": "2022-12-01T06:59:47.438Z"
   },
   {
    "duration": 18,
    "start_time": "2022-12-01T06:59:48.510Z"
   },
   {
    "duration": 139,
    "start_time": "2022-12-01T06:59:52.743Z"
   },
   {
    "duration": 22,
    "start_time": "2022-12-01T07:05:09.674Z"
   },
   {
    "duration": 64,
    "start_time": "2022-12-01T07:05:12.618Z"
   },
   {
    "duration": 8,
    "start_time": "2022-12-01T07:09:53.098Z"
   },
   {
    "duration": 11,
    "start_time": "2022-12-01T07:10:06.043Z"
   },
   {
    "duration": 68,
    "start_time": "2022-12-01T07:13:24.250Z"
   },
   {
    "duration": 50,
    "start_time": "2022-12-01T07:13:38.468Z"
   },
   {
    "duration": 38,
    "start_time": "2022-12-01T07:14:43.190Z"
   },
   {
    "duration": 42,
    "start_time": "2022-12-01T07:40:56.641Z"
   },
   {
    "duration": 12,
    "start_time": "2022-12-01T07:44:59.755Z"
   },
   {
    "duration": 5,
    "start_time": "2022-12-01T07:45:06.603Z"
   },
   {
    "duration": 12,
    "start_time": "2022-12-01T07:49:00.770Z"
   },
   {
    "duration": 35,
    "start_time": "2022-12-01T07:49:18.638Z"
   },
   {
    "duration": 16,
    "start_time": "2022-12-01T07:51:24.706Z"
   },
   {
    "duration": 16,
    "start_time": "2022-12-01T07:52:58.799Z"
   },
   {
    "duration": 14,
    "start_time": "2022-12-01T07:53:15.261Z"
   },
   {
    "duration": 21,
    "start_time": "2022-12-01T07:54:09.776Z"
   },
   {
    "duration": 17,
    "start_time": "2022-12-01T07:55:07.881Z"
   },
   {
    "duration": 36,
    "start_time": "2022-12-01T07:55:19.617Z"
   },
   {
    "duration": 41,
    "start_time": "2022-12-01T07:55:32.289Z"
   },
   {
    "duration": 1143,
    "start_time": "2022-12-01T08:00:05.477Z"
   },
   {
    "duration": 15,
    "start_time": "2022-12-01T08:00:09.841Z"
   },
   {
    "duration": 1139,
    "start_time": "2022-12-01T08:00:17.371Z"
   },
   {
    "duration": 56283,
    "start_time": "2022-12-01T08:00:21.417Z"
   },
   {
    "duration": 35994,
    "start_time": "2022-12-01T08:02:41.228Z"
   },
   {
    "duration": 16,
    "start_time": "2022-12-01T08:05:03.711Z"
   },
   {
    "duration": 16,
    "start_time": "2022-12-01T08:05:22.854Z"
   },
   {
    "duration": 247,
    "start_time": "2022-12-01T08:07:52.948Z"
   },
   {
    "duration": 1126,
    "start_time": "2022-12-01T08:08:19.140Z"
   },
   {
    "duration": 7,
    "start_time": "2022-12-01T08:08:24.092Z"
   },
   {
    "duration": 4,
    "start_time": "2022-12-01T08:08:26.803Z"
   },
   {
    "duration": 17,
    "start_time": "2022-12-01T08:08:28.371Z"
   },
   {
    "duration": 1186,
    "start_time": "2022-12-01T08:08:29.996Z"
   },
   {
    "duration": 345,
    "start_time": "2022-12-01T08:08:43.236Z"
   },
   {
    "duration": 332,
    "start_time": "2022-12-01T08:09:20.255Z"
   },
   {
    "duration": 36,
    "start_time": "2022-12-01T08:09:28.332Z"
   },
   {
    "duration": 36,
    "start_time": "2022-12-01T08:09:29.447Z"
   },
   {
    "duration": 20,
    "start_time": "2022-12-01T08:14:16.234Z"
   },
   {
    "duration": 8,
    "start_time": "2022-12-01T08:15:27.222Z"
   },
   {
    "duration": 34,
    "start_time": "2022-12-01T08:24:00.177Z"
   },
   {
    "duration": 16204,
    "start_time": "2022-12-01T08:24:42.050Z"
   },
   {
    "duration": 16380,
    "start_time": "2022-12-01T08:26:06.642Z"
   },
   {
    "duration": 5066,
    "start_time": "2022-12-01T08:28:10.925Z"
   },
   {
    "duration": 5058,
    "start_time": "2022-12-01T08:28:39.146Z"
   },
   {
    "duration": 5055,
    "start_time": "2022-12-01T08:29:11.717Z"
   },
   {
    "duration": 42459,
    "start_time": "2022-12-01T08:36:46.140Z"
   },
   {
    "duration": 60893,
    "start_time": "2022-12-01T08:38:50.596Z"
   },
   {
    "duration": 10227,
    "start_time": "2022-12-01T08:40:25.277Z"
   },
   {
    "duration": 20,
    "start_time": "2022-12-01T08:43:07.157Z"
   },
   {
    "duration": 483,
    "start_time": "2022-12-01T08:43:15.202Z"
   },
   {
    "duration": 32,
    "start_time": "2022-12-01T08:43:19.098Z"
   },
   {
    "duration": 25,
    "start_time": "2022-12-01T08:43:24.754Z"
   },
   {
    "duration": 3,
    "start_time": "2022-12-01T08:43:26.823Z"
   },
   {
    "duration": 11,
    "start_time": "2022-12-01T08:43:27.679Z"
   },
   {
    "duration": 5100,
    "start_time": "2022-12-01T08:43:30.171Z"
   },
   {
    "duration": 10147,
    "start_time": "2022-12-01T08:43:46.863Z"
   },
   {
    "duration": 90,
    "start_time": "2022-12-01T08:44:41.664Z"
   },
   {
    "duration": 26,
    "start_time": "2022-12-01T08:44:51.167Z"
   },
   {
    "duration": 38,
    "start_time": "2022-12-01T08:45:57.088Z"
   },
   {
    "duration": 23,
    "start_time": "2022-12-01T08:46:17.024Z"
   },
   {
    "duration": 20,
    "start_time": "2022-12-01T08:46:27.235Z"
   },
   {
    "duration": 1143,
    "start_time": "2022-12-01T08:46:41.588Z"
   },
   {
    "duration": 13,
    "start_time": "2022-12-01T08:46:42.733Z"
   },
   {
    "duration": 1120,
    "start_time": "2022-12-01T08:46:42.748Z"
   },
   {
    "duration": 9,
    "start_time": "2022-12-01T08:46:43.869Z"
   },
   {
    "duration": 168,
    "start_time": "2022-12-01T08:46:43.880Z"
   },
   {
    "duration": 32,
    "start_time": "2022-12-01T08:46:44.050Z"
   },
   {
    "duration": 806,
    "start_time": "2022-12-01T08:46:44.088Z"
   },
   {
    "duration": 212,
    "start_time": "2022-12-01T08:46:44.901Z"
   },
   {
    "duration": 80,
    "start_time": "2022-12-01T08:46:45.115Z"
   },
   {
    "duration": 210,
    "start_time": "2022-12-01T08:46:45.197Z"
   },
   {
    "duration": 32,
    "start_time": "2022-12-01T08:46:45.409Z"
   },
   {
    "duration": 5111,
    "start_time": "2022-12-01T08:46:45.443Z"
   },
   {
    "duration": 10252,
    "start_time": "2022-12-01T08:46:50.557Z"
   },
   {
    "duration": 20,
    "start_time": "2022-12-01T08:47:00.811Z"
   },
   {
    "duration": 138,
    "start_time": "2022-12-01T08:52:06.775Z"
   },
   {
    "duration": 25,
    "start_time": "2022-12-01T08:52:43.799Z"
   },
   {
    "duration": 126,
    "start_time": "2022-12-01T08:53:31.269Z"
   },
   {
    "duration": 144,
    "start_time": "2022-12-01T08:54:19.575Z"
   },
   {
    "duration": 10,
    "start_time": "2022-12-01T08:56:27.948Z"
   },
   {
    "duration": 121,
    "start_time": "2022-12-01T08:56:33.496Z"
   },
   {
    "duration": 7,
    "start_time": "2022-12-01T08:56:36.085Z"
   },
   {
    "duration": 25,
    "start_time": "2022-12-01T11:54:00.067Z"
   },
   {
    "duration": 25,
    "start_time": "2022-12-01T11:58:59.447Z"
   },
   {
    "duration": 46,
    "start_time": "2022-12-01T12:13:22.417Z"
   },
   {
    "duration": 11,
    "start_time": "2022-12-01T12:13:23.325Z"
   },
   {
    "duration": 765,
    "start_time": "2022-12-01T12:13:24.103Z"
   },
   {
    "duration": 5,
    "start_time": "2022-12-01T12:13:26.739Z"
   },
   {
    "duration": 5,
    "start_time": "2022-12-01T12:13:29.456Z"
   },
   {
    "duration": 24,
    "start_time": "2022-12-01T12:13:30.785Z"
   },
   {
    "duration": 410,
    "start_time": "2022-12-01T12:13:32.968Z"
   },
   {
    "duration": 14,
    "start_time": "2022-12-01T12:13:46.138Z"
   },
   {
    "duration": 369,
    "start_time": "2022-12-01T12:13:50.210Z"
   },
   {
    "duration": 31,
    "start_time": "2022-12-01T12:13:51.591Z"
   },
   {
    "duration": 29,
    "start_time": "2022-12-01T12:13:54.057Z"
   },
   {
    "duration": 3,
    "start_time": "2022-12-01T12:13:56.541Z"
   },
   {
    "duration": 7,
    "start_time": "2022-12-01T12:13:58.079Z"
   },
   {
    "duration": 5065,
    "start_time": "2022-12-01T12:14:00.047Z"
   },
   {
    "duration": 10073,
    "start_time": "2022-12-01T12:14:07.408Z"
   },
   {
    "duration": 30,
    "start_time": "2022-12-01T12:14:20.612Z"
   },
   {
    "duration": 4,
    "start_time": "2022-12-01T12:14:58.129Z"
   },
   {
    "duration": 17,
    "start_time": "2022-12-01T12:14:58.755Z"
   },
   {
    "duration": 475,
    "start_time": "2022-12-01T12:15:00.805Z"
   },
   {
    "duration": 34,
    "start_time": "2022-12-01T12:15:02.683Z"
   },
   {
    "duration": 25,
    "start_time": "2022-12-01T12:15:03.554Z"
   },
   {
    "duration": 3,
    "start_time": "2022-12-01T12:15:04.630Z"
   },
   {
    "duration": 8,
    "start_time": "2022-12-01T12:15:06.489Z"
   },
   {
    "duration": 5097,
    "start_time": "2022-12-01T12:15:07.260Z"
   },
   {
    "duration": 10014,
    "start_time": "2022-12-01T12:15:13.842Z"
   },
   {
    "duration": 35,
    "start_time": "2022-12-01T12:15:29.801Z"
   },
   {
    "duration": 1233,
    "start_time": "2022-12-01T12:15:41.370Z"
   },
   {
    "duration": 13,
    "start_time": "2022-12-01T12:15:42.605Z"
   },
   {
    "duration": 1121,
    "start_time": "2022-12-01T12:15:42.620Z"
   },
   {
    "duration": 5,
    "start_time": "2022-12-01T12:15:43.744Z"
   },
   {
    "duration": 162,
    "start_time": "2022-12-01T12:15:43.750Z"
   },
   {
    "duration": 25,
    "start_time": "2022-12-01T12:15:43.913Z"
   },
   {
    "duration": 646,
    "start_time": "2022-12-01T12:15:43.940Z"
   },
   {
    "duration": 210,
    "start_time": "2022-12-01T12:15:44.588Z"
   },
   {
    "duration": 278,
    "start_time": "2022-12-01T12:15:44.800Z"
   },
   {
    "duration": 106,
    "start_time": "2022-12-01T12:15:45.081Z"
   },
   {
    "duration": 9,
    "start_time": "2022-12-01T12:15:45.189Z"
   },
   {
    "duration": 5050,
    "start_time": "2022-12-01T12:15:45.200Z"
   },
   {
    "duration": 10352,
    "start_time": "2022-12-01T12:15:50.252Z"
   },
   {
    "duration": 21,
    "start_time": "2022-12-01T12:16:00.606Z"
   },
   {
    "duration": 145,
    "start_time": "2022-12-01T12:16:00.629Z"
   },
   {
    "duration": 6,
    "start_time": "2022-12-01T12:16:00.778Z"
   },
   {
    "duration": 1198,
    "start_time": "2022-12-01T12:48:27.194Z"
   },
   {
    "duration": 12,
    "start_time": "2022-12-01T12:48:31.697Z"
   },
   {
    "duration": 1140,
    "start_time": "2022-12-01T12:48:38.695Z"
   },
   {
    "duration": 6,
    "start_time": "2022-12-01T12:50:48.477Z"
   },
   {
    "duration": 146,
    "start_time": "2022-12-01T12:53:53.791Z"
   },
   {
    "duration": 21,
    "start_time": "2022-12-01T12:57:18.253Z"
   },
   {
    "duration": 101,
    "start_time": "2022-12-01T12:58:19.383Z"
   },
   {
    "duration": 107,
    "start_time": "2022-12-01T13:02:28.956Z"
   },
   {
    "duration": 1363,
    "start_time": "2022-12-01T13:03:24.324Z"
   },
   {
    "duration": 12,
    "start_time": "2022-12-01T13:03:25.689Z"
   },
   {
    "duration": 929,
    "start_time": "2022-12-01T13:03:33.433Z"
   },
   {
    "duration": 5,
    "start_time": "2022-12-01T13:03:37.581Z"
   },
   {
    "duration": 4,
    "start_time": "2022-12-01T13:03:47.446Z"
   },
   {
    "duration": 17,
    "start_time": "2022-12-01T13:03:51.758Z"
   },
   {
    "duration": 8,
    "start_time": "2022-12-01T13:07:14.747Z"
   },
   {
    "duration": 7,
    "start_time": "2022-12-01T13:07:46.615Z"
   },
   {
    "duration": 1155,
    "start_time": "2022-12-01T13:09:49.939Z"
   },
   {
    "duration": 43,
    "start_time": "2022-12-01T13:12:06.846Z"
   },
   {
    "duration": 25,
    "start_time": "2022-12-01T13:12:11.757Z"
   },
   {
    "duration": 6,
    "start_time": "2022-12-01T13:15:18.406Z"
   },
   {
    "duration": 138,
    "start_time": "2022-12-01T13:16:18.814Z"
   },
   {
    "duration": 52,
    "start_time": "2022-12-01T13:16:46.410Z"
   },
   {
    "duration": 12,
    "start_time": "2022-12-01T13:17:02.983Z"
   },
   {
    "duration": 300,
    "start_time": "2022-12-01T13:17:16.187Z"
   },
   {
    "duration": 19,
    "start_time": "2022-12-01T13:17:41.999Z"
   },
   {
    "duration": 20,
    "start_time": "2022-12-01T13:18:58.227Z"
   },
   {
    "duration": 1404,
    "start_time": "2022-12-01T13:19:26.293Z"
   },
   {
    "duration": 14,
    "start_time": "2022-12-01T13:19:27.699Z"
   },
   {
    "duration": 956,
    "start_time": "2022-12-01T13:19:30.611Z"
   },
   {
    "duration": 5,
    "start_time": "2022-12-01T13:19:32.739Z"
   },
   {
    "duration": 5,
    "start_time": "2022-12-01T13:19:35.909Z"
   },
   {
    "duration": 28,
    "start_time": "2022-12-01T13:19:37.633Z"
   },
   {
    "duration": 7,
    "start_time": "2022-12-01T13:19:40.300Z"
   },
   {
    "duration": 394,
    "start_time": "2022-12-01T13:19:43.291Z"
   },
   {
    "duration": 41,
    "start_time": "2022-12-01T13:19:48.071Z"
   },
   {
    "duration": 56,
    "start_time": "2022-12-01T13:19:51.129Z"
   },
   {
    "duration": 6,
    "start_time": "2022-12-01T13:20:42.876Z"
   },
   {
    "duration": 11,
    "start_time": "2022-12-01T13:23:20.840Z"
   },
   {
    "duration": 84,
    "start_time": "2022-12-01T13:23:23.295Z"
   },
   {
    "duration": 5105,
    "start_time": "2022-12-01T13:27:29.207Z"
   },
   {
    "duration": 10224,
    "start_time": "2022-12-01T13:27:46.856Z"
   },
   {
    "duration": 5102,
    "start_time": "2022-12-01T13:28:13.487Z"
   },
   {
    "duration": 10369,
    "start_time": "2022-12-01T13:29:59.647Z"
   },
   {
    "duration": 30370,
    "start_time": "2022-12-01T13:30:29.851Z"
   },
   {
    "duration": 30493,
    "start_time": "2022-12-01T13:31:12.721Z"
   },
   {
    "duration": 24,
    "start_time": "2022-12-01T13:35:22.354Z"
   },
   {
    "duration": 133,
    "start_time": "2022-12-01T13:37:27.170Z"
   },
   {
    "duration": 6,
    "start_time": "2022-12-01T13:37:31.663Z"
   },
   {
    "duration": 129,
    "start_time": "2022-12-01T13:41:22.137Z"
   },
   {
    "duration": 49,
    "start_time": "2022-12-01T14:20:06.056Z"
   },
   {
    "duration": 1743,
    "start_time": "2022-12-01T14:20:55.893Z"
   },
   {
    "duration": 13,
    "start_time": "2022-12-01T14:20:57.638Z"
   },
   {
    "duration": 909,
    "start_time": "2022-12-01T14:20:57.653Z"
   },
   {
    "duration": 14,
    "start_time": "2022-12-01T14:20:58.564Z"
   },
   {
    "duration": 5,
    "start_time": "2022-12-01T14:20:58.579Z"
   },
   {
    "duration": 28,
    "start_time": "2022-12-01T14:20:58.586Z"
   },
   {
    "duration": 7,
    "start_time": "2022-12-01T14:20:58.617Z"
   },
   {
    "duration": 553,
    "start_time": "2022-12-01T14:20:58.626Z"
   },
   {
    "duration": 236,
    "start_time": "2022-12-01T14:20:59.180Z"
   },
   {
    "duration": 78,
    "start_time": "2022-12-01T14:20:59.419Z"
   },
   {
    "duration": 0,
    "start_time": "2022-12-01T14:20:59.499Z"
   },
   {
    "duration": 0,
    "start_time": "2022-12-01T14:20:59.500Z"
   },
   {
    "duration": 0,
    "start_time": "2022-12-01T14:20:59.502Z"
   },
   {
    "duration": 0,
    "start_time": "2022-12-01T14:20:59.503Z"
   },
   {
    "duration": 0,
    "start_time": "2022-12-01T14:20:59.505Z"
   },
   {
    "duration": 0,
    "start_time": "2022-12-01T14:20:59.505Z"
   },
   {
    "duration": 0,
    "start_time": "2022-12-01T14:20:59.507Z"
   },
   {
    "duration": 0,
    "start_time": "2022-12-01T14:20:59.508Z"
   },
   {
    "duration": 0,
    "start_time": "2022-12-01T14:20:59.509Z"
   },
   {
    "duration": 0,
    "start_time": "2022-12-01T14:20:59.510Z"
   },
   {
    "duration": 128,
    "start_time": "2022-12-01T14:21:23.702Z"
   },
   {
    "duration": 1434,
    "start_time": "2022-12-01T14:23:59.252Z"
   },
   {
    "duration": 11,
    "start_time": "2022-12-01T14:24:00.891Z"
   },
   {
    "duration": 929,
    "start_time": "2022-12-01T14:24:03.116Z"
   },
   {
    "duration": 5,
    "start_time": "2022-12-01T14:24:06.110Z"
   },
   {
    "duration": 5,
    "start_time": "2022-12-01T14:24:08.084Z"
   },
   {
    "duration": 19,
    "start_time": "2022-12-01T14:24:21.550Z"
   },
   {
    "duration": 9,
    "start_time": "2022-12-01T14:24:30.210Z"
   },
   {
    "duration": 366,
    "start_time": "2022-12-01T14:24:33.318Z"
   },
   {
    "duration": 323,
    "start_time": "2022-12-01T14:24:58.156Z"
   },
   {
    "duration": 138,
    "start_time": "2022-12-01T14:25:00.096Z"
   },
   {
    "duration": 137,
    "start_time": "2022-12-01T14:25:00.693Z"
   },
   {
    "duration": 35,
    "start_time": "2022-12-01T14:25:02.024Z"
   },
   {
    "duration": 20,
    "start_time": "2022-12-01T14:25:05.431Z"
   },
   {
    "duration": 45,
    "start_time": "2022-12-01T14:25:06.735Z"
   },
   {
    "duration": 5,
    "start_time": "2022-12-01T14:25:07.991Z"
   },
   {
    "duration": 11,
    "start_time": "2022-12-01T14:25:11.724Z"
   },
   {
    "duration": 95,
    "start_time": "2022-12-01T14:25:12.688Z"
   },
   {
    "duration": 5080,
    "start_time": "2022-12-01T14:25:15.186Z"
   },
   {
    "duration": 30600,
    "start_time": "2022-12-01T14:25:23.432Z"
   },
   {
    "duration": 33,
    "start_time": "2022-12-01T14:26:18.523Z"
   },
   {
    "duration": 148,
    "start_time": "2022-12-01T14:26:22.930Z"
   },
   {
    "duration": 7,
    "start_time": "2022-12-01T14:26:25.588Z"
   },
   {
    "duration": 3152,
    "start_time": "2022-12-01T16:40:09.610Z"
   },
   {
    "duration": 18,
    "start_time": "2022-12-01T16:40:12.765Z"
   },
   {
    "duration": 1093,
    "start_time": "2022-12-01T16:40:12.785Z"
   },
   {
    "duration": 7,
    "start_time": "2022-12-01T16:40:13.880Z"
   },
   {
    "duration": 37,
    "start_time": "2022-12-01T16:40:13.889Z"
   },
   {
    "duration": 52,
    "start_time": "2022-12-01T16:40:13.928Z"
   },
   {
    "duration": 43,
    "start_time": "2022-12-01T16:40:18.370Z"
   },
   {
    "duration": 45,
    "start_time": "2022-12-01T16:40:38.860Z"
   },
   {
    "duration": 15,
    "start_time": "2022-12-01T16:40:55.387Z"
   },
   {
    "duration": 12,
    "start_time": "2022-12-01T16:44:10.747Z"
   },
   {
    "duration": 52,
    "start_time": "2022-12-01T17:06:37.361Z"
   },
   {
    "duration": 1724,
    "start_time": "2022-12-01T17:06:42.973Z"
   },
   {
    "duration": 16,
    "start_time": "2022-12-01T17:06:44.768Z"
   },
   {
    "duration": 913,
    "start_time": "2022-12-01T17:06:47.082Z"
   },
   {
    "duration": 1200,
    "start_time": "2022-12-01T17:07:09.279Z"
   },
   {
    "duration": 1105,
    "start_time": "2022-12-01T17:07:21.050Z"
   },
   {
    "duration": 1378,
    "start_time": "2022-12-01T17:07:28.890Z"
   },
   {
    "duration": 1264,
    "start_time": "2022-12-01T17:15:04.941Z"
   },
   {
    "duration": 1195,
    "start_time": "2022-12-01T17:15:25.233Z"
   },
   {
    "duration": 1453,
    "start_time": "2022-12-01T17:19:29.291Z"
   },
   {
    "duration": 11,
    "start_time": "2022-12-01T17:19:30.746Z"
   },
   {
    "duration": 1262,
    "start_time": "2022-12-01T17:19:31.546Z"
   },
   {
    "duration": 4,
    "start_time": "2022-12-01T17:21:50.247Z"
   },
   {
    "duration": 104,
    "start_time": "2022-12-01T17:27:16.819Z"
   },
   {
    "duration": 4,
    "start_time": "2022-12-01T17:27:30.517Z"
   },
   {
    "duration": 5,
    "start_time": "2022-12-01T17:27:36.430Z"
   },
   {
    "duration": 1173,
    "start_time": "2022-12-01T17:28:53.028Z"
   },
   {
    "duration": 1416,
    "start_time": "2022-12-01T17:29:34.329Z"
   },
   {
    "duration": 12,
    "start_time": "2022-12-01T17:29:37.000Z"
   },
   {
    "duration": 1235,
    "start_time": "2022-12-01T17:29:46.036Z"
   },
   {
    "duration": 1198,
    "start_time": "2022-12-01T17:30:08.341Z"
   },
   {
    "duration": 4,
    "start_time": "2022-12-01T17:30:40.734Z"
   },
   {
    "duration": 3,
    "start_time": "2022-12-01T17:30:57.386Z"
   },
   {
    "duration": 5,
    "start_time": "2022-12-01T17:31:00.467Z"
   },
   {
    "duration": 51,
    "start_time": "2022-12-01T17:31:17.310Z"
   },
   {
    "duration": 6,
    "start_time": "2022-12-01T17:35:38.948Z"
   },
   {
    "duration": 6,
    "start_time": "2022-12-01T17:35:45.820Z"
   },
   {
    "duration": 11,
    "start_time": "2022-12-01T17:36:22.414Z"
   },
   {
    "duration": 109,
    "start_time": "2022-12-01T17:36:41.801Z"
   },
   {
    "duration": 7,
    "start_time": "2022-12-01T17:36:48.503Z"
   },
   {
    "duration": 2335,
    "start_time": "2022-12-01T17:36:52.005Z"
   },
   {
    "duration": 1368,
    "start_time": "2022-12-01T17:37:43.471Z"
   },
   {
    "duration": 13,
    "start_time": "2022-12-01T17:37:44.840Z"
   },
   {
    "duration": 1244,
    "start_time": "2022-12-01T17:37:44.855Z"
   },
   {
    "duration": 1128,
    "start_time": "2022-12-01T17:37:46.102Z"
   },
   {
    "duration": 8,
    "start_time": "2022-12-01T17:37:47.232Z"
   },
   {
    "duration": 7,
    "start_time": "2022-12-01T17:37:47.241Z"
   },
   {
    "duration": 11,
    "start_time": "2022-12-01T17:37:55.909Z"
   },
   {
    "duration": 100,
    "start_time": "2022-12-01T17:38:15.260Z"
   },
   {
    "duration": 7,
    "start_time": "2022-12-01T17:38:20.323Z"
   },
   {
    "duration": 3286,
    "start_time": "2022-12-01T17:38:28.470Z"
   },
   {
    "duration": 40,
    "start_time": "2022-12-01T17:40:08.638Z"
   },
   {
    "duration": 41,
    "start_time": "2022-12-01T17:40:24.384Z"
   },
   {
    "duration": 11,
    "start_time": "2022-12-01T17:41:19.361Z"
   },
   {
    "duration": 21,
    "start_time": "2022-12-01T17:41:24.824Z"
   },
   {
    "duration": 15,
    "start_time": "2022-12-01T17:41:36.514Z"
   },
   {
    "duration": 7,
    "start_time": "2022-12-01T17:41:39.464Z"
   },
   {
    "duration": 647,
    "start_time": "2022-12-01T17:41:41.191Z"
   },
   {
    "duration": 37,
    "start_time": "2022-12-01T17:44:15.801Z"
   },
   {
    "duration": 736,
    "start_time": "2022-12-01T17:48:32.803Z"
   },
   {
    "duration": 32,
    "start_time": "2022-12-01T17:48:35.267Z"
   },
   {
    "duration": 36,
    "start_time": "2022-12-01T17:48:40.060Z"
   },
   {
    "duration": 150,
    "start_time": "2022-12-01T17:48:43.833Z"
   },
   {
    "duration": 141,
    "start_time": "2022-12-01T17:48:45.214Z"
   },
   {
    "duration": 247,
    "start_time": "2022-12-01T17:48:56.611Z"
   },
   {
    "duration": 139,
    "start_time": "2022-12-01T17:49:03.774Z"
   },
   {
    "duration": 36,
    "start_time": "2022-12-01T17:49:09.080Z"
   },
   {
    "duration": 24,
    "start_time": "2022-12-01T17:49:13.622Z"
   },
   {
    "duration": 6,
    "start_time": "2022-12-01T17:49:23.715Z"
   },
   {
    "duration": 11,
    "start_time": "2022-12-01T17:50:30.494Z"
   },
   {
    "duration": 178,
    "start_time": "2022-12-01T17:50:54.061Z"
   },
   {
    "duration": 5086,
    "start_time": "2022-12-01T17:51:29.209Z"
   },
   {
    "duration": 50,
    "start_time": "2022-12-01T17:52:17.180Z"
   },
   {
    "duration": 30008,
    "start_time": "2022-12-01T17:52:41.768Z"
   },
   {
    "duration": 24,
    "start_time": "2022-12-01T17:53:37.032Z"
   },
   {
    "duration": 128,
    "start_time": "2022-12-01T17:53:40.682Z"
   },
   {
    "duration": 6,
    "start_time": "2022-12-01T17:53:43.484Z"
   },
   {
    "duration": 50,
    "start_time": "2022-12-01T17:57:32.340Z"
   }
  ],
  "kernelspec": {
   "display_name": "Python 3 (ipykernel)",
   "language": "python",
   "name": "python3"
  },
  "language_info": {
   "codemirror_mode": {
    "name": "ipython",
    "version": 3
   },
   "file_extension": ".py",
   "mimetype": "text/x-python",
   "name": "python",
   "nbconvert_exporter": "python",
   "pygments_lexer": "ipython3",
   "version": "3.9.17"
  },
  "toc": {
   "base_numbering": 1,
   "nav_menu": {},
   "number_sections": true,
   "sideBar": true,
   "skip_h1_title": true,
   "title_cell": "Содержание",
   "title_sidebar": "Contents",
   "toc_cell": true,
   "toc_position": {
    "height": "calc(100% - 180px)",
    "left": "10px",
    "top": "150px",
    "width": "165px"
   },
   "toc_section_display": true,
   "toc_window_display": true
  }
 },
 "nbformat": 4,
 "nbformat_minor": 4
}
