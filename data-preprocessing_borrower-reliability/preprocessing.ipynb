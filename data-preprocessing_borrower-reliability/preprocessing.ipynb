{
 "cells": [
  {
   "cell_type": "markdown",
   "id": "2387cdcf",
   "metadata": {
    "id": "c81daeeb"
   },
   "source": [
    "# Исследование надежности заемщиков"
   ]
  },
  {
   "cell_type": "markdown",
   "id": "2046e059-d2e8-4934-a23a-eb4e3cd51e27",
   "metadata": {},
   "source": [
    "Задачей данного исследования явлется анализ имеющихся данных с помощью сводных таблиц и выявление факторов, которые могут повлиять на появление просрочки по кредиту."
   ]
  },
  {
   "cell_type": "markdown",
   "id": "4bad605a",
   "metadata": {
    "id": "744d7639"
   },
   "source": [
    "## Откроем таблицу и изучим основную информацию о данных"
   ]
  },
  {
   "cell_type": "code",
   "execution_count": 1,
   "id": "7d9197b2",
   "metadata": {
    "id": "7bcf75c9"
   },
   "outputs": [],
   "source": [
    "import pandas as pd"
   ]
  },
  {
   "cell_type": "code",
   "execution_count": 2,
   "id": "c22b8d93",
   "metadata": {
    "id": "4d240ee2"
   },
   "outputs": [],
   "source": [
    "data = pd.read_csv('datasets/data.csv')"
   ]
  },
  {
   "cell_type": "code",
   "execution_count": 3,
   "id": "706ed7ed",
   "metadata": {
    "id": "2a7cab99"
   },
   "outputs": [
    {
     "data": {
      "text/html": [
       "<div>\n",
       "<style scoped>\n",
       "    .dataframe tbody tr th:only-of-type {\n",
       "        vertical-align: middle;\n",
       "    }\n",
       "\n",
       "    .dataframe tbody tr th {\n",
       "        vertical-align: top;\n",
       "    }\n",
       "\n",
       "    .dataframe thead th {\n",
       "        text-align: right;\n",
       "    }\n",
       "</style>\n",
       "<table border=\"1\" class=\"dataframe\">\n",
       "  <thead>\n",
       "    <tr style=\"text-align: right;\">\n",
       "      <th></th>\n",
       "      <th>children</th>\n",
       "      <th>days_employed</th>\n",
       "      <th>dob_years</th>\n",
       "      <th>education</th>\n",
       "      <th>education_id</th>\n",
       "      <th>family_status</th>\n",
       "      <th>family_status_id</th>\n",
       "      <th>gender</th>\n",
       "      <th>income_type</th>\n",
       "      <th>debt</th>\n",
       "      <th>total_income</th>\n",
       "      <th>purpose</th>\n",
       "    </tr>\n",
       "  </thead>\n",
       "  <tbody>\n",
       "    <tr>\n",
       "      <th>0</th>\n",
       "      <td>1</td>\n",
       "      <td>-8437.673028</td>\n",
       "      <td>42</td>\n",
       "      <td>высшее</td>\n",
       "      <td>0</td>\n",
       "      <td>женат / замужем</td>\n",
       "      <td>0</td>\n",
       "      <td>F</td>\n",
       "      <td>сотрудник</td>\n",
       "      <td>0</td>\n",
       "      <td>253875.639453</td>\n",
       "      <td>покупка жилья</td>\n",
       "    </tr>\n",
       "    <tr>\n",
       "      <th>1</th>\n",
       "      <td>1</td>\n",
       "      <td>-4024.803754</td>\n",
       "      <td>36</td>\n",
       "      <td>среднее</td>\n",
       "      <td>1</td>\n",
       "      <td>женат / замужем</td>\n",
       "      <td>0</td>\n",
       "      <td>F</td>\n",
       "      <td>сотрудник</td>\n",
       "      <td>0</td>\n",
       "      <td>112080.014102</td>\n",
       "      <td>приобретение автомобиля</td>\n",
       "    </tr>\n",
       "    <tr>\n",
       "      <th>2</th>\n",
       "      <td>0</td>\n",
       "      <td>-5623.422610</td>\n",
       "      <td>33</td>\n",
       "      <td>Среднее</td>\n",
       "      <td>1</td>\n",
       "      <td>женат / замужем</td>\n",
       "      <td>0</td>\n",
       "      <td>M</td>\n",
       "      <td>сотрудник</td>\n",
       "      <td>0</td>\n",
       "      <td>145885.952297</td>\n",
       "      <td>покупка жилья</td>\n",
       "    </tr>\n",
       "    <tr>\n",
       "      <th>3</th>\n",
       "      <td>3</td>\n",
       "      <td>-4124.747207</td>\n",
       "      <td>32</td>\n",
       "      <td>среднее</td>\n",
       "      <td>1</td>\n",
       "      <td>женат / замужем</td>\n",
       "      <td>0</td>\n",
       "      <td>M</td>\n",
       "      <td>сотрудник</td>\n",
       "      <td>0</td>\n",
       "      <td>267628.550329</td>\n",
       "      <td>дополнительное образование</td>\n",
       "    </tr>\n",
       "    <tr>\n",
       "      <th>4</th>\n",
       "      <td>0</td>\n",
       "      <td>340266.072047</td>\n",
       "      <td>53</td>\n",
       "      <td>среднее</td>\n",
       "      <td>1</td>\n",
       "      <td>гражданский брак</td>\n",
       "      <td>1</td>\n",
       "      <td>F</td>\n",
       "      <td>пенсионер</td>\n",
       "      <td>0</td>\n",
       "      <td>158616.077870</td>\n",
       "      <td>сыграть свадьбу</td>\n",
       "    </tr>\n",
       "  </tbody>\n",
       "</table>\n",
       "</div>"
      ],
      "text/plain": [
       "   children  days_employed  dob_years education  education_id  \\\n",
       "0         1   -8437.673028         42    высшее             0   \n",
       "1         1   -4024.803754         36   среднее             1   \n",
       "2         0   -5623.422610         33   Среднее             1   \n",
       "3         3   -4124.747207         32   среднее             1   \n",
       "4         0  340266.072047         53   среднее             1   \n",
       "\n",
       "      family_status  family_status_id gender income_type  debt   total_income  \\\n",
       "0   женат / замужем                 0      F   сотрудник     0  253875.639453   \n",
       "1   женат / замужем                 0      F   сотрудник     0  112080.014102   \n",
       "2   женат / замужем                 0      M   сотрудник     0  145885.952297   \n",
       "3   женат / замужем                 0      M   сотрудник     0  267628.550329   \n",
       "4  гражданский брак                 1      F   пенсионер     0  158616.077870   \n",
       "\n",
       "                      purpose  \n",
       "0               покупка жилья  \n",
       "1     приобретение автомобиля  \n",
       "2               покупка жилья  \n",
       "3  дополнительное образование  \n",
       "4             сыграть свадьбу  "
      ]
     },
     "execution_count": 3,
     "metadata": {},
     "output_type": "execute_result"
    }
   ],
   "source": [
    "data.head()"
   ]
  },
  {
   "cell_type": "code",
   "execution_count": 4,
   "id": "aa6045fd",
   "metadata": {
    "id": "2b757bca"
   },
   "outputs": [
    {
     "name": "stdout",
     "output_type": "stream",
     "text": [
      "<class 'pandas.core.frame.DataFrame'>\n",
      "RangeIndex: 21525 entries, 0 to 21524\n",
      "Data columns (total 12 columns):\n",
      " #   Column            Non-Null Count  Dtype  \n",
      "---  ------            --------------  -----  \n",
      " 0   children          21525 non-null  int64  \n",
      " 1   days_employed     19351 non-null  float64\n",
      " 2   dob_years         21525 non-null  int64  \n",
      " 3   education         21525 non-null  object \n",
      " 4   education_id      21525 non-null  int64  \n",
      " 5   family_status     21525 non-null  object \n",
      " 6   family_status_id  21525 non-null  int64  \n",
      " 7   gender            21525 non-null  object \n",
      " 8   income_type       21525 non-null  object \n",
      " 9   debt              21525 non-null  int64  \n",
      " 10  total_income      19351 non-null  float64\n",
      " 11  purpose           21525 non-null  object \n",
      "dtypes: float64(2), int64(5), object(5)\n",
      "memory usage: 2.0+ MB\n"
     ]
    }
   ],
   "source": [
    "data.info()"
   ]
  },
  {
   "cell_type": "markdown",
   "id": "f377143d",
   "metadata": {
    "id": "333ec665"
   },
   "source": [
    "## Предобработка данных"
   ]
  },
  {
   "cell_type": "markdown",
   "id": "484dfa86",
   "metadata": {
    "id": "02d92d53"
   },
   "source": [
    "### Удаление пропусков"
   ]
  },
  {
   "cell_type": "markdown",
   "id": "e98959e1",
   "metadata": {
    "id": "cd84967c",
    "tags": [
     "start_task"
    ]
   },
   "source": [
    "Выведем количество пропущенных значений для каждого столбца."
   ]
  },
  {
   "cell_type": "code",
   "execution_count": 5,
   "id": "4c0cd164",
   "metadata": {
    "id": "7f9b2309"
   },
   "outputs": [
    {
     "name": "stdout",
     "output_type": "stream",
     "text": [
      "children               0\n",
      "days_employed       2174\n",
      "dob_years              0\n",
      "education              0\n",
      "education_id           0\n",
      "family_status          0\n",
      "family_status_id       0\n",
      "gender                 0\n",
      "income_type            0\n",
      "debt                   0\n",
      "total_income        2174\n",
      "purpose                0\n",
      "dtype: int64\n"
     ]
    }
   ],
   "source": [
    "print(data.isna().sum())"
   ]
  },
  {
   "cell_type": "markdown",
   "id": "e85886a2",
   "metadata": {
    "id": "db86e27b",
    "tags": [
     "start_task"
    ]
   },
   "source": [
    "Заменим пропущенные значения столбца `total_income` медианными значениями по каждому типу из столбца `income_type`."
   ]
  },
  {
   "cell_type": "code",
   "execution_count": 6,
   "id": "40593672",
   "metadata": {
    "id": "42006a93"
   },
   "outputs": [],
   "source": [
    "for income in data['income_type'].unique():\n",
    "    data.loc[(data['income_type'] == income) & (data['total_income'].isna()), 'total_income'] = data.loc[data['income_type'] == income, 'total_income'].median()  "
   ]
  },
  {
   "cell_type": "markdown",
   "id": "5d8472c4",
   "metadata": {
    "id": "89da5ece"
   },
   "source": [
    "### Обработка аномальных значений"
   ]
  },
  {
   "cell_type": "markdown",
   "id": "a7700a45",
   "metadata": {
    "id": "57964554",
    "tags": [
     "start_task"
    ]
   },
   "source": [
    "Заменим все отрицательные значения трудового стажа в столбце `days_employed`."
   ]
  },
  {
   "cell_type": "code",
   "execution_count": 7,
   "id": "320635cf",
   "metadata": {
    "id": "f6f055bf"
   },
   "outputs": [],
   "source": [
    "data['days_employed'] = abs(data['days_employed'])"
   ]
  },
  {
   "cell_type": "markdown",
   "id": "fcf6b9dd",
   "metadata": {
    "id": "6107dd2f",
    "tags": [
     "start_task"
    ]
   },
   "source": [
    "Для каждого типа занятости покажем медианное значение трудового стажа `days_employed`."
   ]
  },
  {
   "cell_type": "code",
   "execution_count": 8,
   "id": "43089ad9",
   "metadata": {
    "id": "85a5faf6"
   },
   "outputs": [
    {
     "name": "stdout",
     "output_type": "stream",
     "text": [
      "income_type\n",
      "безработный        366413.652744\n",
      "в декрете            3296.759962\n",
      "госслужащий          2689.368353\n",
      "компаньон            1547.382223\n",
      "пенсионер          365213.306266\n",
      "предприниматель       520.848083\n",
      "сотрудник            1574.202821\n",
      "студент               578.751554\n",
      "Name: days_employed, dtype: float64\n"
     ]
    }
   ],
   "source": [
    "print(data.groupby('income_type')['days_employed'].median())"
   ]
  },
  {
   "cell_type": "markdown",
   "id": "0698d0e0",
   "metadata": {
    "id": "38d1a030"
   },
   "source": [
    "У двух типов (безработные и пенсионеры) получатся аномально большие значения. Причина таких значений не понятна, поэтому оставим её пока без изменений."
   ]
  },
  {
   "cell_type": "markdown",
   "id": "92d96bb5",
   "metadata": {
    "id": "d8a9f147",
    "tags": [
     "start_task"
    ]
   },
   "source": [
    "Выведем перечень уникальных значений столбца `children`."
   ]
  },
  {
   "cell_type": "code",
   "execution_count": 9,
   "id": "3f5b927e",
   "metadata": {
    "id": "ef5056eb"
   },
   "outputs": [
    {
     "name": "stdout",
     "output_type": "stream",
     "text": [
      "[ 1  0  3  2 -1  4 20  5]\n"
     ]
    }
   ],
   "source": [
    "print(data['children'].unique())"
   ]
  },
  {
   "cell_type": "markdown",
   "id": "469760ef",
   "metadata": {
    "id": "40b9ebf2",
    "tags": [
     "start_task"
    ]
   },
   "source": [
    "Удалите строки, в которых встречаются аномальные значения."
   ]
  },
  {
   "cell_type": "code",
   "execution_count": 10,
   "id": "a7dd76f8",
   "metadata": {
    "id": "3ff9801d"
   },
   "outputs": [],
   "source": [
    "children_artifacts = [-1, 20]\n",
    "for artifact in children_artifacts:\n",
    "    data = data.drop(data[data['children'] == artifact].index)"
   ]
  },
  {
   "cell_type": "markdown",
   "id": "bb7b36f6",
   "metadata": {
    "id": "bbc4d0ce",
    "tags": [
     "start_task"
    ]
   },
   "source": [
    "Ещё раз выведем перечень уникальных значений столбца `children`, чтобы убедиться, что артефакты удалены."
   ]
  },
  {
   "cell_type": "code",
   "execution_count": 11,
   "id": "3d208322",
   "metadata": {
    "id": "ad4fa8b7"
   },
   "outputs": [
    {
     "name": "stdout",
     "output_type": "stream",
     "text": [
      "[1 0 3 2 4 5]\n"
     ]
    }
   ],
   "source": [
    "print(data['children'].unique())"
   ]
  },
  {
   "cell_type": "markdown",
   "id": "63e7ff10",
   "metadata": {
    "id": "f4ea573f",
    "tags": [
     "start_task"
    ]
   },
   "source": [
    "Заполним пропуски в столбце `days_employed` медианными значениями по каждому типу занятости `income_type`."
   ]
  },
  {
   "cell_type": "code",
   "execution_count": 12,
   "id": "808de4ab",
   "metadata": {
    "id": "af6b1a7e"
   },
   "outputs": [],
   "source": [
    "for income in data['income_type'].unique():\n",
    "    data.loc[(data['income_type'] == income) & (data['days_employed'].isna()), 'days_employed'] = data.loc[data['income_type'] == income, 'days_employed'].median()  "
   ]
  },
  {
   "cell_type": "markdown",
   "id": "c22bdbcf",
   "metadata": {
    "id": "2753f40d",
    "tags": [
     "start_task"
    ]
   },
   "source": [
    "Убедимся, что все пропуски заполнены."
   ]
  },
  {
   "cell_type": "code",
   "execution_count": 13,
   "id": "abe99c0e",
   "metadata": {
    "id": "55f78bc2"
   },
   "outputs": [
    {
     "name": "stdout",
     "output_type": "stream",
     "text": [
      "children            0\n",
      "days_employed       0\n",
      "dob_years           0\n",
      "education           0\n",
      "education_id        0\n",
      "family_status       0\n",
      "family_status_id    0\n",
      "gender              0\n",
      "income_type         0\n",
      "debt                0\n",
      "total_income        0\n",
      "purpose             0\n",
      "dtype: int64\n"
     ]
    }
   ],
   "source": [
    "print(data.isna().sum())"
   ]
  },
  {
   "cell_type": "markdown",
   "id": "72014472",
   "metadata": {
    "id": "ddc81e43"
   },
   "source": [
    "### Изменение типов данных"
   ]
  },
  {
   "cell_type": "markdown",
   "id": "d19d416c",
   "metadata": {
    "id": "42d19d24",
    "tags": [
     "start_task"
    ]
   },
   "source": [
    "Заменим вещественный тип данных в столбце `total_income` на целочисленный."
   ]
  },
  {
   "cell_type": "code",
   "execution_count": 14,
   "id": "f016a89b",
   "metadata": {
    "id": "920b65ad"
   },
   "outputs": [],
   "source": [
    "data['total_income'] = data['total_income'].astype('int')"
   ]
  },
  {
   "cell_type": "markdown",
   "id": "4538873b",
   "metadata": {
    "id": "80c420ba"
   },
   "source": [
    "### Обработка дубликатов"
   ]
  },
  {
   "cell_type": "code",
   "execution_count": 15,
   "id": "2f3bcd1a-ac0b-45d0-a8ec-335101de38af",
   "metadata": {},
   "outputs": [
    {
     "data": {
      "text/plain": [
       "array(['высшее', 'среднее', 'Среднее', 'СРЕДНЕЕ', 'ВЫСШЕЕ',\n",
       "       'неоконченное высшее', 'начальное', 'Высшее',\n",
       "       'НЕОКОНЧЕННОЕ ВЫСШЕЕ', 'Неоконченное высшее', 'НАЧАЛЬНОЕ',\n",
       "       'Начальное', 'Ученая степень', 'УЧЕНАЯ СТЕПЕНЬ', 'ученая степень'],\n",
       "      dtype=object)"
      ]
     },
     "execution_count": 15,
     "metadata": {},
     "output_type": "execute_result"
    }
   ],
   "source": [
    "data['education'].unique()"
   ]
  },
  {
   "cell_type": "markdown",
   "id": "95a8a4c1",
   "metadata": {
    "tags": [
     "start_task"
    ]
   },
   "source": [
    "Обработаеv неявные дубликаты в столбце `education`, приведём их к нижнему регистру."
   ]
  },
  {
   "cell_type": "code",
   "execution_count": 16,
   "id": "e6bd872d",
   "metadata": {},
   "outputs": [],
   "source": [
    "data['education'] = data['education'].str.lower()"
   ]
  },
  {
   "cell_type": "markdown",
   "id": "e72bd6bf",
   "metadata": {
    "id": "dc587695",
    "tags": [
     "start_task"
    ]
   },
   "source": [
    "**Задание 15. Выведите на экран количество строк-дубликатов в данных. Если такие строки присутствуют, удалите их.**"
   ]
  },
  {
   "cell_type": "code",
   "execution_count": 17,
   "id": "d1f5aeb6",
   "metadata": {
    "id": "3ee445e4"
   },
   "outputs": [
    {
     "data": {
      "text/plain": [
       "71"
      ]
     },
     "execution_count": 17,
     "metadata": {},
     "output_type": "execute_result"
    }
   ],
   "source": [
    "data.duplicated().sum()"
   ]
  },
  {
   "cell_type": "code",
   "execution_count": 18,
   "id": "4dad850c",
   "metadata": {
    "id": "8575fe05"
   },
   "outputs": [],
   "source": [
    "data = data.drop_duplicates(keep='first')"
   ]
  },
  {
   "cell_type": "markdown",
   "id": "abcbce81",
   "metadata": {
    "id": "9904cf55"
   },
   "source": [
    "### Категоризация данных"
   ]
  },
  {
   "cell_type": "markdown",
   "id": "be986b4c",
   "metadata": {
    "id": "72fcc8a2",
    "tags": [
     "start_task"
    ]
   },
   "source": [
    "На основании заданных диапазонов создадим в датафрейме `data` столбец `total_income_category` с категориями:\n",
    "\n",
    "- 0–30000 — `'E'`;\n",
    "- 30001–50000 — `'D'`;\n",
    "- 50001–200000 — `'C'`;\n",
    "- 200001–1000000 — `'B'`;\n",
    "- 1000001 и выше — `'A'`."
   ]
  },
  {
   "cell_type": "code",
   "execution_count": 19,
   "id": "90e3822a",
   "metadata": {
    "id": "e1771346"
   },
   "outputs": [],
   "source": [
    "def categorize_income(income):\n",
    "    if income > 1000000:\n",
    "        return 'A'\n",
    "    elif income > 200000:\n",
    "        return 'B'\n",
    "    elif income > 50000:\n",
    "        return 'C'\n",
    "    elif income > 30000:\n",
    "        return 'D'\n",
    "    else:\n",
    "        return 'E'"
   ]
  },
  {
   "cell_type": "code",
   "execution_count": 20,
   "id": "dba0f3e6",
   "metadata": {
    "id": "d5f3586d"
   },
   "outputs": [],
   "source": [
    "data['total_income_category'] = data['total_income'].apply(categorize_income)"
   ]
  },
  {
   "cell_type": "markdown",
   "id": "03a1c4e6",
   "metadata": {
    "id": "dde49b5c",
    "tags": [
     "start_task"
    ]
   },
   "source": [
    "Выведем на экран перечень уникальных целей взятия кредита из столбца `purpose`."
   ]
  },
  {
   "cell_type": "code",
   "execution_count": 21,
   "id": "0eb82863",
   "metadata": {
    "id": "f67ce9b3"
   },
   "outputs": [
    {
     "name": "stdout",
     "output_type": "stream",
     "text": [
      "['покупка жилья' 'приобретение автомобиля' 'дополнительное образование'\n",
      " 'сыграть свадьбу' 'операции с жильем' 'образование'\n",
      " 'на проведение свадьбы' 'покупка жилья для семьи' 'покупка недвижимости'\n",
      " 'покупка коммерческой недвижимости' 'покупка жилой недвижимости'\n",
      " 'строительство собственной недвижимости' 'недвижимость'\n",
      " 'строительство недвижимости' 'на покупку подержанного автомобиля'\n",
      " 'на покупку своего автомобиля' 'операции с коммерческой недвижимостью'\n",
      " 'строительство жилой недвижимости' 'жилье'\n",
      " 'операции со своей недвижимостью' 'автомобили' 'заняться образованием'\n",
      " 'сделка с подержанным автомобилем' 'получение образования' 'автомобиль'\n",
      " 'свадьба' 'получение дополнительного образования' 'покупка своего жилья'\n",
      " 'операции с недвижимостью' 'получение высшего образования'\n",
      " 'свой автомобиль' 'сделка с автомобилем' 'профильное образование'\n",
      " 'высшее образование' 'покупка жилья для сдачи' 'на покупку автомобиля'\n",
      " 'ремонт жилью' 'заняться высшим образованием']\n"
     ]
    }
   ],
   "source": [
    "print(data['purpose'].unique())"
   ]
  },
  {
   "cell_type": "markdown",
   "id": "b8173472",
   "metadata": {
    "id": "85d0aef0",
    "tags": [
     "start_task"
    ]
   },
   "source": [
    "Создадим функцию, которая на основании данных из столбца `purpose` сформирует новый столбец `purpose_category`, в который войдут следующие категории:\n",
    "\n",
    "- `'операции с автомобилем'`,\n",
    "- `'операции с недвижимостью'`,\n",
    "- `'проведение свадьбы'`,\n",
    "- `'получение образования'`."
   ]
  },
  {
   "cell_type": "code",
   "execution_count": 22,
   "id": "63dd3694",
   "metadata": {
    "id": "e149fab4"
   },
   "outputs": [],
   "source": [
    "def categorize_purpose(purpose):\n",
    "    if 'автомобил' in purpose:\n",
    "        return 'операции с автомобилем'\n",
    "    elif 'жиль' in purpose or 'недвижим' in purpose:\n",
    "        return 'операции с недвижимостью'\n",
    "    elif 'свадьб' in purpose:\n",
    "        return 'проведение свадьбы'\n",
    "    elif 'образован' in purpose:\n",
    "        return 'получение образования'\n",
    "    else:\n",
    "        return 'без категории'"
   ]
  },
  {
   "cell_type": "code",
   "execution_count": 23,
   "id": "bbd1f2b0",
   "metadata": {
    "id": "bf36e69b"
   },
   "outputs": [],
   "source": [
    "data['purpose_category'] = data['purpose'].apply(categorize_purpose)"
   ]
  },
  {
   "cell_type": "code",
   "execution_count": 24,
   "id": "3c303a1c",
   "metadata": {},
   "outputs": [
    {
     "data": {
      "text/html": [
       "<div>\n",
       "<style scoped>\n",
       "    .dataframe tbody tr th:only-of-type {\n",
       "        vertical-align: middle;\n",
       "    }\n",
       "\n",
       "    .dataframe tbody tr th {\n",
       "        vertical-align: top;\n",
       "    }\n",
       "\n",
       "    .dataframe thead th {\n",
       "        text-align: right;\n",
       "    }\n",
       "</style>\n",
       "<table border=\"1\" class=\"dataframe\">\n",
       "  <thead>\n",
       "    <tr style=\"text-align: right;\">\n",
       "      <th></th>\n",
       "      <th>children</th>\n",
       "      <th>days_employed</th>\n",
       "      <th>dob_years</th>\n",
       "      <th>education</th>\n",
       "      <th>education_id</th>\n",
       "      <th>family_status</th>\n",
       "      <th>family_status_id</th>\n",
       "      <th>gender</th>\n",
       "      <th>income_type</th>\n",
       "      <th>debt</th>\n",
       "      <th>total_income</th>\n",
       "      <th>purpose</th>\n",
       "      <th>total_income_category</th>\n",
       "      <th>purpose_category</th>\n",
       "    </tr>\n",
       "  </thead>\n",
       "  <tbody>\n",
       "    <tr>\n",
       "      <th>0</th>\n",
       "      <td>1</td>\n",
       "      <td>8437.673028</td>\n",
       "      <td>42</td>\n",
       "      <td>высшее</td>\n",
       "      <td>0</td>\n",
       "      <td>женат / замужем</td>\n",
       "      <td>0</td>\n",
       "      <td>F</td>\n",
       "      <td>сотрудник</td>\n",
       "      <td>0</td>\n",
       "      <td>253875</td>\n",
       "      <td>покупка жилья</td>\n",
       "      <td>B</td>\n",
       "      <td>операции с недвижимостью</td>\n",
       "    </tr>\n",
       "    <tr>\n",
       "      <th>1</th>\n",
       "      <td>1</td>\n",
       "      <td>4024.803754</td>\n",
       "      <td>36</td>\n",
       "      <td>среднее</td>\n",
       "      <td>1</td>\n",
       "      <td>женат / замужем</td>\n",
       "      <td>0</td>\n",
       "      <td>F</td>\n",
       "      <td>сотрудник</td>\n",
       "      <td>0</td>\n",
       "      <td>112080</td>\n",
       "      <td>приобретение автомобиля</td>\n",
       "      <td>C</td>\n",
       "      <td>операции с автомобилем</td>\n",
       "    </tr>\n",
       "    <tr>\n",
       "      <th>2</th>\n",
       "      <td>0</td>\n",
       "      <td>5623.422610</td>\n",
       "      <td>33</td>\n",
       "      <td>среднее</td>\n",
       "      <td>1</td>\n",
       "      <td>женат / замужем</td>\n",
       "      <td>0</td>\n",
       "      <td>M</td>\n",
       "      <td>сотрудник</td>\n",
       "      <td>0</td>\n",
       "      <td>145885</td>\n",
       "      <td>покупка жилья</td>\n",
       "      <td>C</td>\n",
       "      <td>операции с недвижимостью</td>\n",
       "    </tr>\n",
       "    <tr>\n",
       "      <th>3</th>\n",
       "      <td>3</td>\n",
       "      <td>4124.747207</td>\n",
       "      <td>32</td>\n",
       "      <td>среднее</td>\n",
       "      <td>1</td>\n",
       "      <td>женат / замужем</td>\n",
       "      <td>0</td>\n",
       "      <td>M</td>\n",
       "      <td>сотрудник</td>\n",
       "      <td>0</td>\n",
       "      <td>267628</td>\n",
       "      <td>дополнительное образование</td>\n",
       "      <td>B</td>\n",
       "      <td>получение образования</td>\n",
       "    </tr>\n",
       "    <tr>\n",
       "      <th>4</th>\n",
       "      <td>0</td>\n",
       "      <td>340266.072047</td>\n",
       "      <td>53</td>\n",
       "      <td>среднее</td>\n",
       "      <td>1</td>\n",
       "      <td>гражданский брак</td>\n",
       "      <td>1</td>\n",
       "      <td>F</td>\n",
       "      <td>пенсионер</td>\n",
       "      <td>0</td>\n",
       "      <td>158616</td>\n",
       "      <td>сыграть свадьбу</td>\n",
       "      <td>C</td>\n",
       "      <td>проведение свадьбы</td>\n",
       "    </tr>\n",
       "  </tbody>\n",
       "</table>\n",
       "</div>"
      ],
      "text/plain": [
       "   children  days_employed  dob_years education  education_id  \\\n",
       "0         1    8437.673028         42    высшее             0   \n",
       "1         1    4024.803754         36   среднее             1   \n",
       "2         0    5623.422610         33   среднее             1   \n",
       "3         3    4124.747207         32   среднее             1   \n",
       "4         0  340266.072047         53   среднее             1   \n",
       "\n",
       "      family_status  family_status_id gender income_type  debt  total_income  \\\n",
       "0   женат / замужем                 0      F   сотрудник     0        253875   \n",
       "1   женат / замужем                 0      F   сотрудник     0        112080   \n",
       "2   женат / замужем                 0      M   сотрудник     0        145885   \n",
       "3   женат / замужем                 0      M   сотрудник     0        267628   \n",
       "4  гражданский брак                 1      F   пенсионер     0        158616   \n",
       "\n",
       "                      purpose total_income_category          purpose_category  \n",
       "0               покупка жилья                     B  операции с недвижимостью  \n",
       "1     приобретение автомобиля                     C    операции с автомобилем  \n",
       "2               покупка жилья                     C  операции с недвижимостью  \n",
       "3  дополнительное образование                     B     получение образования  \n",
       "4             сыграть свадьбу                     C        проведение свадьбы  "
      ]
     },
     "execution_count": 24,
     "metadata": {},
     "output_type": "execute_result"
    }
   ],
   "source": [
    "data.head()"
   ]
  },
  {
   "cell_type": "markdown",
   "id": "6ac48597-5541-4088-bab3-76922320a564",
   "metadata": {
    "id": "09b242bf"
   },
   "source": [
    "### Исследование  данных и поиск ответов а вопросы."
   ]
  },
  {
   "cell_type": "markdown",
   "id": "7e1d8a54-b5fc-4e24-a3f8-be82b24896f8",
   "metadata": {
    "id": "c5d66278"
   },
   "source": [
    "#### Есть ли зависимость между количеством детей и возвратом кредита в срок?"
   ]
  },
  {
   "cell_type": "code",
   "execution_count": 25,
   "id": "638eb820-3d9a-49da-a24d-d8069bd0f55d",
   "metadata": {
    "id": "2cacfc4a"
   },
   "outputs": [],
   "source": [
    "def make_pivot_debt(criteria, data):\n",
    "    debt_pivot = data.pivot_table(index=criteria, values='debt', aggfunc={'count', 'sum', 'mean'})\n",
    "    debt_pivot['sum'] = debt_pivot['sum'].astype('int')\n",
    "    debt_pivot['count'] = debt_pivot['count'].astype('int')\n",
    "    debt_pivot = debt_pivot.rename(columns={'count':'Кол-во заёмщиков', 'sum': 'Кол-во должников', 'mean': 'Доля должников'})\n",
    "    return debt_pivot\n",
    "\n",
    "def graph_pivot_debt(criteria, data):\n",
    "    debt_pivot = make_pivot_debt(criteria, data)\n",
    "    debt_pivot['Доля должников'].plot(kind='bar')\n",
    "    return"
   ]
  },
  {
   "cell_type": "code",
   "execution_count": 26,
   "id": "376e125e-7c8c-4875-86ae-b51f1c4869d0",
   "metadata": {},
   "outputs": [
    {
     "data": {
      "text/html": [
       "<div>\n",
       "<style scoped>\n",
       "    .dataframe tbody tr th:only-of-type {\n",
       "        vertical-align: middle;\n",
       "    }\n",
       "\n",
       "    .dataframe tbody tr th {\n",
       "        vertical-align: top;\n",
       "    }\n",
       "\n",
       "    .dataframe thead th {\n",
       "        text-align: right;\n",
       "    }\n",
       "</style>\n",
       "<table border=\"1\" class=\"dataframe\">\n",
       "  <thead>\n",
       "    <tr style=\"text-align: right;\">\n",
       "      <th></th>\n",
       "      <th>Кол-во заёмщиков</th>\n",
       "      <th>Доля должников</th>\n",
       "      <th>Кол-во должников</th>\n",
       "    </tr>\n",
       "    <tr>\n",
       "      <th>children</th>\n",
       "      <th></th>\n",
       "      <th></th>\n",
       "      <th></th>\n",
       "    </tr>\n",
       "  </thead>\n",
       "  <tbody>\n",
       "    <tr>\n",
       "      <th>0</th>\n",
       "      <td>14091</td>\n",
       "      <td>0.075438</td>\n",
       "      <td>1063</td>\n",
       "    </tr>\n",
       "    <tr>\n",
       "      <th>1</th>\n",
       "      <td>4808</td>\n",
       "      <td>0.092346</td>\n",
       "      <td>444</td>\n",
       "    </tr>\n",
       "    <tr>\n",
       "      <th>2</th>\n",
       "      <td>2052</td>\n",
       "      <td>0.094542</td>\n",
       "      <td>194</td>\n",
       "    </tr>\n",
       "    <tr>\n",
       "      <th>3</th>\n",
       "      <td>330</td>\n",
       "      <td>0.081818</td>\n",
       "      <td>27</td>\n",
       "    </tr>\n",
       "    <tr>\n",
       "      <th>4</th>\n",
       "      <td>41</td>\n",
       "      <td>0.097561</td>\n",
       "      <td>4</td>\n",
       "    </tr>\n",
       "    <tr>\n",
       "      <th>5</th>\n",
       "      <td>9</td>\n",
       "      <td>0.000000</td>\n",
       "      <td>0</td>\n",
       "    </tr>\n",
       "  </tbody>\n",
       "</table>\n",
       "</div>"
      ],
      "text/plain": [
       "          Кол-во заёмщиков  Доля должников  Кол-во должников\n",
       "children                                                    \n",
       "0                    14091        0.075438              1063\n",
       "1                     4808        0.092346               444\n",
       "2                     2052        0.094542               194\n",
       "3                      330        0.081818                27\n",
       "4                       41        0.097561                 4\n",
       "5                        9        0.000000                 0"
      ]
     },
     "execution_count": 26,
     "metadata": {},
     "output_type": "execute_result"
    }
   ],
   "source": [
    "make_pivot_debt('children', data)"
   ]
  },
  {
   "cell_type": "code",
   "execution_count": 27,
   "id": "7e40b6b7-c147-4898-be65-19b03d7c971e",
   "metadata": {},
   "outputs": [
    {
     "data": {
      "image/png": "[encoded data removed]",
      "text/plain": [
       "<Figure size 640x480 with 1 Axes>"
      ]
     },
     "metadata": {},
     "output_type": "display_data"
    }
   ],
   "source": [
    "graph_pivot_debt('children', data)"
   ]
  },
  {
   "cell_type": "markdown",
   "id": "6f74e3ec-1fc9-4c0a-a006-6611376ecef7",
   "metadata": {
    "id": "3a6b99ec"
   },
   "source": [
    "**Вывод:** \n",
    "График показывает, что чем больше у кредиторов детей, тем чаще они чаще они нарушают срок возврата кредита.\n",
    "Данные по клиентам с пятью детьми не показательны в виду их малого количества."
   ]
  },
  {
   "cell_type": "markdown",
   "id": "ec25ad26-6c09-48bd-b14d-252dfdd03b6d",
   "metadata": {
    "id": "97be82ca"
   },
   "source": [
    "#### Есть ли зависимость между семейным положением и возвратом кредита в срок?"
   ]
  },
  {
   "cell_type": "code",
   "execution_count": 28,
   "id": "5234f504-5de3-44f0-acb5-a1b93473ed9a",
   "metadata": {
    "id": "dc3f7ee8"
   },
   "outputs": [
    {
     "data": {
      "text/html": [
       "<div>\n",
       "<style scoped>\n",
       "    .dataframe tbody tr th:only-of-type {\n",
       "        vertical-align: middle;\n",
       "    }\n",
       "\n",
       "    .dataframe tbody tr th {\n",
       "        vertical-align: top;\n",
       "    }\n",
       "\n",
       "    .dataframe thead th {\n",
       "        text-align: right;\n",
       "    }\n",
       "</style>\n",
       "<table border=\"1\" class=\"dataframe\">\n",
       "  <thead>\n",
       "    <tr style=\"text-align: right;\">\n",
       "      <th></th>\n",
       "      <th>Кол-во заёмщиков</th>\n",
       "      <th>Доля должников</th>\n",
       "      <th>Кол-во должников</th>\n",
       "    </tr>\n",
       "    <tr>\n",
       "      <th>family_status</th>\n",
       "      <th></th>\n",
       "      <th></th>\n",
       "      <th></th>\n",
       "    </tr>\n",
       "  </thead>\n",
       "  <tbody>\n",
       "    <tr>\n",
       "      <th>Не женат / не замужем</th>\n",
       "      <td>2796</td>\n",
       "      <td>0.097639</td>\n",
       "      <td>273</td>\n",
       "    </tr>\n",
       "    <tr>\n",
       "      <th>в разводе</th>\n",
       "      <td>1189</td>\n",
       "      <td>0.070648</td>\n",
       "      <td>84</td>\n",
       "    </tr>\n",
       "    <tr>\n",
       "      <th>вдовец / вдова</th>\n",
       "      <td>951</td>\n",
       "      <td>0.066246</td>\n",
       "      <td>63</td>\n",
       "    </tr>\n",
       "    <tr>\n",
       "      <th>гражданский брак</th>\n",
       "      <td>4134</td>\n",
       "      <td>0.093130</td>\n",
       "      <td>385</td>\n",
       "    </tr>\n",
       "    <tr>\n",
       "      <th>женат / замужем</th>\n",
       "      <td>12261</td>\n",
       "      <td>0.075606</td>\n",
       "      <td>927</td>\n",
       "    </tr>\n",
       "  </tbody>\n",
       "</table>\n",
       "</div>"
      ],
      "text/plain": [
       "                       Кол-во заёмщиков  Доля должников  Кол-во должников\n",
       "family_status                                                            \n",
       "Не женат / не замужем              2796        0.097639               273\n",
       "в разводе                          1189        0.070648                84\n",
       "вдовец / вдова                      951        0.066246                63\n",
       "гражданский брак                   4134        0.093130               385\n",
       "женат / замужем                   12261        0.075606               927"
      ]
     },
     "execution_count": 28,
     "metadata": {},
     "output_type": "execute_result"
    }
   ],
   "source": [
    "make_pivot_debt('family_status', data)"
   ]
  },
  {
   "cell_type": "code",
   "execution_count": 29,
   "id": "15625d02-5377-40cd-b546-bd3da941af5a",
   "metadata": {},
   "outputs": [
    {
     "data": {
      "image/png": "[encoded data removed]",
      "text/plain": [
       "<Figure size 640x480 with 1 Axes>"
      ]
     },
     "metadata": {},
     "output_type": "display_data"
    }
   ],
   "source": [
    "graph_pivot_debt('family_status', data)"
   ]
  },
  {
   "cell_type": "markdown",
   "id": "85111268-bb94-4e57-adf8-15fc4afdf712",
   "metadata": {
    "id": "1cef7837"
   },
   "source": [
    "**Вывод:** клиенты с официально зарегистрированным семейным положением чаще выплачивают кредиты в срок."
   ]
  },
  {
   "cell_type": "markdown",
   "id": "bb667c43-b26f-40c7-b9c7-34e7e0d13903",
   "metadata": {
    "id": "1e8b2fca"
   },
   "source": [
    "#### Есть ли зависимость между уровнем дохода и возвратом кредита в срок?"
   ]
  },
  {
   "cell_type": "code",
   "execution_count": 30,
   "id": "7cefe44c-66bc-4f74-9f50-5c649fa59e99",
   "metadata": {
    "id": "cd7e3720"
   },
   "outputs": [
    {
     "data": {
      "text/html": [
       "<div>\n",
       "<style scoped>\n",
       "    .dataframe tbody tr th:only-of-type {\n",
       "        vertical-align: middle;\n",
       "    }\n",
       "\n",
       "    .dataframe tbody tr th {\n",
       "        vertical-align: top;\n",
       "    }\n",
       "\n",
       "    .dataframe thead th {\n",
       "        text-align: right;\n",
       "    }\n",
       "</style>\n",
       "<table border=\"1\" class=\"dataframe\">\n",
       "  <thead>\n",
       "    <tr style=\"text-align: right;\">\n",
       "      <th></th>\n",
       "      <th>Кол-во заёмщиков</th>\n",
       "      <th>Доля должников</th>\n",
       "      <th>Кол-во должников</th>\n",
       "    </tr>\n",
       "    <tr>\n",
       "      <th>total_income_category</th>\n",
       "      <th></th>\n",
       "      <th></th>\n",
       "      <th></th>\n",
       "    </tr>\n",
       "  </thead>\n",
       "  <tbody>\n",
       "    <tr>\n",
       "      <th>A</th>\n",
       "      <td>25</td>\n",
       "      <td>0.080000</td>\n",
       "      <td>2</td>\n",
       "    </tr>\n",
       "    <tr>\n",
       "      <th>B</th>\n",
       "      <td>5014</td>\n",
       "      <td>0.070602</td>\n",
       "      <td>354</td>\n",
       "    </tr>\n",
       "    <tr>\n",
       "      <th>C</th>\n",
       "      <td>15921</td>\n",
       "      <td>0.084982</td>\n",
       "      <td>1353</td>\n",
       "    </tr>\n",
       "    <tr>\n",
       "      <th>D</th>\n",
       "      <td>349</td>\n",
       "      <td>0.060172</td>\n",
       "      <td>21</td>\n",
       "    </tr>\n",
       "    <tr>\n",
       "      <th>E</th>\n",
       "      <td>22</td>\n",
       "      <td>0.090909</td>\n",
       "      <td>2</td>\n",
       "    </tr>\n",
       "  </tbody>\n",
       "</table>\n",
       "</div>"
      ],
      "text/plain": [
       "                       Кол-во заёмщиков  Доля должников  Кол-во должников\n",
       "total_income_category                                                    \n",
       "A                                    25        0.080000                 2\n",
       "B                                  5014        0.070602               354\n",
       "C                                 15921        0.084982              1353\n",
       "D                                   349        0.060172                21\n",
       "E                                    22        0.090909                 2"
      ]
     },
     "execution_count": 30,
     "metadata": {},
     "output_type": "execute_result"
    }
   ],
   "source": [
    "make_pivot_debt('total_income_category', data)"
   ]
  },
  {
   "cell_type": "code",
   "execution_count": 31,
   "id": "0e171989-79d0-4c12-b76b-c91581609f6f",
   "metadata": {},
   "outputs": [
    {
     "data": {
      "image/png": "[encoded data removed]",
      "text/plain": [
       "<Figure size 640x480 with 1 Axes>"
      ]
     },
     "metadata": {},
     "output_type": "display_data"
    }
   ],
   "source": [
    "graph_pivot_debt('total_income_category', data)"
   ]
  },
  {
   "cell_type": "markdown",
   "id": "c9af3a3e-240c-46c7-a62c-a705cf6d862d",
   "metadata": {
    "id": "e8593def"
   },
   "source": [
    "**Вывод:** Почти все заемщики относятся к категориям 'B' и 'C', случаи просрочки платежей составляют соответственно 7.1% и 8.5%. Количество данных по другим категориям незначительно для формулирования определённых выводов."
   ]
  },
  {
   "cell_type": "markdown",
   "id": "d8f1fd5a-d7c0-4931-b0aa-4f056abd4300",
   "metadata": {
    "id": "99ecbd1f"
   },
   "source": [
    "#### Как разные цели кредита влияют на его возврат в срок?"
   ]
  },
  {
   "cell_type": "code",
   "execution_count": 32,
   "id": "87dc3132-76bc-4df9-9848-d17e6c15ca90",
   "metadata": {
    "id": "2b687290"
   },
   "outputs": [
    {
     "data": {
      "text/html": [
       "<div>\n",
       "<style scoped>\n",
       "    .dataframe tbody tr th:only-of-type {\n",
       "        vertical-align: middle;\n",
       "    }\n",
       "\n",
       "    .dataframe tbody tr th {\n",
       "        vertical-align: top;\n",
       "    }\n",
       "\n",
       "    .dataframe thead th {\n",
       "        text-align: right;\n",
       "    }\n",
       "</style>\n",
       "<table border=\"1\" class=\"dataframe\">\n",
       "  <thead>\n",
       "    <tr style=\"text-align: right;\">\n",
       "      <th></th>\n",
       "      <th>Кол-во заёмщиков</th>\n",
       "      <th>Доля должников</th>\n",
       "      <th>Кол-во должников</th>\n",
       "    </tr>\n",
       "    <tr>\n",
       "      <th>purpose_category</th>\n",
       "      <th></th>\n",
       "      <th></th>\n",
       "      <th></th>\n",
       "    </tr>\n",
       "  </thead>\n",
       "  <tbody>\n",
       "    <tr>\n",
       "      <th>операции с автомобилем</th>\n",
       "      <td>4279</td>\n",
       "      <td>0.093480</td>\n",
       "      <td>400</td>\n",
       "    </tr>\n",
       "    <tr>\n",
       "      <th>операции с недвижимостью</th>\n",
       "      <td>10751</td>\n",
       "      <td>0.072551</td>\n",
       "      <td>780</td>\n",
       "    </tr>\n",
       "    <tr>\n",
       "      <th>получение образования</th>\n",
       "      <td>3988</td>\n",
       "      <td>0.092528</td>\n",
       "      <td>369</td>\n",
       "    </tr>\n",
       "    <tr>\n",
       "      <th>проведение свадьбы</th>\n",
       "      <td>2313</td>\n",
       "      <td>0.079118</td>\n",
       "      <td>183</td>\n",
       "    </tr>\n",
       "  </tbody>\n",
       "</table>\n",
       "</div>"
      ],
      "text/plain": [
       "                          Кол-во заёмщиков  Доля должников  Кол-во должников\n",
       "purpose_category                                                            \n",
       "операции с автомобилем                4279        0.093480               400\n",
       "операции с недвижимостью             10751        0.072551               780\n",
       "получение образования                 3988        0.092528               369\n",
       "проведение свадьбы                    2313        0.079118               183"
      ]
     },
     "execution_count": 32,
     "metadata": {},
     "output_type": "execute_result"
    }
   ],
   "source": [
    "make_pivot_debt('purpose_category', data)"
   ]
  },
  {
   "cell_type": "code",
   "execution_count": 33,
   "id": "bde71748-a17c-4732-b2c2-28fb728fbe3a",
   "metadata": {},
   "outputs": [
    {
     "data": {
      "image/png": "[encoded data removed]",
      "text/plain": [
       "<Figure size 640x480 with 1 Axes>"
      ]
     },
     "metadata": {},
     "output_type": "display_data"
    }
   ],
   "source": [
    "graph_pivot_debt('purpose_category', data)"
   ]
  },
  {
   "cell_type": "markdown",
   "id": "ee071b76-ca67-46c9-a836-ff837d154adb",
   "metadata": {
    "id": "b4bb2ce6"
   },
   "source": [
    "**Вывод:** по кредитам на операции с автомобилем и на получение образования наблюдается большее количество просрочек, чем по кредитам на операции с недвижимостью и на проведение свадьбы."
   ]
  },
  {
   "cell_type": "markdown",
   "id": "e4a11d6f-ead2-4723-99d9-2fc91fb12a42",
   "metadata": {
    "id": "09c3ac4c"
   },
   "source": [
    "#### Возможные причины появления пропусков в исходных данных."
   ]
  },
  {
   "cell_type": "markdown",
   "id": "a1d6a209-4c3d-4bae-badd-40c9da4d1696",
   "metadata": {
    "id": "9da2ceda"
   },
   "source": [
    "Пропуски в данных о трудовом стаже и уровне заработка могли возникнуть из-за нежелания клиентов раскрывать реальные значения этих цифр, либо в случае системной ошибки при сборе данных. Отрицательные значение в трудовом стаже могли появиться, например, из-за того, что данные о нём указывались через тире (-), и таким образом неправильно интерпретировались как знак \"-\" перед числом."
   ]
  },
  {
   "cell_type": "markdown",
   "id": "8eb5f625-7187-40a0-abdd-94995f1bfab5",
   "metadata": {
    "id": "7b0487d6"
   },
   "source": [
    "#### Почему заполнение пропуски медианным значением — лучшее решение для количественных переменных."
   ]
  },
  {
   "cell_type": "markdown",
   "id": "24e83859-d2f7-4ce9-9a78-85cdbb976b83",
   "metadata": {
    "id": "7ecf2b8e"
   },
   "source": [
    "Медианное значение лучше подходит для заполнения пропущенных значений, т.к. меньше зависит от экстремальных значений. Несмотря на то, что мы сгруппировали данные о клиентах по типу занятости, даже внутри этих групп могут уровни дохода и длительность трудового стажа могут сильно отличаться, поэтому использование среднего значения может сильно исказить имеющиеся данные."
   ]
  },
  {
   "cell_type": "markdown",
   "id": "e990179b-e0ee-481c-b5fa-218158fa0b13",
   "metadata": {
    "id": "6db5255a"
   },
   "source": [
    "### Общий вывод."
   ]
  },
  {
   "cell_type": "code",
   "execution_count": 34,
   "id": "5036e9e4-f36c-4e4c-b394-5a0b4e7f6f6e",
   "metadata": {},
   "outputs": [
    {
     "name": "stdout",
     "output_type": "stream",
     "text": [
      "Доля должников во всей выборке -  8.1%\n",
      "Доля должников в \"лучшей\" выборке -  5.4%\n"
     ]
    }
   ],
   "source": [
    "print('Доля должников во всей выборке - ', '{:.1%}'.format(data['debt'].mean()))\n",
    "print('Доля должников в \"лучшей\" выборке - ', '{:.1%}'.format(data.loc[(data['children'] == 0) & \n",
    "               (data['family_status'] == 'вдовец / вдова') & \n",
    "               (data['total_income_category'] == 'B')]['debt'].mean()))"
   ]
  },
  {
   "cell_type": "markdown",
   "id": "f881a14b-ebcd-483a-887e-908431d5938e",
   "metadata": {
    "id": "bad65432"
   },
   "source": [
    "В данном проекте была проведена работа по подготовке данных к анализу и сделаны первые предварительные выводы в рамках поставленной задачи.\n",
    "1. В половине случаев клиенты обращаются за займами на операции с недвижимостью, причём доля должников в этой группе самая маленькая - 7,1%.\n",
    "1. Более половины заёмщиков состоят в официально браке, доля должников в этой группе так же одна из самых небольших - 7.6% и уступает только категории \"вдовец/вдова\".\n",
    "1. За кредитами в основном обращаются люди с доходом от 50 тыс. до 1 млн рублей, причём люди с бОльшим доходом реже становятся должниками.\n",
    "1. Типичный заёмщик - это бездетный, состоящий в браке гражданин с доходом от 50 до 200 тыс. рублей.\n",
    "1. \"Лучший заёмщик\" - это бездетный вдовец/вдова с доходом от 200 тыс. до 1 млн рублей. Таких заёмщиков всего 130, но доля должников среди них всего 5,4%, в то время как доля должников во всей выборке 8,1%. \n",
    "\n",
    "Несмотря на конкретные указания по работе с неполными данными, могут быть предложены другие подходы для более детального изучения имеющейся информации, например:\n",
    "* отрицательные значения в трудовом стаже могли возникнуть из-за символа \"тире\" в исходных данных или же в следствии того, что данные расчитывались арифметически и были допущены ошибки. В случае, если таких данных достаточное количество, необходимо сравнить как данные с отрицательными значениями отличаются от общей выборки.\n",
    "* аномальные значения для количества детей могли возникнуть из-за неправильной обработки данных (наример: \"тире\" было распознано как минус, 2.0 как 20), при значимом количестве таких аномалий также нужно было бы уделить больше времени этим данным.\n",
    "* пропуски в данных о трудовом стаже и уровне заработка могли возникнуть из-за умышленного сокрытия клиентами личной информации, доля таких данных порядка 10%, поэтому их можно отдельно сравнить с общей выборкой и сделать вывод, влияют ли пропуски в данных на возврат кредита в срок.\n"
   ]
  }
 ],
 "metadata": {
  "ExecuteTimeLog": [
   {
    "duration": 47,
    "start_time": "2022-09-28T08:42:10.846Z"
   },
   {
    "duration": 415,
    "start_time": "2022-09-28T08:42:16.916Z"
   },
   {
    "duration": 297,
    "start_time": "2022-09-28T08:42:18.082Z"
   },
   {
    "duration": 443,
    "start_time": "2022-09-28T08:42:29.103Z"
   },
   {
    "duration": 74,
    "start_time": "2022-09-28T08:42:29.548Z"
   },
   {
    "duration": 11,
    "start_time": "2022-09-28T08:42:29.624Z"
   },
   {
    "duration": 6,
    "start_time": "2022-09-28T08:42:29.638Z"
   },
   {
    "duration": 7,
    "start_time": "2022-09-28T08:42:29.646Z"
   },
   {
    "duration": 6,
    "start_time": "2022-09-28T08:42:29.655Z"
   },
   {
    "duration": 8,
    "start_time": "2022-09-28T08:42:29.663Z"
   },
   {
    "duration": 6,
    "start_time": "2022-09-28T08:42:29.673Z"
   },
   {
    "duration": 5,
    "start_time": "2022-09-28T08:42:29.681Z"
   },
   {
    "duration": 5,
    "start_time": "2022-09-28T08:42:29.688Z"
   },
   {
    "duration": 8,
    "start_time": "2022-09-28T08:42:29.694Z"
   },
   {
    "duration": 3,
    "start_time": "2022-09-28T08:42:29.721Z"
   },
   {
    "duration": 6,
    "start_time": "2022-09-28T08:42:29.726Z"
   },
   {
    "duration": 4,
    "start_time": "2022-09-28T08:42:29.734Z"
   },
   {
    "duration": 6,
    "start_time": "2022-09-28T08:42:29.740Z"
   },
   {
    "duration": 7,
    "start_time": "2022-09-28T08:42:29.748Z"
   },
   {
    "duration": 6,
    "start_time": "2022-09-28T08:42:29.757Z"
   },
   {
    "duration": 6,
    "start_time": "2022-09-28T08:42:29.765Z"
   },
   {
    "duration": 5,
    "start_time": "2022-09-28T08:42:29.773Z"
   },
   {
    "duration": 9,
    "start_time": "2022-09-28T08:42:29.780Z"
   },
   {
    "duration": 7,
    "start_time": "2022-09-28T08:42:29.790Z"
   },
   {
    "duration": 6,
    "start_time": "2022-09-28T08:42:29.799Z"
   },
   {
    "duration": 16,
    "start_time": "2022-09-28T08:43:30.647Z"
   },
   {
    "duration": 10,
    "start_time": "2022-09-28T08:48:33.260Z"
   },
   {
    "duration": 105,
    "start_time": "2022-09-28T09:05:00.507Z"
   },
   {
    "duration": 113,
    "start_time": "2022-09-28T09:06:45.390Z"
   },
   {
    "duration": 73,
    "start_time": "2022-09-28T09:07:42.705Z"
   },
   {
    "duration": 41,
    "start_time": "2022-09-28T09:08:43.210Z"
   },
   {
    "duration": 36,
    "start_time": "2022-09-28T09:10:00.974Z"
   },
   {
    "duration": 9,
    "start_time": "2022-09-28T09:12:55.230Z"
   },
   {
    "duration": 3,
    "start_time": "2022-09-28T09:13:09.863Z"
   },
   {
    "duration": 8,
    "start_time": "2022-09-28T09:13:13.890Z"
   },
   {
    "duration": 4,
    "start_time": "2022-09-28T09:15:21.663Z"
   },
   {
    "duration": 5,
    "start_time": "2022-09-28T09:16:06.926Z"
   },
   {
    "duration": 4,
    "start_time": "2022-09-28T09:24:12.333Z"
   },
   {
    "duration": 383,
    "start_time": "2022-09-28T09:24:32.950Z"
   },
   {
    "duration": 73,
    "start_time": "2022-09-28T09:24:34.101Z"
   },
   {
    "duration": 10,
    "start_time": "2022-09-28T09:24:37.774Z"
   },
   {
    "duration": 17,
    "start_time": "2022-09-28T09:24:42.641Z"
   },
   {
    "duration": 9,
    "start_time": "2022-09-28T09:24:47.438Z"
   },
   {
    "duration": 54,
    "start_time": "2022-09-28T09:24:49.044Z"
   },
   {
    "duration": 4,
    "start_time": "2022-09-28T09:24:50.710Z"
   },
   {
    "duration": 9,
    "start_time": "2022-09-28T09:24:52.495Z"
   },
   {
    "duration": 4,
    "start_time": "2022-09-28T09:24:55.266Z"
   },
   {
    "duration": 67,
    "start_time": "2022-09-28T09:32:21.047Z"
   },
   {
    "duration": 13,
    "start_time": "2022-09-28T09:32:28.744Z"
   },
   {
    "duration": 8,
    "start_time": "2022-09-28T09:33:56.549Z"
   },
   {
    "duration": 11,
    "start_time": "2022-09-28T09:34:04.413Z"
   },
   {
    "duration": 4,
    "start_time": "2022-09-28T09:34:08.660Z"
   },
   {
    "duration": 45,
    "start_time": "2022-09-28T09:37:09.034Z"
   },
   {
    "duration": 13,
    "start_time": "2022-09-28T09:37:44.194Z"
   },
   {
    "duration": 12,
    "start_time": "2022-09-28T09:40:00.672Z"
   },
   {
    "duration": 6,
    "start_time": "2022-09-28T09:41:12.655Z"
   },
   {
    "duration": 4,
    "start_time": "2022-09-28T09:41:41.512Z"
   },
   {
    "duration": 5,
    "start_time": "2022-09-28T09:41:45.727Z"
   },
   {
    "duration": 13,
    "start_time": "2022-09-28T09:44:18.924Z"
   },
   {
    "duration": 20,
    "start_time": "2022-09-28T09:46:56.799Z"
   },
   {
    "duration": 18,
    "start_time": "2022-09-28T09:48:46.922Z"
   },
   {
    "duration": 4,
    "start_time": "2022-09-28T09:54:55.468Z"
   },
   {
    "duration": 9,
    "start_time": "2022-09-28T09:54:57.092Z"
   },
   {
    "duration": 14,
    "start_time": "2022-09-28T09:56:13.021Z"
   },
   {
    "duration": 4,
    "start_time": "2022-09-28T09:59:02.333Z"
   },
   {
    "duration": 22,
    "start_time": "2022-09-28T09:59:05.054Z"
   },
   {
    "duration": 3,
    "start_time": "2022-09-28T09:59:53.167Z"
   },
   {
    "duration": 14,
    "start_time": "2022-09-28T09:59:55.535Z"
   },
   {
    "duration": 8,
    "start_time": "2022-09-28T10:00:17.218Z"
   },
   {
    "duration": 5,
    "start_time": "2022-09-28T10:00:46.178Z"
   },
   {
    "duration": 4,
    "start_time": "2022-09-28T10:12:18.227Z"
   },
   {
    "duration": 8,
    "start_time": "2022-09-28T10:12:26.638Z"
   },
   {
    "duration": 13,
    "start_time": "2022-09-28T10:13:09.581Z"
   },
   {
    "duration": 3,
    "start_time": "2022-09-28T10:15:21.487Z"
   },
   {
    "duration": 6,
    "start_time": "2022-09-28T10:15:23.107Z"
   },
   {
    "duration": 10,
    "start_time": "2022-09-28T10:15:26.254Z"
   },
   {
    "duration": 5,
    "start_time": "2022-09-28T10:17:16.740Z"
   },
   {
    "duration": 6,
    "start_time": "2022-09-28T10:18:44.355Z"
   },
   {
    "duration": 3,
    "start_time": "2022-09-28T10:19:01.068Z"
   },
   {
    "duration": 9,
    "start_time": "2022-09-28T10:19:03.847Z"
   }
  ],
  "celltoolbar": "Edit Metadata",
  "colab": {
   "name": "dpp_template_part1.ipynb",
   "provenance": []
  },
  "kernelspec": {
   "display_name": "Python 3 (ipykernel)",
   "language": "python",
   "name": "python3"
  },
  "language_info": {
   "codemirror_mode": {
    "name": "ipython",
    "version": 3
   },
   "file_extension": ".py",
   "mimetype": "text/x-python",
   "name": "python",
   "nbconvert_exporter": "python",
   "pygments_lexer": "ipython3",
   "version": "3.9.17"
  },
  "toc": {
   "base_numbering": 1,
   "nav_menu": {},
   "number_sections": true,
   "sideBar": true,
   "skip_h1_title": true,
   "title_cell": "Table of Contents",
   "title_sidebar": "Contents",
   "toc_cell": false,
   "toc_position": {},
   "toc_section_display": true,
   "toc_window_display": false
  }
 },
 "nbformat": 4,
 "nbformat_minor": 5
}
