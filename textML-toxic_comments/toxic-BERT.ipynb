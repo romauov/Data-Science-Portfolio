{
 "cells": [
  {
   "cell_type": "markdown",
   "id": "6cf8d648-5b20-435d-96a3-b66ef211187c",
   "metadata": {},
   "source": [
    "# Проект для «Викишоп» с BERT"
   ]
  },
  {
   "cell_type": "markdown",
   "id": "c8722c46-4eb9-419f-9695-2757b5aa798e",
   "metadata": {},
   "source": [
    "Интернет-магазин «Викишоп» запускает новый сервис, пользователям теперь доступно редактирование и дополнение описания товаров, как в вики-сообществах. То есть клиенты предлагают свои правки и комментируют изменения других. Создадим инструмент, который будет искать токсичные комментарии и отправлять их на модерацию. \n",
    "Для этого обучим модель, котторая будет классифицировать комментарии на токсичные(1) и нейтральные(0)."
   ]
  },
  {
   "cell_type": "code",
   "execution_count": 1,
   "id": "34a8010e-ea8a-48cd-bf51-6c64a4829349",
   "metadata": {},
   "outputs": [],
   "source": [
    "import lightgbm as lgb\n",
    "import numpy as np\n",
    "import pandas as pd\n",
    "import torch\n",
    "import transformers\n",
    "import ydata_profiling\n",
    "\n",
    "from catboost import CatBoostClassifier\n",
    "from tqdm import notebook\n",
    "\n",
    "from sklearn.linear_model import LogisticRegression\n",
    "from sklearn.metrics import f1_score\n",
    "from sklearn.model_selection import GridSearchCV, RandomizedSearchCV, train_test_split"
   ]
  },
  {
   "cell_type": "markdown",
   "id": "7579ecfe-4da2-40aa-ba33-b26b2e941992",
   "metadata": {},
   "source": [
    "## Обработка данных"
   ]
  },
  {
   "cell_type": "code",
   "execution_count": 2,
   "id": "f47806a0-e71a-4c34-aa7a-dd9e3f7e54f5",
   "metadata": {},
   "outputs": [
    {
     "data": {
      "text/plain": [
       "(159292, 3)"
      ]
     },
     "execution_count": 2,
     "metadata": {},
     "output_type": "execute_result"
    }
   ],
   "source": [
    "try:\n",
    "    df = pd.read_csv('datasets/toxic_comments.csv')\n",
    "except:\n",
    "    df = pd.read_csv('/datasets/toxic_comments.csv')\n",
    "df.shape"
   ]
  },
  {
   "cell_type": "markdown",
   "id": "e54405e2-74dc-48ad-9df6-2a673757334c",
   "metadata": {},
   "source": [
    "В нашем распоряжении очень большой датасет, для экономии времени ограничимся семплом в 500 строк."
   ]
  },
  {
   "cell_type": "code",
   "execution_count": 3,
   "id": "b2d615f6-f5e3-4cf1-838c-fdeee1fd551e",
   "metadata": {},
   "outputs": [],
   "source": [
    "try:\n",
    "    df = pd.read_csv('datasets/toxic_comments.csv').sample(500)\n",
    "except:\n",
    "    df = pd.read_csv('/datasets/toxic_comments.csv').sample(500)"
   ]
  },
  {
   "cell_type": "code",
   "execution_count": 4,
   "id": "4200cedc-89d3-4d56-a243-56bc4b7fd85e",
   "metadata": {},
   "outputs": [
    {
     "data": {
      "text/html": [
       "<div>\n",
       "<style scoped>\n",
       "    .dataframe tbody tr th:only-of-type {\n",
       "        vertical-align: middle;\n",
       "    }\n",
       "\n",
       "    .dataframe tbody tr th {\n",
       "        vertical-align: top;\n",
       "    }\n",
       "\n",
       "    .dataframe thead th {\n",
       "        text-align: right;\n",
       "    }\n",
       "</style>\n",
       "<table border=\"1\" class=\"dataframe\">\n",
       "  <thead>\n",
       "    <tr style=\"text-align: right;\">\n",
       "      <th></th>\n",
       "      <th>Unnamed: 0</th>\n",
       "      <th>text</th>\n",
       "      <th>toxic</th>\n",
       "    </tr>\n",
       "  </thead>\n",
       "  <tbody>\n",
       "    <tr>\n",
       "      <th>129000</th>\n",
       "      <td>129132</td>\n",
       "      <td>I want to argue the fact that Kaká is a non-EU...</td>\n",
       "      <td>0</td>\n",
       "    </tr>\n",
       "    <tr>\n",
       "      <th>18667</th>\n",
       "      <td>18686</td>\n",
       "      <td>\"\\n\\n-\"\"Supernatural\"\" has an incorrect pronou...</td>\n",
       "      <td>0</td>\n",
       "    </tr>\n",
       "    <tr>\n",
       "      <th>124057</th>\n",
       "      <td>124186</td>\n",
       "      <td>I'll message you on your talk page 'cause I ju...</td>\n",
       "      <td>0</td>\n",
       "    </tr>\n",
       "    <tr>\n",
       "      <th>52083</th>\n",
       "      <td>52140</td>\n",
       "      <td>I have been more than civil with the people wh...</td>\n",
       "      <td>0</td>\n",
       "    </tr>\n",
       "    <tr>\n",
       "      <th>94188</th>\n",
       "      <td>94280</td>\n",
       "      <td>How about because it's not in Wales? It's in E...</td>\n",
       "      <td>0</td>\n",
       "    </tr>\n",
       "  </tbody>\n",
       "</table>\n",
       "</div>"
      ],
      "text/plain": [
       "        Unnamed: 0                                               text  toxic\n",
       "129000      129132  I want to argue the fact that Kaká is a non-EU...      0\n",
       "18667        18686  \"\\n\\n-\"\"Supernatural\"\" has an incorrect pronou...      0\n",
       "124057      124186  I'll message you on your talk page 'cause I ju...      0\n",
       "52083        52140  I have been more than civil with the people wh...      0\n",
       "94188        94280  How about because it's not in Wales? It's in E...      0"
      ]
     },
     "execution_count": 4,
     "metadata": {},
     "output_type": "execute_result"
    }
   ],
   "source": [
    "df.head()"
   ]
  },
  {
   "cell_type": "code",
   "execution_count": 5,
   "id": "aa3d27b2-8e10-461c-bea7-cf11c428b071",
   "metadata": {},
   "outputs": [
    {
     "data": {
      "text/plain": [
       "Index(['Unnamed: 0', 'text', 'toxic'], dtype='object')"
      ]
     },
     "execution_count": 5,
     "metadata": {},
     "output_type": "execute_result"
    }
   ],
   "source": [
    "df.columns"
   ]
  },
  {
   "cell_type": "markdown",
   "id": "f06f99c2-d71b-401a-a608-63eec6858c2a",
   "metadata": {},
   "source": [
    "В датасете есть лишний столбец, дублирующий индексы, избавимся от него."
   ]
  },
  {
   "cell_type": "code",
   "execution_count": 6,
   "id": "05a69122-24cf-4bf2-83cc-3bdce116332b",
   "metadata": {},
   "outputs": [],
   "source": [
    "df = df.drop('Unnamed: 0', axis=1)"
   ]
  },
  {
   "cell_type": "markdown",
   "id": "e7ffe387-6fd4-422f-a182-5af5fed0ac08",
   "metadata": {},
   "source": [
    "%%time\n",
    "ydata_profiling.ProfileReport(df) "
   ]
  },
  {
   "cell_type": "markdown",
   "id": "0b9e56c0-b06f-4384-9c73-654ef3794c34",
   "metadata": {},
   "source": [
    "Тексты комментариев в датасете уникальны, повторов нет."
   ]
  },
  {
   "cell_type": "markdown",
   "id": "0b275029-b68d-4499-a7c0-ff057d9a04e8",
   "metadata": {},
   "source": [
    "Для создания модели возьмём веса у уже обученной модели toxic-bert и с их помощью полоучим эмбеддинги для комментариев из нашего датасета."
   ]
  },
  {
   "cell_type": "code",
   "execution_count": 7,
   "id": "ffbec2bb-b474-4acf-8aab-f103363b689d",
   "metadata": {},
   "outputs": [],
   "source": [
    "from transformers import AutoTokenizer, AutoModel\n",
    "\n",
    "pretrained_weights = 'unitary/toxic-bert'\n",
    "tokenizer = AutoTokenizer.from_pretrained(pretrained_weights)\n",
    "model = AutoModel.from_pretrained(pretrained_weights)"
   ]
  },
  {
   "cell_type": "markdown",
   "id": "8e2d51b5-1510-4485-96d8-7b4268b68174",
   "metadata": {},
   "source": [
    "Создадим последовательности токенов для наших комментариев:"
   ]
  },
  {
   "cell_type": "code",
   "execution_count": 8,
   "id": "4bfc118b-7657-481d-83a8-42e280475249",
   "metadata": {},
   "outputs": [
    {
     "name": "stdout",
     "output_type": "stream",
     "text": [
      "CPU times: user 228 ms, sys: 0 ns, total: 228 ms\n",
      "Wall time: 1.1 s\n"
     ]
    }
   ],
   "source": [
    "%%time\n",
    "tokenized = df['text'].apply(\n",
    "    lambda x: tokenizer(x, padding=True, truncation=True))"
   ]
  },
  {
   "cell_type": "markdown",
   "id": "e24096a4-b12f-49fe-a587-791e8540e5e7",
   "metadata": {},
   "source": [
    "Проверим, что последовательности токенов не превышают 512:"
   ]
  },
  {
   "cell_type": "code",
   "execution_count": 9,
   "id": "a50a1bfa-4556-40b7-8ade-41df751c1fb2",
   "metadata": {},
   "outputs": [
    {
     "data": {
      "text/plain": [
       "512"
      ]
     },
     "execution_count": 9,
     "metadata": {},
     "output_type": "execute_result"
    }
   ],
   "source": [
    "max_len = 0\n",
    "for i in tokenized.values:\n",
    "    if len(i['input_ids']) > max_len:\n",
    "        max_len = len(i['input_ids'])\n",
    "max_len"
   ]
  },
  {
   "cell_type": "markdown",
   "id": "32375773-33dd-4f7e-91ce-354d8d9fd09a",
   "metadata": {},
   "source": [
    "Дополним последовательности токенов короче 512 нулями и создадим маску для этих нулей, чтобы модель не принимала их во внимание."
   ]
  },
  {
   "cell_type": "code",
   "execution_count": 10,
   "id": "aec1e4c8-a7e2-4a3f-81e4-d9dffe62948a",
   "metadata": {},
   "outputs": [],
   "source": [
    "padded = np.array([i['input_ids'] + [0]*(max_len - len(i['input_ids'])) for i in tokenized.values])"
   ]
  },
  {
   "cell_type": "code",
   "execution_count": 11,
   "id": "3a2991e7-ae93-47e7-9989-ae4219d1ffb9",
   "metadata": {},
   "outputs": [],
   "source": [
    "attention_mask = np.where(padded != 0, 1, 0)"
   ]
  },
  {
   "cell_type": "markdown",
   "id": "e24643d0-9283-492e-98e4-c311571be1dd",
   "metadata": {},
   "source": [
    "Получим эмбеддинги моделей:"
   ]
  },
  {
   "cell_type": "code",
   "execution_count": 12,
   "id": "5daf2623-8793-4ced-9b3c-5c1161771c65",
   "metadata": {},
   "outputs": [
    {
     "data": {
      "application/vnd.jupyter.widget-view+json": {
       "model_id": "35382000ece94b509861ff12d7f12d5c",
       "version_major": 2,
       "version_minor": 0
      },
      "text/plain": [
       "  0%|          | 0/50 [00:00<?, ?it/s]"
      ]
     },
     "metadata": {},
     "output_type": "display_data"
    },
    {
     "name": "stdout",
     "output_type": "stream",
     "text": [
      "CPU times: user 32min 26s, sys: 5min 31s, total: 37min 58s\n",
      "Wall time: 13min 42s\n"
     ]
    }
   ],
   "source": [
    "%%time\n",
    "batch_size = 10\n",
    "embeddings = []\n",
    "#device = torch.device('cuda' if torch.cuda.is_available() else 'cpu')\n",
    "#model = model.to(device)\n",
    "\n",
    "for i in notebook.tqdm(range(padded.shape[0] // batch_size)):\n",
    "    \n",
    "        batch = torch.LongTensor(padded[batch_size*i:batch_size*(i+1)])        \n",
    "        attention_mask_batch = torch.LongTensor(attention_mask[batch_size*i:batch_size*(i+1)])\n",
    "        \n",
    "        with torch.no_grad():\n",
    "            batch_embeddings = model(batch, attention_mask=attention_mask_batch)\n",
    "        \n",
    "        embeddings.append(batch_embeddings[0][:,0,:].numpy())"
   ]
  },
  {
   "cell_type": "markdown",
   "id": "7a591abc-72e9-44e2-9d10-0ab9bbac8b3a",
   "metadata": {},
   "source": [
    "## Обучение моделей"
   ]
  },
  {
   "cell_type": "markdown",
   "id": "b24aa49c-5ca8-4778-929b-f2bcf110e746",
   "metadata": {},
   "source": [
    "### Модель логистической регрессии"
   ]
  },
  {
   "cell_type": "markdown",
   "id": "481f434f-39e8-4079-83aa-53babb81964e",
   "metadata": {},
   "source": [
    "Объединим полученные эмбеддинги в признаки и выделим целевой признак:"
   ]
  },
  {
   "cell_type": "code",
   "execution_count": 13,
   "id": "454e1779-755e-4a1d-af7d-df7677207b9f",
   "metadata": {},
   "outputs": [],
   "source": [
    "features = np.concatenate(embeddings)\n",
    "target = df['toxic']"
   ]
  },
  {
   "cell_type": "markdown",
   "id": "8f46d7ef-c068-41fa-bd48-662a4c576949",
   "metadata": {},
   "source": [
    "Разобъём выборки на обучающую и тестовую:"
   ]
  },
  {
   "cell_type": "code",
   "execution_count": 14,
   "id": "ba084f1b-63aa-4c28-8c59-afc50a3b527c",
   "metadata": {},
   "outputs": [],
   "source": [
    "features_train, features_test, target_train, target_test = \\\n",
    "train_test_split(features, target, test_size=0.2, stratify=target)"
   ]
  },
  {
   "cell_type": "markdown",
   "id": "c0c25f0d-6475-49f9-953a-80fe2371842b",
   "metadata": {},
   "source": [
    "Обучим модель логистической регрессии на обучающей выборке:"
   ]
  },
  {
   "cell_type": "code",
   "execution_count": 15,
   "id": "b2d59f5a-acb3-49f8-9ead-bdd7292e6843",
   "metadata": {},
   "outputs": [],
   "source": [
    "lg_params = {\n",
    "    \"C\":np.logspace(-3,3,7), \n",
    "    }\n",
    "lg_model = LogisticRegression(max_iter=500)\n",
    "\n",
    "lg_grid = GridSearchCV(lg_model,\n",
    "                       lg_params,\n",
    "                       cv=5)"
   ]
  },
  {
   "cell_type": "code",
   "execution_count": 16,
   "id": "f6e7cbdf-7419-4d53-9316-e679697bf7cd",
   "metadata": {},
   "outputs": [
    {
     "name": "stdout",
     "output_type": "stream",
     "text": [
      "CPU times: user 4.86 s, sys: 4.95 s, total: 9.81 s\n",
      "Wall time: 1.48 s\n"
     ]
    },
    {
     "data": {
      "text/html": [
       "<style>#sk-container-id-1 {color: black;background-color: white;}#sk-container-id-1 pre{padding: 0;}#sk-container-id-1 div.sk-toggleable {background-color: white;}#sk-container-id-1 label.sk-toggleable__label {cursor: pointer;display: block;width: 100%;margin-bottom: 0;padding: 0.3em;box-sizing: border-box;text-align: center;}#sk-container-id-1 label.sk-toggleable__label-arrow:before {content: \"▸\";float: left;margin-right: 0.25em;color: #696969;}#sk-container-id-1 label.sk-toggleable__label-arrow:hover:before {color: black;}#sk-container-id-1 div.sk-estimator:hover label.sk-toggleable__label-arrow:before {color: black;}#sk-container-id-1 div.sk-toggleable__content {max-height: 0;max-width: 0;overflow: hidden;text-align: left;background-color: #f0f8ff;}#sk-container-id-1 div.sk-toggleable__content pre {margin: 0.2em;color: black;border-radius: 0.25em;background-color: #f0f8ff;}#sk-container-id-1 input.sk-toggleable__control:checked~div.sk-toggleable__content {max-height: 200px;max-width: 100%;overflow: auto;}#sk-container-id-1 input.sk-toggleable__control:checked~label.sk-toggleable__label-arrow:before {content: \"▾\";}#sk-container-id-1 div.sk-estimator input.sk-toggleable__control:checked~label.sk-toggleable__label {background-color: #d4ebff;}#sk-container-id-1 div.sk-label input.sk-toggleable__control:checked~label.sk-toggleable__label {background-color: #d4ebff;}#sk-container-id-1 input.sk-hidden--visually {border: 0;clip: rect(1px 1px 1px 1px);clip: rect(1px, 1px, 1px, 1px);height: 1px;margin: -1px;overflow: hidden;padding: 0;position: absolute;width: 1px;}#sk-container-id-1 div.sk-estimator {font-family: monospace;background-color: #f0f8ff;border: 1px dotted black;border-radius: 0.25em;box-sizing: border-box;margin-bottom: 0.5em;}#sk-container-id-1 div.sk-estimator:hover {background-color: #d4ebff;}#sk-container-id-1 div.sk-parallel-item::after {content: \"\";width: 100%;border-bottom: 1px solid gray;flex-grow: 1;}#sk-container-id-1 div.sk-label:hover label.sk-toggleable__label {background-color: #d4ebff;}#sk-container-id-1 div.sk-serial::before {content: \"\";position: absolute;border-left: 1px solid gray;box-sizing: border-box;top: 0;bottom: 0;left: 50%;z-index: 0;}#sk-container-id-1 div.sk-serial {display: flex;flex-direction: column;align-items: center;background-color: white;padding-right: 0.2em;padding-left: 0.2em;position: relative;}#sk-container-id-1 div.sk-item {position: relative;z-index: 1;}#sk-container-id-1 div.sk-parallel {display: flex;align-items: stretch;justify-content: center;background-color: white;position: relative;}#sk-container-id-1 div.sk-item::before, #sk-container-id-1 div.sk-parallel-item::before {content: \"\";position: absolute;border-left: 1px solid gray;box-sizing: border-box;top: 0;bottom: 0;left: 50%;z-index: -1;}#sk-container-id-1 div.sk-parallel-item {display: flex;flex-direction: column;z-index: 1;position: relative;background-color: white;}#sk-container-id-1 div.sk-parallel-item:first-child::after {align-self: flex-end;width: 50%;}#sk-container-id-1 div.sk-parallel-item:last-child::after {align-self: flex-start;width: 50%;}#sk-container-id-1 div.sk-parallel-item:only-child::after {width: 0;}#sk-container-id-1 div.sk-dashed-wrapped {border: 1px dashed gray;margin: 0 0.4em 0.5em 0.4em;box-sizing: border-box;padding-bottom: 0.4em;background-color: white;}#sk-container-id-1 div.sk-label label {font-family: monospace;font-weight: bold;display: inline-block;line-height: 1.2em;}#sk-container-id-1 div.sk-label-container {text-align: center;}#sk-container-id-1 div.sk-container {/* jupyter's `normalize.less` sets `[hidden] { display: none; }` but bootstrap.min.css set `[hidden] { display: none !important; }` so we also need the `!important` here to be able to override the default hidden behavior on the sphinx rendered scikit-learn.org. See: https://github.com/scikit-learn/scikit-learn/issues/21755 */display: inline-block !important;position: relative;}#sk-container-id-1 div.sk-text-repr-fallback {display: none;}</style><div id=\"sk-container-id-1\" class=\"sk-top-container\"><div class=\"sk-text-repr-fallback\"><pre>GridSearchCV(cv=5, estimator=LogisticRegression(max_iter=500),\n",
       "             param_grid={&#x27;C&#x27;: array([1.e-03, 1.e-02, 1.e-01, 1.e+00, 1.e+01, 1.e+02, 1.e+03])})</pre><b>In a Jupyter environment, please rerun this cell to show the HTML representation or trust the notebook. <br />On GitHub, the HTML representation is unable to render, please try loading this page with nbviewer.org.</b></div><div class=\"sk-container\" hidden><div class=\"sk-item sk-dashed-wrapped\"><div class=\"sk-label-container\"><div class=\"sk-label sk-toggleable\"><input class=\"sk-toggleable__control sk-hidden--visually\" id=\"sk-estimator-id-1\" type=\"checkbox\" ><label for=\"sk-estimator-id-1\" class=\"sk-toggleable__label sk-toggleable__label-arrow\">GridSearchCV</label><div class=\"sk-toggleable__content\"><pre>GridSearchCV(cv=5, estimator=LogisticRegression(max_iter=500),\n",
       "             param_grid={&#x27;C&#x27;: array([1.e-03, 1.e-02, 1.e-01, 1.e+00, 1.e+01, 1.e+02, 1.e+03])})</pre></div></div></div><div class=\"sk-parallel\"><div class=\"sk-parallel-item\"><div class=\"sk-item\"><div class=\"sk-label-container\"><div class=\"sk-label sk-toggleable\"><input class=\"sk-toggleable__control sk-hidden--visually\" id=\"sk-estimator-id-2\" type=\"checkbox\" ><label for=\"sk-estimator-id-2\" class=\"sk-toggleable__label sk-toggleable__label-arrow\">estimator: LogisticRegression</label><div class=\"sk-toggleable__content\"><pre>LogisticRegression(max_iter=500)</pre></div></div></div><div class=\"sk-serial\"><div class=\"sk-item\"><div class=\"sk-estimator sk-toggleable\"><input class=\"sk-toggleable__control sk-hidden--visually\" id=\"sk-estimator-id-3\" type=\"checkbox\" ><label for=\"sk-estimator-id-3\" class=\"sk-toggleable__label sk-toggleable__label-arrow\">LogisticRegression</label><div class=\"sk-toggleable__content\"><pre>LogisticRegression(max_iter=500)</pre></div></div></div></div></div></div></div></div></div></div>"
      ],
      "text/plain": [
       "GridSearchCV(cv=5, estimator=LogisticRegression(max_iter=500),\n",
       "             param_grid={'C': array([1.e-03, 1.e-02, 1.e-01, 1.e+00, 1.e+01, 1.e+02, 1.e+03])})"
      ]
     },
     "execution_count": 16,
     "metadata": {},
     "output_type": "execute_result"
    }
   ],
   "source": [
    "%%time\n",
    "lg_grid.fit(features_train, target_train)"
   ]
  },
  {
   "cell_type": "code",
   "execution_count": 17,
   "id": "0a481fa2-f8de-4ee1-8413-511f4119d4a9",
   "metadata": {},
   "outputs": [
    {
     "data": {
      "text/plain": [
       "0.99"
      ]
     },
     "execution_count": 17,
     "metadata": {},
     "output_type": "execute_result"
    }
   ],
   "source": [
    "lg_grid.best_score_"
   ]
  },
  {
   "cell_type": "markdown",
   "id": "689e8770-4ec9-4cb5-8eca-afdb97c15b1a",
   "metadata": {},
   "source": [
    "### CatBoostClassifier"
   ]
  },
  {
   "cell_type": "code",
   "execution_count": 18,
   "id": "75cbae8c-27bc-42a2-a1c7-cde8da9ae676",
   "metadata": {},
   "outputs": [],
   "source": [
    "cat_model = CatBoostClassifier(loss_function='Logloss', silent=True)"
   ]
  },
  {
   "cell_type": "code",
   "execution_count": 19,
   "id": "0c316a9c-6565-4513-be9c-38a164b088fb",
   "metadata": {},
   "outputs": [],
   "source": [
    "cat_params = {\n",
    "    'iterations': [50, 100],\n",
    "    'learning_rate': np.logspace(-3, -1, 5),\n",
    "    'depth': [d for d in range(2, 11)],\n",
    "    'l2_leaf_reg': np.logspace(-1, 1, 3)\n",
    "             }\n",
    "\n",
    "cat_grid = RandomizedSearchCV(cat_model, cat_params, n_iter=2)"
   ]
  },
  {
   "cell_type": "code",
   "execution_count": 20,
   "id": "7ddc29b6-1953-40e5-812e-104a4f445816",
   "metadata": {
    "scrolled": true
   },
   "outputs": [
    {
     "name": "stdout",
     "output_type": "stream",
     "text": [
      "CPU times: user 13min 48s, sys: 8.92 s, total: 13min 57s\n",
      "Wall time: 2min 24s\n"
     ]
    },
    {
     "data": {
      "text/html": [
       "<style>#sk-container-id-2 {color: black;background-color: white;}#sk-container-id-2 pre{padding: 0;}#sk-container-id-2 div.sk-toggleable {background-color: white;}#sk-container-id-2 label.sk-toggleable__label {cursor: pointer;display: block;width: 100%;margin-bottom: 0;padding: 0.3em;box-sizing: border-box;text-align: center;}#sk-container-id-2 label.sk-toggleable__label-arrow:before {content: \"▸\";float: left;margin-right: 0.25em;color: #696969;}#sk-container-id-2 label.sk-toggleable__label-arrow:hover:before {color: black;}#sk-container-id-2 div.sk-estimator:hover label.sk-toggleable__label-arrow:before {color: black;}#sk-container-id-2 div.sk-toggleable__content {max-height: 0;max-width: 0;overflow: hidden;text-align: left;background-color: #f0f8ff;}#sk-container-id-2 div.sk-toggleable__content pre {margin: 0.2em;color: black;border-radius: 0.25em;background-color: #f0f8ff;}#sk-container-id-2 input.sk-toggleable__control:checked~div.sk-toggleable__content {max-height: 200px;max-width: 100%;overflow: auto;}#sk-container-id-2 input.sk-toggleable__control:checked~label.sk-toggleable__label-arrow:before {content: \"▾\";}#sk-container-id-2 div.sk-estimator input.sk-toggleable__control:checked~label.sk-toggleable__label {background-color: #d4ebff;}#sk-container-id-2 div.sk-label input.sk-toggleable__control:checked~label.sk-toggleable__label {background-color: #d4ebff;}#sk-container-id-2 input.sk-hidden--visually {border: 0;clip: rect(1px 1px 1px 1px);clip: rect(1px, 1px, 1px, 1px);height: 1px;margin: -1px;overflow: hidden;padding: 0;position: absolute;width: 1px;}#sk-container-id-2 div.sk-estimator {font-family: monospace;background-color: #f0f8ff;border: 1px dotted black;border-radius: 0.25em;box-sizing: border-box;margin-bottom: 0.5em;}#sk-container-id-2 div.sk-estimator:hover {background-color: #d4ebff;}#sk-container-id-2 div.sk-parallel-item::after {content: \"\";width: 100%;border-bottom: 1px solid gray;flex-grow: 1;}#sk-container-id-2 div.sk-label:hover label.sk-toggleable__label {background-color: #d4ebff;}#sk-container-id-2 div.sk-serial::before {content: \"\";position: absolute;border-left: 1px solid gray;box-sizing: border-box;top: 0;bottom: 0;left: 50%;z-index: 0;}#sk-container-id-2 div.sk-serial {display: flex;flex-direction: column;align-items: center;background-color: white;padding-right: 0.2em;padding-left: 0.2em;position: relative;}#sk-container-id-2 div.sk-item {position: relative;z-index: 1;}#sk-container-id-2 div.sk-parallel {display: flex;align-items: stretch;justify-content: center;background-color: white;position: relative;}#sk-container-id-2 div.sk-item::before, #sk-container-id-2 div.sk-parallel-item::before {content: \"\";position: absolute;border-left: 1px solid gray;box-sizing: border-box;top: 0;bottom: 0;left: 50%;z-index: -1;}#sk-container-id-2 div.sk-parallel-item {display: flex;flex-direction: column;z-index: 1;position: relative;background-color: white;}#sk-container-id-2 div.sk-parallel-item:first-child::after {align-self: flex-end;width: 50%;}#sk-container-id-2 div.sk-parallel-item:last-child::after {align-self: flex-start;width: 50%;}#sk-container-id-2 div.sk-parallel-item:only-child::after {width: 0;}#sk-container-id-2 div.sk-dashed-wrapped {border: 1px dashed gray;margin: 0 0.4em 0.5em 0.4em;box-sizing: border-box;padding-bottom: 0.4em;background-color: white;}#sk-container-id-2 div.sk-label label {font-family: monospace;font-weight: bold;display: inline-block;line-height: 1.2em;}#sk-container-id-2 div.sk-label-container {text-align: center;}#sk-container-id-2 div.sk-container {/* jupyter's `normalize.less` sets `[hidden] { display: none; }` but bootstrap.min.css set `[hidden] { display: none !important; }` so we also need the `!important` here to be able to override the default hidden behavior on the sphinx rendered scikit-learn.org. See: https://github.com/scikit-learn/scikit-learn/issues/21755 */display: inline-block !important;position: relative;}#sk-container-id-2 div.sk-text-repr-fallback {display: none;}</style><div id=\"sk-container-id-2\" class=\"sk-top-container\"><div class=\"sk-text-repr-fallback\"><pre>RandomizedSearchCV(estimator=&lt;catboost.core.CatBoostClassifier object at 0x7fafc1c3a430&gt;,\n",
       "                   n_iter=2,\n",
       "                   param_distributions={&#x27;depth&#x27;: [2, 3, 4, 5, 6, 7, 8, 9, 10],\n",
       "                                        &#x27;iterations&#x27;: [50, 100],\n",
       "                                        &#x27;l2_leaf_reg&#x27;: array([ 0.1,  1. , 10. ]),\n",
       "                                        &#x27;learning_rate&#x27;: array([0.001     , 0.00316228, 0.01      , 0.03162278, 0.1       ])})</pre><b>In a Jupyter environment, please rerun this cell to show the HTML representation or trust the notebook. <br />On GitHub, the HTML representation is unable to render, please try loading this page with nbviewer.org.</b></div><div class=\"sk-container\" hidden><div class=\"sk-item sk-dashed-wrapped\"><div class=\"sk-label-container\"><div class=\"sk-label sk-toggleable\"><input class=\"sk-toggleable__control sk-hidden--visually\" id=\"sk-estimator-id-4\" type=\"checkbox\" ><label for=\"sk-estimator-id-4\" class=\"sk-toggleable__label sk-toggleable__label-arrow\">RandomizedSearchCV</label><div class=\"sk-toggleable__content\"><pre>RandomizedSearchCV(estimator=&lt;catboost.core.CatBoostClassifier object at 0x7fafc1c3a430&gt;,\n",
       "                   n_iter=2,\n",
       "                   param_distributions={&#x27;depth&#x27;: [2, 3, 4, 5, 6, 7, 8, 9, 10],\n",
       "                                        &#x27;iterations&#x27;: [50, 100],\n",
       "                                        &#x27;l2_leaf_reg&#x27;: array([ 0.1,  1. , 10. ]),\n",
       "                                        &#x27;learning_rate&#x27;: array([0.001     , 0.00316228, 0.01      , 0.03162278, 0.1       ])})</pre></div></div></div><div class=\"sk-parallel\"><div class=\"sk-parallel-item\"><div class=\"sk-item\"><div class=\"sk-label-container\"><div class=\"sk-label sk-toggleable\"><input class=\"sk-toggleable__control sk-hidden--visually\" id=\"sk-estimator-id-5\" type=\"checkbox\" ><label for=\"sk-estimator-id-5\" class=\"sk-toggleable__label sk-toggleable__label-arrow\">estimator: CatBoostClassifier</label><div class=\"sk-toggleable__content\"><pre>&lt;catboost.core.CatBoostClassifier object at 0x7fafc1c3a430&gt;</pre></div></div></div><div class=\"sk-serial\"><div class=\"sk-item\"><div class=\"sk-estimator sk-toggleable\"><input class=\"sk-toggleable__control sk-hidden--visually\" id=\"sk-estimator-id-6\" type=\"checkbox\" ><label for=\"sk-estimator-id-6\" class=\"sk-toggleable__label sk-toggleable__label-arrow\">CatBoostClassifier</label><div class=\"sk-toggleable__content\"><pre>&lt;catboost.core.CatBoostClassifier object at 0x7fafc1c3a430&gt;</pre></div></div></div></div></div></div></div></div></div></div>"
      ],
      "text/plain": [
       "RandomizedSearchCV(estimator=<catboost.core.CatBoostClassifier object at 0x7fafc1c3a430>,\n",
       "                   n_iter=2,\n",
       "                   param_distributions={'depth': [2, 3, 4, 5, 6, 7, 8, 9, 10],\n",
       "                                        'iterations': [50, 100],\n",
       "                                        'l2_leaf_reg': array([ 0.1,  1. , 10. ]),\n",
       "                                        'learning_rate': array([0.001     , 0.00316228, 0.01      , 0.03162278, 0.1       ])})"
      ]
     },
     "execution_count": 20,
     "metadata": {},
     "output_type": "execute_result"
    }
   ],
   "source": [
    "%%time\n",
    "cat_grid.fit(features_train, target_train)"
   ]
  },
  {
   "cell_type": "code",
   "execution_count": 21,
   "id": "32af4d41-4ba3-4b47-a54a-3c4c2b47e7f1",
   "metadata": {},
   "outputs": [
    {
     "data": {
      "text/plain": [
       "0.9875"
      ]
     },
     "execution_count": 21,
     "metadata": {},
     "output_type": "execute_result"
    }
   ],
   "source": [
    "cat_grid.best_score_"
   ]
  },
  {
   "cell_type": "markdown",
   "id": "6d77ad0f-04f5-4f12-a296-fe2deeb0474c",
   "metadata": {},
   "source": [
    "### Light GBM Classifier"
   ]
  },
  {
   "cell_type": "code",
   "execution_count": 22,
   "id": "e2faac33-9a5c-44fe-a66d-20b2db96306f",
   "metadata": {},
   "outputs": [],
   "source": [
    "lgbm_model = lgb.LGBMRegressor(verbose=-1)\n",
    "\n",
    "lgbm_params = {\n",
    "    'num_leaves': [31, 41, 51],\n",
    "    'min_child_samples': [5, 15],\n",
    "    'max_depth': [10, 20],\n",
    "    'learning_rate': np.logspace(-3, -1, 5),\n",
    "    'reg_alpha': np.logspace(-4, -2, 2)\n",
    "                                           }\n",
    "\n",
    "lgbm_grid = RandomizedSearchCV(lgbm_model, lgbm_params, n_iter=2, verbose=False)"
   ]
  },
  {
   "cell_type": "code",
   "execution_count": 23,
   "id": "ee6d42e6-7662-4e70-afcf-031c63b056d1",
   "metadata": {
    "scrolled": true
   },
   "outputs": [
    {
     "name": "stdout",
     "output_type": "stream",
     "text": [
      "huggingface/tokenizers: The current process just got forked, after parallelism has already been used. Disabling parallelism to avoid deadlocks...\n",
      "To disable this warning, you can either:\n",
      "\t- Avoid using `tokenizers` before the fork if possible\n",
      "\t- Explicitly set the environment variable TOKENIZERS_PARALLELISM=(true | false)\n",
      "CPU times: user 33.1 s, sys: 141 ms, total: 33.2 s\n",
      "Wall time: 11 s\n"
     ]
    },
    {
     "data": {
      "text/html": [
       "<style>#sk-container-id-3 {color: black;background-color: white;}#sk-container-id-3 pre{padding: 0;}#sk-container-id-3 div.sk-toggleable {background-color: white;}#sk-container-id-3 label.sk-toggleable__label {cursor: pointer;display: block;width: 100%;margin-bottom: 0;padding: 0.3em;box-sizing: border-box;text-align: center;}#sk-container-id-3 label.sk-toggleable__label-arrow:before {content: \"▸\";float: left;margin-right: 0.25em;color: #696969;}#sk-container-id-3 label.sk-toggleable__label-arrow:hover:before {color: black;}#sk-container-id-3 div.sk-estimator:hover label.sk-toggleable__label-arrow:before {color: black;}#sk-container-id-3 div.sk-toggleable__content {max-height: 0;max-width: 0;overflow: hidden;text-align: left;background-color: #f0f8ff;}#sk-container-id-3 div.sk-toggleable__content pre {margin: 0.2em;color: black;border-radius: 0.25em;background-color: #f0f8ff;}#sk-container-id-3 input.sk-toggleable__control:checked~div.sk-toggleable__content {max-height: 200px;max-width: 100%;overflow: auto;}#sk-container-id-3 input.sk-toggleable__control:checked~label.sk-toggleable__label-arrow:before {content: \"▾\";}#sk-container-id-3 div.sk-estimator input.sk-toggleable__control:checked~label.sk-toggleable__label {background-color: #d4ebff;}#sk-container-id-3 div.sk-label input.sk-toggleable__control:checked~label.sk-toggleable__label {background-color: #d4ebff;}#sk-container-id-3 input.sk-hidden--visually {border: 0;clip: rect(1px 1px 1px 1px);clip: rect(1px, 1px, 1px, 1px);height: 1px;margin: -1px;overflow: hidden;padding: 0;position: absolute;width: 1px;}#sk-container-id-3 div.sk-estimator {font-family: monospace;background-color: #f0f8ff;border: 1px dotted black;border-radius: 0.25em;box-sizing: border-box;margin-bottom: 0.5em;}#sk-container-id-3 div.sk-estimator:hover {background-color: #d4ebff;}#sk-container-id-3 div.sk-parallel-item::after {content: \"\";width: 100%;border-bottom: 1px solid gray;flex-grow: 1;}#sk-container-id-3 div.sk-label:hover label.sk-toggleable__label {background-color: #d4ebff;}#sk-container-id-3 div.sk-serial::before {content: \"\";position: absolute;border-left: 1px solid gray;box-sizing: border-box;top: 0;bottom: 0;left: 50%;z-index: 0;}#sk-container-id-3 div.sk-serial {display: flex;flex-direction: column;align-items: center;background-color: white;padding-right: 0.2em;padding-left: 0.2em;position: relative;}#sk-container-id-3 div.sk-item {position: relative;z-index: 1;}#sk-container-id-3 div.sk-parallel {display: flex;align-items: stretch;justify-content: center;background-color: white;position: relative;}#sk-container-id-3 div.sk-item::before, #sk-container-id-3 div.sk-parallel-item::before {content: \"\";position: absolute;border-left: 1px solid gray;box-sizing: border-box;top: 0;bottom: 0;left: 50%;z-index: -1;}#sk-container-id-3 div.sk-parallel-item {display: flex;flex-direction: column;z-index: 1;position: relative;background-color: white;}#sk-container-id-3 div.sk-parallel-item:first-child::after {align-self: flex-end;width: 50%;}#sk-container-id-3 div.sk-parallel-item:last-child::after {align-self: flex-start;width: 50%;}#sk-container-id-3 div.sk-parallel-item:only-child::after {width: 0;}#sk-container-id-3 div.sk-dashed-wrapped {border: 1px dashed gray;margin: 0 0.4em 0.5em 0.4em;box-sizing: border-box;padding-bottom: 0.4em;background-color: white;}#sk-container-id-3 div.sk-label label {font-family: monospace;font-weight: bold;display: inline-block;line-height: 1.2em;}#sk-container-id-3 div.sk-label-container {text-align: center;}#sk-container-id-3 div.sk-container {/* jupyter's `normalize.less` sets `[hidden] { display: none; }` but bootstrap.min.css set `[hidden] { display: none !important; }` so we also need the `!important` here to be able to override the default hidden behavior on the sphinx rendered scikit-learn.org. See: https://github.com/scikit-learn/scikit-learn/issues/21755 */display: inline-block !important;position: relative;}#sk-container-id-3 div.sk-text-repr-fallback {display: none;}</style><div id=\"sk-container-id-3\" class=\"sk-top-container\"><div class=\"sk-text-repr-fallback\"><pre>RandomizedSearchCV(estimator=LGBMRegressor(verbose=-1), n_iter=2,\n",
       "                   param_distributions={&#x27;learning_rate&#x27;: array([0.001     , 0.00316228, 0.01      , 0.03162278, 0.1       ]),\n",
       "                                        &#x27;max_depth&#x27;: [10, 20],\n",
       "                                        &#x27;min_child_samples&#x27;: [5, 15],\n",
       "                                        &#x27;num_leaves&#x27;: [31, 41, 51],\n",
       "                                        &#x27;reg_alpha&#x27;: array([0.0001, 0.01  ])},\n",
       "                   verbose=False)</pre><b>In a Jupyter environment, please rerun this cell to show the HTML representation or trust the notebook. <br />On GitHub, the HTML representation is unable to render, please try loading this page with nbviewer.org.</b></div><div class=\"sk-container\" hidden><div class=\"sk-item sk-dashed-wrapped\"><div class=\"sk-label-container\"><div class=\"sk-label sk-toggleable\"><input class=\"sk-toggleable__control sk-hidden--visually\" id=\"sk-estimator-id-7\" type=\"checkbox\" ><label for=\"sk-estimator-id-7\" class=\"sk-toggleable__label sk-toggleable__label-arrow\">RandomizedSearchCV</label><div class=\"sk-toggleable__content\"><pre>RandomizedSearchCV(estimator=LGBMRegressor(verbose=-1), n_iter=2,\n",
       "                   param_distributions={&#x27;learning_rate&#x27;: array([0.001     , 0.00316228, 0.01      , 0.03162278, 0.1       ]),\n",
       "                                        &#x27;max_depth&#x27;: [10, 20],\n",
       "                                        &#x27;min_child_samples&#x27;: [5, 15],\n",
       "                                        &#x27;num_leaves&#x27;: [31, 41, 51],\n",
       "                                        &#x27;reg_alpha&#x27;: array([0.0001, 0.01  ])},\n",
       "                   verbose=False)</pre></div></div></div><div class=\"sk-parallel\"><div class=\"sk-parallel-item\"><div class=\"sk-item\"><div class=\"sk-label-container\"><div class=\"sk-label sk-toggleable\"><input class=\"sk-toggleable__control sk-hidden--visually\" id=\"sk-estimator-id-8\" type=\"checkbox\" ><label for=\"sk-estimator-id-8\" class=\"sk-toggleable__label sk-toggleable__label-arrow\">estimator: LGBMRegressor</label><div class=\"sk-toggleable__content\"><pre>LGBMRegressor(verbose=-1)</pre></div></div></div><div class=\"sk-serial\"><div class=\"sk-item\"><div class=\"sk-estimator sk-toggleable\"><input class=\"sk-toggleable__control sk-hidden--visually\" id=\"sk-estimator-id-9\" type=\"checkbox\" ><label for=\"sk-estimator-id-9\" class=\"sk-toggleable__label sk-toggleable__label-arrow\">LGBMRegressor</label><div class=\"sk-toggleable__content\"><pre>LGBMRegressor(verbose=-1)</pre></div></div></div></div></div></div></div></div></div></div>"
      ],
      "text/plain": [
       "RandomizedSearchCV(estimator=LGBMRegressor(verbose=-1), n_iter=2,\n",
       "                   param_distributions={'learning_rate': array([0.001     , 0.00316228, 0.01      , 0.03162278, 0.1       ]),\n",
       "                                        'max_depth': [10, 20],\n",
       "                                        'min_child_samples': [5, 15],\n",
       "                                        'num_leaves': [31, 41, 51],\n",
       "                                        'reg_alpha': array([0.0001, 0.01  ])},\n",
       "                   verbose=False)"
      ]
     },
     "execution_count": 23,
     "metadata": {},
     "output_type": "execute_result"
    }
   ],
   "source": [
    "%%time\n",
    "lgbm_grid.fit(features_train, target_train)"
   ]
  },
  {
   "cell_type": "code",
   "execution_count": 24,
   "id": "e0dc14bb-8b62-478c-b6f5-4f1cf6705c5c",
   "metadata": {},
   "outputs": [
    {
     "data": {
      "text/plain": [
       "0.8706793278659453"
      ]
     },
     "execution_count": 24,
     "metadata": {},
     "output_type": "execute_result"
    }
   ],
   "source": [
    "lgbm_grid.best_score_"
   ]
  },
  {
   "cell_type": "code",
   "execution_count": 25,
   "id": "48a1e4d1-acee-4581-adc8-ac2af4ee4fba",
   "metadata": {},
   "outputs": [
    {
     "data": {
      "text/html": [
       "<div>\n",
       "<style scoped>\n",
       "    .dataframe tbody tr th:only-of-type {\n",
       "        vertical-align: middle;\n",
       "    }\n",
       "\n",
       "    .dataframe tbody tr th {\n",
       "        vertical-align: top;\n",
       "    }\n",
       "\n",
       "    .dataframe thead th {\n",
       "        text-align: right;\n",
       "    }\n",
       "</style>\n",
       "<table border=\"1\" class=\"dataframe\">\n",
       "  <thead>\n",
       "    <tr style=\"text-align: right;\">\n",
       "      <th></th>\n",
       "      <th>лучшая метрика на обучающей выборке</th>\n",
       "      <th>время обучения модели</th>\n",
       "      <th>время получения предсказаний</th>\n",
       "    </tr>\n",
       "  </thead>\n",
       "  <tbody>\n",
       "    <tr>\n",
       "      <th>LinearRegressor</th>\n",
       "      <td>0.990</td>\n",
       "      <td>0.025</td>\n",
       "      <td>0.002</td>\n",
       "    </tr>\n",
       "    <tr>\n",
       "      <th>LightGBM</th>\n",
       "      <td>0.871</td>\n",
       "      <td>1.340</td>\n",
       "      <td>0.002</td>\n",
       "    </tr>\n",
       "    <tr>\n",
       "      <th>CatBoost</th>\n",
       "      <td>0.988</td>\n",
       "      <td>19.406</td>\n",
       "      <td>0.003</td>\n",
       "    </tr>\n",
       "  </tbody>\n",
       "</table>\n",
       "</div>"
      ],
      "text/plain": [
       "                 лучшая метрика на обучающей выборке  время обучения модели  \\\n",
       "LinearRegressor                                0.990                  0.025   \n",
       "LightGBM                                       0.871                  1.340   \n",
       "CatBoost                                       0.988                 19.406   \n",
       "\n",
       "                 время получения предсказаний  \n",
       "LinearRegressor                         0.002  \n",
       "LightGBM                                0.002  \n",
       "CatBoost                                0.003  "
      ]
     },
     "metadata": {},
     "output_type": "display_data"
    }
   ],
   "source": [
    "grids = [lg_grid, lgbm_grid, cat_grid]\n",
    "\n",
    "models_data = []\n",
    "\n",
    "for grid in grids:\n",
    "    # id модели с лучшими параметрами\n",
    "    best_id = np.argmin(grid.cv_results_['rank_test_score'])\n",
    "    models_data.append(\n",
    "        [\n",
    "            # лучшее значение метрики на обучающей выборке\n",
    "            (grid.cv_results_['mean_test_score'][best_id]).round(3),\n",
    "            # время обучения модели\n",
    "            grid.cv_results_['mean_fit_time'][best_id].round(3),\n",
    "            # время плучения предсказаний\n",
    "            grid.cv_results_['mean_score_time'][best_id].round(3)\n",
    "        ]\n",
    "    ) \n",
    "models_df = pd.DataFrame(data=models_data,\n",
    "                         index=['LinearRegressor', 'LightGBM', 'CatBoost'],\n",
    "                         columns=['лучшая метрика на обучающей выборке', 'время обучения модели', 'время получения предсказаний']\n",
    "                        )\n",
    "display(models_df)"
   ]
  },
  {
   "cell_type": "markdown",
   "id": "756957e4-454f-43c5-9efb-01ad94831a73",
   "metadata": {},
   "source": [
    "Модель LightGBM показывает результаты ниже, чем остальные модели, а модель CatBoost очень долго обучается, поэтому для получения метрики на тестовой выборке будем использовать модель логистической регресии."
   ]
  },
  {
   "cell_type": "code",
   "execution_count": 26,
   "id": "23ba2114-3450-4227-bad7-f31bf2992cf1",
   "metadata": {},
   "outputs": [
    {
     "data": {
      "text/plain": [
       "0.9166666666666666"
      ]
     },
     "execution_count": 26,
     "metadata": {},
     "output_type": "execute_result"
    }
   ],
   "source": [
    "target_predicted = lg_grid.best_estimator_.predict(features_test)\n",
    "\n",
    "f1_score(target_test, target_predicted)"
   ]
  },
  {
   "cell_type": "markdown",
   "id": "270fdae1-b3df-4c19-b33a-1e063ed36c98",
   "metadata": {},
   "source": [
    "Значение метрики на целевом уровне."
   ]
  },
  {
   "cell_type": "markdown",
   "id": "2a383690-30e9-4b67-92e0-8d76d641a7aa",
   "metadata": {},
   "source": [
    "## Выводы по проделанной работе:\n",
    "1. Данные были получены в хорошем качестве и практически не требовали предобработки.\n",
    "1. Модель была обучена на семпле из 500 случайных комментариев.\n",
    "1. В качестве основы модели для обучения была выбрана готовая модель 'toxic-bert' и с помощью неё были получены эмбеддинги, которые были использованы в качестве признаков для моделей классификации.\n",
    "1. Были обучены несколько моделей с различными гиперпараметрами, самый лучший результат показала модель логистической регрессии.\n",
    "1. Значение метрики f1 на тестовой выборке достигло целевого уровня."
   ]
  }
 ],
 "metadata": {
  "ExecuteTimeLog": [
   {
    "duration": 13947,
    "start_time": "2023-02-23T13:30:34.586Z"
   },
   {
    "duration": 8510,
    "start_time": "2023-02-23T13:30:48.535Z"
   },
   {
    "duration": 2375,
    "start_time": "2023-02-23T13:30:57.047Z"
   },
   {
    "duration": 12,
    "start_time": "2023-02-23T13:30:59.424Z"
   },
   {
    "duration": 4,
    "start_time": "2023-02-23T13:30:59.438Z"
   },
   {
    "duration": 9,
    "start_time": "2023-02-23T13:30:59.444Z"
   },
   {
    "duration": 29383,
    "start_time": "2023-02-23T13:30:59.455Z"
   },
   {
    "duration": 162,
    "start_time": "2023-02-23T13:31:28.840Z"
   },
   {
    "duration": 688,
    "start_time": "2023-02-23T13:31:29.003Z"
   },
   {
    "duration": 33,
    "start_time": "2023-02-23T13:31:29.694Z"
   },
   {
    "duration": 25,
    "start_time": "2023-02-23T13:31:29.729Z"
   },
   {
    "duration": 123,
    "start_time": "2023-02-23T13:31:55.570Z"
   },
   {
    "duration": 2438,
    "start_time": "2023-02-23T13:32:15.474Z"
   },
   {
    "duration": 9317,
    "start_time": "2023-02-23T13:32:17.914Z"
   },
   {
    "duration": 2330,
    "start_time": "2023-02-23T13:32:27.233Z"
   },
   {
    "duration": 11,
    "start_time": "2023-02-23T13:32:29.565Z"
   },
   {
    "duration": 4,
    "start_time": "2023-02-23T13:32:29.578Z"
   },
   {
    "duration": 9,
    "start_time": "2023-02-23T13:32:29.583Z"
   },
   {
    "duration": 24347,
    "start_time": "2023-02-23T13:32:29.593Z"
   },
   {
    "duration": 174,
    "start_time": "2023-02-23T13:32:53.942Z"
   },
   {
    "duration": 4,
    "start_time": "2023-02-23T13:32:54.118Z"
   },
   {
    "duration": 18,
    "start_time": "2023-02-23T13:32:54.125Z"
   },
   {
    "duration": 6,
    "start_time": "2023-02-23T13:32:54.144Z"
   },
   {
    "duration": 2425,
    "start_time": "2023-02-23T13:34:29.328Z"
   },
   {
    "duration": 8777,
    "start_time": "2023-02-23T13:34:31.756Z"
   },
   {
    "duration": 2426,
    "start_time": "2023-02-23T13:34:40.535Z"
   },
   {
    "duration": 12,
    "start_time": "2023-02-23T13:34:42.963Z"
   },
   {
    "duration": 5,
    "start_time": "2023-02-23T13:34:42.977Z"
   },
   {
    "duration": 9,
    "start_time": "2023-02-23T13:34:42.983Z"
   },
   {
    "duration": 23932,
    "start_time": "2023-02-23T13:34:42.994Z"
   },
   {
    "duration": 134,
    "start_time": "2023-02-23T13:35:06.927Z"
   },
   {
    "duration": 4,
    "start_time": "2023-02-23T13:35:07.063Z"
   },
   {
    "duration": 18,
    "start_time": "2023-02-23T13:35:07.070Z"
   },
   {
    "duration": 5,
    "start_time": "2023-02-23T13:35:07.089Z"
   },
   {
    "duration": 62,
    "start_time": "2023-02-23T13:35:07.096Z"
   },
   {
    "duration": 0,
    "start_time": "2023-02-23T13:35:07.160Z"
   },
   {
    "duration": 0,
    "start_time": "2023-02-23T13:35:07.161Z"
   },
   {
    "duration": 0,
    "start_time": "2023-02-23T13:35:07.162Z"
   },
   {
    "duration": 0,
    "start_time": "2023-02-23T13:35:07.163Z"
   },
   {
    "duration": 15985,
    "start_time": "2023-02-25T12:15:13.453Z"
   },
   {
    "duration": 9580,
    "start_time": "2023-02-25T12:15:29.441Z"
   },
   {
    "duration": 3780,
    "start_time": "2023-02-25T12:15:39.024Z"
   },
   {
    "duration": 883,
    "start_time": "2023-02-25T12:15:42.807Z"
   },
   {
    "duration": 11,
    "start_time": "2023-02-25T12:15:43.692Z"
   },
   {
    "duration": 9,
    "start_time": "2023-02-25T12:15:43.705Z"
   },
   {
    "duration": 7,
    "start_time": "2023-02-25T12:15:43.716Z"
   },
   {
    "duration": 22201,
    "start_time": "2023-02-25T12:15:43.739Z"
   },
   {
    "duration": 213,
    "start_time": "2023-02-25T12:16:05.942Z"
   },
   {
    "duration": 5,
    "start_time": "2023-02-25T12:16:06.159Z"
   },
   {
    "duration": 37,
    "start_time": "2023-02-25T12:16:06.166Z"
   },
   {
    "duration": 21,
    "start_time": "2023-02-25T12:16:06.205Z"
   },
   {
    "duration": 1390643,
    "start_time": "2023-02-25T12:16:06.228Z"
   },
   {
    "duration": 8,
    "start_time": "2023-02-25T12:39:16.945Z"
   },
   {
    "duration": 26,
    "start_time": "2023-02-25T12:39:16.956Z"
   },
   {
    "duration": 5,
    "start_time": "2023-02-25T12:39:16.985Z"
   },
   {
    "duration": 47354,
    "start_time": "2023-02-25T12:39:16.993Z"
   },
   {
    "duration": 8,
    "start_time": "2023-02-25T12:40:04.349Z"
   },
   {
    "duration": 2,
    "start_time": "2023-02-25T12:40:04.359Z"
   },
   {
    "duration": 6,
    "start_time": "2023-02-25T12:40:04.363Z"
   },
   {
    "duration": 306033,
    "start_time": "2023-02-25T12:40:04.441Z"
   },
   {
    "duration": 4,
    "start_time": "2023-02-25T12:45:10.476Z"
   },
   {
    "duration": 6,
    "start_time": "2023-02-25T12:45:10.481Z"
   },
   {
    "duration": 428061,
    "start_time": "2023-02-25T12:45:10.488Z"
   },
   {
    "duration": 5,
    "start_time": "2023-02-25T12:52:18.550Z"
   },
   {
    "duration": 13,
    "start_time": "2023-02-25T12:52:18.557Z"
   },
   {
    "duration": 73,
    "start_time": "2023-02-25T12:52:18.572Z"
   }
  ],
  "kernelspec": {
   "display_name": "Python 3 (ipykernel)",
   "language": "python",
   "name": "python3"
  },
  "language_info": {
   "codemirror_mode": {
    "name": "ipython",
    "version": 3
   },
   "file_extension": ".py",
   "mimetype": "text/x-python",
   "name": "python",
   "nbconvert_exporter": "python",
   "pygments_lexer": "ipython3",
   "version": "3.9.17"
  },
  "toc": {
   "base_numbering": 1,
   "nav_menu": {},
   "number_sections": true,
   "sideBar": true,
   "skip_h1_title": true,
   "title_cell": "Table of Contents",
   "title_sidebar": "Contents",
   "toc_cell": false,
   "toc_position": {},
   "toc_section_display": true,
   "toc_window_display": false
  }
 },
 "nbformat": 4,
 "nbformat_minor": 5
}
