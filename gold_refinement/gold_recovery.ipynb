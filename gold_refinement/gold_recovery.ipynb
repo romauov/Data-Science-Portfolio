{
 "cells": [
  {
   "cell_type": "markdown",
   "id": "3a80df5b-3976-48ff-8610-eb7288acd650",
   "metadata": {},
   "source": [
    "# Восстановление золота из руды"
   ]
  },
  {
   "cell_type": "markdown",
   "id": "01cf6452-41e3-4526-beb6-1d5b8f0ccd34",
   "metadata": {},
   "source": [
    "Компание \"Цифра\", разрабатывающей решения для эффективной работы промышленных предприятий, необходимо разработать прототип модели машинного обучения.\n",
    "\n",
    "Модель должна предсказывать коэффициент восстановления золота из золотосодержащей рудына основе данных с параметрами добычи и очистки. \n",
    "\n",
    "Модель должна оптимизировать производство, чтобы избежать убытков от запуска техпроцессов с убыточными характеристиками.\n",
    "\n",
    "Вам потребуется:\n",
    "\n",
    "1. Подготовить данные;\n",
    "2. Провести исследовательский анализ данных;\n",
    "3. Построить и обучить модель."
   ]
  },
  {
   "cell_type": "markdown",
   "id": "a3f56928-3a31-43ae-9cd5-086470124ecc",
   "metadata": {},
   "source": [
    "## Подготовка данных"
   ]
  },
  {
   "cell_type": "code",
   "execution_count": 1,
   "id": "f4964475-edd2-4156-a051-7e3deeeca963",
   "metadata": {},
   "outputs": [],
   "source": [
    "import matplotlib.pyplot as plt\n",
    "import numpy as np\n",
    "import pandas as pd\n",
    "import seaborn as sns\n",
    "\n",
    "from sklearn.dummy import DummyRegressor\n",
    "from sklearn.ensemble import RandomForestRegressor\n",
    "from sklearn.linear_model import LinearRegression\n",
    "from sklearn.metrics import make_scorer\n",
    "from sklearn.metrics import mean_absolute_error as mae\n",
    "from sklearn.model_selection import cross_val_score, train_test_split\n",
    "from sklearn.preprocessing import StandardScaler\n",
    "from sklearn.tree import DecisionTreeRegressor\n",
    "\n",
    "from time import perf_counter"
   ]
  },
  {
   "cell_type": "markdown",
   "id": "1d8b2d3b-7d9f-4842-b607-4fdb4e87f1b1",
   "metadata": {},
   "source": [
    "### Загрузим имеющиеся датасеты и проведём первичный анализ."
   ]
  },
  {
   "cell_type": "code",
   "execution_count": 2,
   "id": "343bf162-2658-4585-b761-468028059580",
   "metadata": {},
   "outputs": [],
   "source": [
    "df_test = pd.read_csv('datasets/gold_recovery_test_new.csv')\n",
    "df_train = pd.read_csv('datasets/gold_recovery_train_new.csv')\n",
    "df_full = pd.read_csv('datasets/gold_recovery_full_new.csv')"
   ]
  },
  {
   "cell_type": "code",
   "execution_count": 3,
   "id": "edbfb367-bf36-47c1-84e1-f858852e054f",
   "metadata": {},
   "outputs": [
    {
     "data": {
      "text/html": [
       "<div>\n",
       "<style scoped>\n",
       "    .dataframe tbody tr th:only-of-type {\n",
       "        vertical-align: middle;\n",
       "    }\n",
       "\n",
       "    .dataframe tbody tr th {\n",
       "        vertical-align: top;\n",
       "    }\n",
       "\n",
       "    .dataframe thead th {\n",
       "        text-align: right;\n",
       "    }\n",
       "</style>\n",
       "<table border=\"1\" class=\"dataframe\">\n",
       "  <thead>\n",
       "    <tr style=\"text-align: right;\">\n",
       "      <th></th>\n",
       "      <th>date</th>\n",
       "      <th>primary_cleaner.input.sulfate</th>\n",
       "      <th>primary_cleaner.input.depressant</th>\n",
       "      <th>primary_cleaner.input.feed_size</th>\n",
       "      <th>primary_cleaner.input.xanthate</th>\n",
       "      <th>primary_cleaner.state.floatbank8_a_air</th>\n",
       "      <th>primary_cleaner.state.floatbank8_a_level</th>\n",
       "      <th>primary_cleaner.state.floatbank8_b_air</th>\n",
       "      <th>primary_cleaner.state.floatbank8_b_level</th>\n",
       "      <th>primary_cleaner.state.floatbank8_c_air</th>\n",
       "      <th>...</th>\n",
       "      <th>secondary_cleaner.state.floatbank4_a_air</th>\n",
       "      <th>secondary_cleaner.state.floatbank4_a_level</th>\n",
       "      <th>secondary_cleaner.state.floatbank4_b_air</th>\n",
       "      <th>secondary_cleaner.state.floatbank4_b_level</th>\n",
       "      <th>secondary_cleaner.state.floatbank5_a_air</th>\n",
       "      <th>secondary_cleaner.state.floatbank5_a_level</th>\n",
       "      <th>secondary_cleaner.state.floatbank5_b_air</th>\n",
       "      <th>secondary_cleaner.state.floatbank5_b_level</th>\n",
       "      <th>secondary_cleaner.state.floatbank6_a_air</th>\n",
       "      <th>secondary_cleaner.state.floatbank6_a_level</th>\n",
       "    </tr>\n",
       "  </thead>\n",
       "  <tbody>\n",
       "    <tr>\n",
       "      <th>0</th>\n",
       "      <td>2016-09-01 00:59:59</td>\n",
       "      <td>210.800909</td>\n",
       "      <td>14.993118</td>\n",
       "      <td>8.080000</td>\n",
       "      <td>1.005021</td>\n",
       "      <td>1398.981301</td>\n",
       "      <td>-500.225577</td>\n",
       "      <td>1399.144926</td>\n",
       "      <td>-499.919735</td>\n",
       "      <td>1400.102998</td>\n",
       "      <td>...</td>\n",
       "      <td>12.023554</td>\n",
       "      <td>-497.795834</td>\n",
       "      <td>8.016656</td>\n",
       "      <td>-501.289139</td>\n",
       "      <td>7.946562</td>\n",
       "      <td>-432.317850</td>\n",
       "      <td>4.872511</td>\n",
       "      <td>-500.037437</td>\n",
       "      <td>26.705889</td>\n",
       "      <td>-499.709414</td>\n",
       "    </tr>\n",
       "    <tr>\n",
       "      <th>1</th>\n",
       "      <td>2016-09-01 01:59:59</td>\n",
       "      <td>215.392455</td>\n",
       "      <td>14.987471</td>\n",
       "      <td>8.080000</td>\n",
       "      <td>0.990469</td>\n",
       "      <td>1398.777912</td>\n",
       "      <td>-500.057435</td>\n",
       "      <td>1398.055362</td>\n",
       "      <td>-499.778182</td>\n",
       "      <td>1396.151033</td>\n",
       "      <td>...</td>\n",
       "      <td>12.058140</td>\n",
       "      <td>-498.695773</td>\n",
       "      <td>8.130979</td>\n",
       "      <td>-499.634209</td>\n",
       "      <td>7.958270</td>\n",
       "      <td>-525.839648</td>\n",
       "      <td>4.878850</td>\n",
       "      <td>-500.162375</td>\n",
       "      <td>25.019940</td>\n",
       "      <td>-499.819438</td>\n",
       "    </tr>\n",
       "    <tr>\n",
       "      <th>2</th>\n",
       "      <td>2016-09-01 02:59:59</td>\n",
       "      <td>215.259946</td>\n",
       "      <td>12.884934</td>\n",
       "      <td>7.786667</td>\n",
       "      <td>0.996043</td>\n",
       "      <td>1398.493666</td>\n",
       "      <td>-500.868360</td>\n",
       "      <td>1398.860436</td>\n",
       "      <td>-499.764529</td>\n",
       "      <td>1398.075709</td>\n",
       "      <td>...</td>\n",
       "      <td>11.962366</td>\n",
       "      <td>-498.767484</td>\n",
       "      <td>8.096893</td>\n",
       "      <td>-500.827423</td>\n",
       "      <td>8.071056</td>\n",
       "      <td>-500.801673</td>\n",
       "      <td>4.905125</td>\n",
       "      <td>-499.828510</td>\n",
       "      <td>24.994862</td>\n",
       "      <td>-500.622559</td>\n",
       "    </tr>\n",
       "    <tr>\n",
       "      <th>3</th>\n",
       "      <td>2016-09-01 03:59:59</td>\n",
       "      <td>215.336236</td>\n",
       "      <td>12.006805</td>\n",
       "      <td>7.640000</td>\n",
       "      <td>0.863514</td>\n",
       "      <td>1399.618111</td>\n",
       "      <td>-498.863574</td>\n",
       "      <td>1397.440120</td>\n",
       "      <td>-499.211024</td>\n",
       "      <td>1400.129303</td>\n",
       "      <td>...</td>\n",
       "      <td>12.033091</td>\n",
       "      <td>-498.350935</td>\n",
       "      <td>8.074946</td>\n",
       "      <td>-499.474407</td>\n",
       "      <td>7.897085</td>\n",
       "      <td>-500.868509</td>\n",
       "      <td>4.931400</td>\n",
       "      <td>-499.963623</td>\n",
       "      <td>24.948919</td>\n",
       "      <td>-498.709987</td>\n",
       "    </tr>\n",
       "    <tr>\n",
       "      <th>4</th>\n",
       "      <td>2016-09-01 04:59:59</td>\n",
       "      <td>199.099327</td>\n",
       "      <td>10.682530</td>\n",
       "      <td>7.530000</td>\n",
       "      <td>0.805575</td>\n",
       "      <td>1401.268123</td>\n",
       "      <td>-500.808305</td>\n",
       "      <td>1398.128818</td>\n",
       "      <td>-499.504543</td>\n",
       "      <td>1402.172226</td>\n",
       "      <td>...</td>\n",
       "      <td>12.025367</td>\n",
       "      <td>-500.786497</td>\n",
       "      <td>8.054678</td>\n",
       "      <td>-500.397500</td>\n",
       "      <td>8.107890</td>\n",
       "      <td>-509.526725</td>\n",
       "      <td>4.957674</td>\n",
       "      <td>-500.360026</td>\n",
       "      <td>25.003331</td>\n",
       "      <td>-500.856333</td>\n",
       "    </tr>\n",
       "  </tbody>\n",
       "</table>\n",
       "<p>5 rows × 53 columns</p>\n",
       "</div>"
      ],
      "text/plain": [
       "                  date  primary_cleaner.input.sulfate  \\\n",
       "0  2016-09-01 00:59:59                     210.800909   \n",
       "1  2016-09-01 01:59:59                     215.392455   \n",
       "2  2016-09-01 02:59:59                     215.259946   \n",
       "3  2016-09-01 03:59:59                     215.336236   \n",
       "4  2016-09-01 04:59:59                     199.099327   \n",
       "\n",
       "   primary_cleaner.input.depressant  primary_cleaner.input.feed_size  \\\n",
       "0                         14.993118                         8.080000   \n",
       "1                         14.987471                         8.080000   \n",
       "2                         12.884934                         7.786667   \n",
       "3                         12.006805                         7.640000   \n",
       "4                         10.682530                         7.530000   \n",
       "\n",
       "   primary_cleaner.input.xanthate  primary_cleaner.state.floatbank8_a_air  \\\n",
       "0                        1.005021                             1398.981301   \n",
       "1                        0.990469                             1398.777912   \n",
       "2                        0.996043                             1398.493666   \n",
       "3                        0.863514                             1399.618111   \n",
       "4                        0.805575                             1401.268123   \n",
       "\n",
       "   primary_cleaner.state.floatbank8_a_level  \\\n",
       "0                               -500.225577   \n",
       "1                               -500.057435   \n",
       "2                               -500.868360   \n",
       "3                               -498.863574   \n",
       "4                               -500.808305   \n",
       "\n",
       "   primary_cleaner.state.floatbank8_b_air  \\\n",
       "0                             1399.144926   \n",
       "1                             1398.055362   \n",
       "2                             1398.860436   \n",
       "3                             1397.440120   \n",
       "4                             1398.128818   \n",
       "\n",
       "   primary_cleaner.state.floatbank8_b_level  \\\n",
       "0                               -499.919735   \n",
       "1                               -499.778182   \n",
       "2                               -499.764529   \n",
       "3                               -499.211024   \n",
       "4                               -499.504543   \n",
       "\n",
       "   primary_cleaner.state.floatbank8_c_air  ...  \\\n",
       "0                             1400.102998  ...   \n",
       "1                             1396.151033  ...   \n",
       "2                             1398.075709  ...   \n",
       "3                             1400.129303  ...   \n",
       "4                             1402.172226  ...   \n",
       "\n",
       "   secondary_cleaner.state.floatbank4_a_air  \\\n",
       "0                                 12.023554   \n",
       "1                                 12.058140   \n",
       "2                                 11.962366   \n",
       "3                                 12.033091   \n",
       "4                                 12.025367   \n",
       "\n",
       "   secondary_cleaner.state.floatbank4_a_level  \\\n",
       "0                                 -497.795834   \n",
       "1                                 -498.695773   \n",
       "2                                 -498.767484   \n",
       "3                                 -498.350935   \n",
       "4                                 -500.786497   \n",
       "\n",
       "   secondary_cleaner.state.floatbank4_b_air  \\\n",
       "0                                  8.016656   \n",
       "1                                  8.130979   \n",
       "2                                  8.096893   \n",
       "3                                  8.074946   \n",
       "4                                  8.054678   \n",
       "\n",
       "   secondary_cleaner.state.floatbank4_b_level  \\\n",
       "0                                 -501.289139   \n",
       "1                                 -499.634209   \n",
       "2                                 -500.827423   \n",
       "3                                 -499.474407   \n",
       "4                                 -500.397500   \n",
       "\n",
       "   secondary_cleaner.state.floatbank5_a_air  \\\n",
       "0                                  7.946562   \n",
       "1                                  7.958270   \n",
       "2                                  8.071056   \n",
       "3                                  7.897085   \n",
       "4                                  8.107890   \n",
       "\n",
       "   secondary_cleaner.state.floatbank5_a_level  \\\n",
       "0                                 -432.317850   \n",
       "1                                 -525.839648   \n",
       "2                                 -500.801673   \n",
       "3                                 -500.868509   \n",
       "4                                 -509.526725   \n",
       "\n",
       "   secondary_cleaner.state.floatbank5_b_air  \\\n",
       "0                                  4.872511   \n",
       "1                                  4.878850   \n",
       "2                                  4.905125   \n",
       "3                                  4.931400   \n",
       "4                                  4.957674   \n",
       "\n",
       "   secondary_cleaner.state.floatbank5_b_level  \\\n",
       "0                                 -500.037437   \n",
       "1                                 -500.162375   \n",
       "2                                 -499.828510   \n",
       "3                                 -499.963623   \n",
       "4                                 -500.360026   \n",
       "\n",
       "   secondary_cleaner.state.floatbank6_a_air  \\\n",
       "0                                 26.705889   \n",
       "1                                 25.019940   \n",
       "2                                 24.994862   \n",
       "3                                 24.948919   \n",
       "4                                 25.003331   \n",
       "\n",
       "   secondary_cleaner.state.floatbank6_a_level  \n",
       "0                                 -499.709414  \n",
       "1                                 -499.819438  \n",
       "2                                 -500.622559  \n",
       "3                                 -498.709987  \n",
       "4                                 -500.856333  \n",
       "\n",
       "[5 rows x 53 columns]"
      ]
     },
     "execution_count": 3,
     "metadata": {},
     "output_type": "execute_result"
    }
   ],
   "source": [
    "df_test.head()"
   ]
  },
  {
   "cell_type": "code",
   "execution_count": 4,
   "id": "32fce28d-9260-4a46-b9a4-1d7f84988c58",
   "metadata": {},
   "outputs": [
    {
     "name": "stdout",
     "output_type": "stream",
     "text": [
      "<class 'pandas.core.frame.DataFrame'>\n",
      "RangeIndex: 5290 entries, 0 to 5289\n",
      "Data columns (total 53 columns):\n",
      " #   Column                                      Non-Null Count  Dtype  \n",
      "---  ------                                      --------------  -----  \n",
      " 0   date                                        5290 non-null   object \n",
      " 1   primary_cleaner.input.sulfate               5286 non-null   float64\n",
      " 2   primary_cleaner.input.depressant            5285 non-null   float64\n",
      " 3   primary_cleaner.input.feed_size             5290 non-null   float64\n",
      " 4   primary_cleaner.input.xanthate              5286 non-null   float64\n",
      " 5   primary_cleaner.state.floatbank8_a_air      5290 non-null   float64\n",
      " 6   primary_cleaner.state.floatbank8_a_level    5290 non-null   float64\n",
      " 7   primary_cleaner.state.floatbank8_b_air      5290 non-null   float64\n",
      " 8   primary_cleaner.state.floatbank8_b_level    5290 non-null   float64\n",
      " 9   primary_cleaner.state.floatbank8_c_air      5290 non-null   float64\n",
      " 10  primary_cleaner.state.floatbank8_c_level    5290 non-null   float64\n",
      " 11  primary_cleaner.state.floatbank8_d_air      5290 non-null   float64\n",
      " 12  primary_cleaner.state.floatbank8_d_level    5290 non-null   float64\n",
      " 13  rougher.input.feed_ag                       5290 non-null   float64\n",
      " 14  rougher.input.feed_pb                       5290 non-null   float64\n",
      " 15  rougher.input.feed_rate                     5287 non-null   float64\n",
      " 16  rougher.input.feed_size                     5289 non-null   float64\n",
      " 17  rougher.input.feed_sol                      5269 non-null   float64\n",
      " 18  rougher.input.feed_au                       5290 non-null   float64\n",
      " 19  rougher.input.floatbank10_sulfate           5285 non-null   float64\n",
      " 20  rougher.input.floatbank10_xanthate          5290 non-null   float64\n",
      " 21  rougher.input.floatbank11_sulfate           5282 non-null   float64\n",
      " 22  rougher.input.floatbank11_xanthate          5265 non-null   float64\n",
      " 23  rougher.state.floatbank10_a_air             5290 non-null   float64\n",
      " 24  rougher.state.floatbank10_a_level           5290 non-null   float64\n",
      " 25  rougher.state.floatbank10_b_air             5290 non-null   float64\n",
      " 26  rougher.state.floatbank10_b_level           5290 non-null   float64\n",
      " 27  rougher.state.floatbank10_c_air             5290 non-null   float64\n",
      " 28  rougher.state.floatbank10_c_level           5290 non-null   float64\n",
      " 29  rougher.state.floatbank10_d_air             5290 non-null   float64\n",
      " 30  rougher.state.floatbank10_d_level           5290 non-null   float64\n",
      " 31  rougher.state.floatbank10_e_air             5290 non-null   float64\n",
      " 32  rougher.state.floatbank10_e_level           5290 non-null   float64\n",
      " 33  rougher.state.floatbank10_f_air             5290 non-null   float64\n",
      " 34  rougher.state.floatbank10_f_level           5290 non-null   float64\n",
      " 35  secondary_cleaner.state.floatbank2_a_air    5287 non-null   float64\n",
      " 36  secondary_cleaner.state.floatbank2_a_level  5290 non-null   float64\n",
      " 37  secondary_cleaner.state.floatbank2_b_air    5288 non-null   float64\n",
      " 38  secondary_cleaner.state.floatbank2_b_level  5290 non-null   float64\n",
      " 39  secondary_cleaner.state.floatbank3_a_air    5281 non-null   float64\n",
      " 40  secondary_cleaner.state.floatbank3_a_level  5290 non-null   float64\n",
      " 41  secondary_cleaner.state.floatbank3_b_air    5290 non-null   float64\n",
      " 42  secondary_cleaner.state.floatbank3_b_level  5290 non-null   float64\n",
      " 43  secondary_cleaner.state.floatbank4_a_air    5290 non-null   float64\n",
      " 44  secondary_cleaner.state.floatbank4_a_level  5290 non-null   float64\n",
      " 45  secondary_cleaner.state.floatbank4_b_air    5290 non-null   float64\n",
      " 46  secondary_cleaner.state.floatbank4_b_level  5290 non-null   float64\n",
      " 47  secondary_cleaner.state.floatbank5_a_air    5290 non-null   float64\n",
      " 48  secondary_cleaner.state.floatbank5_a_level  5290 non-null   float64\n",
      " 49  secondary_cleaner.state.floatbank5_b_air    5290 non-null   float64\n",
      " 50  secondary_cleaner.state.floatbank5_b_level  5290 non-null   float64\n",
      " 51  secondary_cleaner.state.floatbank6_a_air    5290 non-null   float64\n",
      " 52  secondary_cleaner.state.floatbank6_a_level  5290 non-null   float64\n",
      "dtypes: float64(52), object(1)\n",
      "memory usage: 2.1+ MB\n"
     ]
    }
   ],
   "source": [
    "df_test.info()"
   ]
  },
  {
   "cell_type": "code",
   "execution_count": 5,
   "id": "03094a4c-336d-4de4-8582-fb3bf0af688f",
   "metadata": {},
   "outputs": [
    {
     "data": {
      "text/html": [
       "<div>\n",
       "<style scoped>\n",
       "    .dataframe tbody tr th:only-of-type {\n",
       "        vertical-align: middle;\n",
       "    }\n",
       "\n",
       "    .dataframe tbody tr th {\n",
       "        vertical-align: top;\n",
       "    }\n",
       "\n",
       "    .dataframe thead th {\n",
       "        text-align: right;\n",
       "    }\n",
       "</style>\n",
       "<table border=\"1\" class=\"dataframe\">\n",
       "  <thead>\n",
       "    <tr style=\"text-align: right;\">\n",
       "      <th></th>\n",
       "      <th>date</th>\n",
       "      <th>final.output.concentrate_ag</th>\n",
       "      <th>final.output.concentrate_pb</th>\n",
       "      <th>final.output.concentrate_sol</th>\n",
       "      <th>final.output.concentrate_au</th>\n",
       "      <th>final.output.recovery</th>\n",
       "      <th>final.output.tail_ag</th>\n",
       "      <th>final.output.tail_pb</th>\n",
       "      <th>final.output.tail_sol</th>\n",
       "      <th>final.output.tail_au</th>\n",
       "      <th>...</th>\n",
       "      <th>secondary_cleaner.state.floatbank4_a_air</th>\n",
       "      <th>secondary_cleaner.state.floatbank4_a_level</th>\n",
       "      <th>secondary_cleaner.state.floatbank4_b_air</th>\n",
       "      <th>secondary_cleaner.state.floatbank4_b_level</th>\n",
       "      <th>secondary_cleaner.state.floatbank5_a_air</th>\n",
       "      <th>secondary_cleaner.state.floatbank5_a_level</th>\n",
       "      <th>secondary_cleaner.state.floatbank5_b_air</th>\n",
       "      <th>secondary_cleaner.state.floatbank5_b_level</th>\n",
       "      <th>secondary_cleaner.state.floatbank6_a_air</th>\n",
       "      <th>secondary_cleaner.state.floatbank6_a_level</th>\n",
       "    </tr>\n",
       "  </thead>\n",
       "  <tbody>\n",
       "    <tr>\n",
       "      <th>0</th>\n",
       "      <td>2016-01-15 00:00:00</td>\n",
       "      <td>6.055403</td>\n",
       "      <td>9.889648</td>\n",
       "      <td>5.507324</td>\n",
       "      <td>42.192020</td>\n",
       "      <td>70.541216</td>\n",
       "      <td>10.411962</td>\n",
       "      <td>0.895447</td>\n",
       "      <td>16.904297</td>\n",
       "      <td>2.143149</td>\n",
       "      <td>...</td>\n",
       "      <td>14.016835</td>\n",
       "      <td>-502.488007</td>\n",
       "      <td>12.099931</td>\n",
       "      <td>-504.715942</td>\n",
       "      <td>9.925633</td>\n",
       "      <td>-498.310211</td>\n",
       "      <td>8.079666</td>\n",
       "      <td>-500.470978</td>\n",
       "      <td>14.151341</td>\n",
       "      <td>-605.841980</td>\n",
       "    </tr>\n",
       "    <tr>\n",
       "      <th>1</th>\n",
       "      <td>2016-01-15 01:00:00</td>\n",
       "      <td>6.029369</td>\n",
       "      <td>9.968944</td>\n",
       "      <td>5.257781</td>\n",
       "      <td>42.701629</td>\n",
       "      <td>69.266198</td>\n",
       "      <td>10.462676</td>\n",
       "      <td>0.927452</td>\n",
       "      <td>16.634514</td>\n",
       "      <td>2.224930</td>\n",
       "      <td>...</td>\n",
       "      <td>13.992281</td>\n",
       "      <td>-505.503262</td>\n",
       "      <td>11.950531</td>\n",
       "      <td>-501.331529</td>\n",
       "      <td>10.039245</td>\n",
       "      <td>-500.169983</td>\n",
       "      <td>7.984757</td>\n",
       "      <td>-500.582168</td>\n",
       "      <td>13.998353</td>\n",
       "      <td>-599.787184</td>\n",
       "    </tr>\n",
       "    <tr>\n",
       "      <th>2</th>\n",
       "      <td>2016-01-15 02:00:00</td>\n",
       "      <td>6.055926</td>\n",
       "      <td>10.213995</td>\n",
       "      <td>5.383759</td>\n",
       "      <td>42.657501</td>\n",
       "      <td>68.116445</td>\n",
       "      <td>10.507046</td>\n",
       "      <td>0.953716</td>\n",
       "      <td>16.208849</td>\n",
       "      <td>2.257889</td>\n",
       "      <td>...</td>\n",
       "      <td>14.015015</td>\n",
       "      <td>-502.520901</td>\n",
       "      <td>11.912783</td>\n",
       "      <td>-501.133383</td>\n",
       "      <td>10.070913</td>\n",
       "      <td>-500.129135</td>\n",
       "      <td>8.013877</td>\n",
       "      <td>-500.517572</td>\n",
       "      <td>14.028663</td>\n",
       "      <td>-601.427363</td>\n",
       "    </tr>\n",
       "    <tr>\n",
       "      <th>3</th>\n",
       "      <td>2016-01-15 03:00:00</td>\n",
       "      <td>6.047977</td>\n",
       "      <td>9.977019</td>\n",
       "      <td>4.858634</td>\n",
       "      <td>42.689819</td>\n",
       "      <td>68.347543</td>\n",
       "      <td>10.422762</td>\n",
       "      <td>0.883763</td>\n",
       "      <td>16.532835</td>\n",
       "      <td>2.146849</td>\n",
       "      <td>...</td>\n",
       "      <td>14.036510</td>\n",
       "      <td>-500.857308</td>\n",
       "      <td>11.999550</td>\n",
       "      <td>-501.193686</td>\n",
       "      <td>9.970366</td>\n",
       "      <td>-499.201640</td>\n",
       "      <td>7.977324</td>\n",
       "      <td>-500.255908</td>\n",
       "      <td>14.005551</td>\n",
       "      <td>-599.996129</td>\n",
       "    </tr>\n",
       "    <tr>\n",
       "      <th>4</th>\n",
       "      <td>2016-01-15 04:00:00</td>\n",
       "      <td>6.148599</td>\n",
       "      <td>10.142511</td>\n",
       "      <td>4.939416</td>\n",
       "      <td>42.774141</td>\n",
       "      <td>66.927016</td>\n",
       "      <td>10.360302</td>\n",
       "      <td>0.792826</td>\n",
       "      <td>16.525686</td>\n",
       "      <td>2.055292</td>\n",
       "      <td>...</td>\n",
       "      <td>14.027298</td>\n",
       "      <td>-499.838632</td>\n",
       "      <td>11.953070</td>\n",
       "      <td>-501.053894</td>\n",
       "      <td>9.925709</td>\n",
       "      <td>-501.686727</td>\n",
       "      <td>7.894242</td>\n",
       "      <td>-500.356035</td>\n",
       "      <td>13.996647</td>\n",
       "      <td>-601.496691</td>\n",
       "    </tr>\n",
       "  </tbody>\n",
       "</table>\n",
       "<p>5 rows × 87 columns</p>\n",
       "</div>"
      ],
      "text/plain": [
       "                  date  final.output.concentrate_ag  \\\n",
       "0  2016-01-15 00:00:00                     6.055403   \n",
       "1  2016-01-15 01:00:00                     6.029369   \n",
       "2  2016-01-15 02:00:00                     6.055926   \n",
       "3  2016-01-15 03:00:00                     6.047977   \n",
       "4  2016-01-15 04:00:00                     6.148599   \n",
       "\n",
       "   final.output.concentrate_pb  final.output.concentrate_sol  \\\n",
       "0                     9.889648                      5.507324   \n",
       "1                     9.968944                      5.257781   \n",
       "2                    10.213995                      5.383759   \n",
       "3                     9.977019                      4.858634   \n",
       "4                    10.142511                      4.939416   \n",
       "\n",
       "   final.output.concentrate_au  final.output.recovery  final.output.tail_ag  \\\n",
       "0                    42.192020              70.541216             10.411962   \n",
       "1                    42.701629              69.266198             10.462676   \n",
       "2                    42.657501              68.116445             10.507046   \n",
       "3                    42.689819              68.347543             10.422762   \n",
       "4                    42.774141              66.927016             10.360302   \n",
       "\n",
       "   final.output.tail_pb  final.output.tail_sol  final.output.tail_au  ...  \\\n",
       "0              0.895447              16.904297              2.143149  ...   \n",
       "1              0.927452              16.634514              2.224930  ...   \n",
       "2              0.953716              16.208849              2.257889  ...   \n",
       "3              0.883763              16.532835              2.146849  ...   \n",
       "4              0.792826              16.525686              2.055292  ...   \n",
       "\n",
       "   secondary_cleaner.state.floatbank4_a_air  \\\n",
       "0                                 14.016835   \n",
       "1                                 13.992281   \n",
       "2                                 14.015015   \n",
       "3                                 14.036510   \n",
       "4                                 14.027298   \n",
       "\n",
       "   secondary_cleaner.state.floatbank4_a_level  \\\n",
       "0                                 -502.488007   \n",
       "1                                 -505.503262   \n",
       "2                                 -502.520901   \n",
       "3                                 -500.857308   \n",
       "4                                 -499.838632   \n",
       "\n",
       "   secondary_cleaner.state.floatbank4_b_air  \\\n",
       "0                                 12.099931   \n",
       "1                                 11.950531   \n",
       "2                                 11.912783   \n",
       "3                                 11.999550   \n",
       "4                                 11.953070   \n",
       "\n",
       "   secondary_cleaner.state.floatbank4_b_level  \\\n",
       "0                                 -504.715942   \n",
       "1                                 -501.331529   \n",
       "2                                 -501.133383   \n",
       "3                                 -501.193686   \n",
       "4                                 -501.053894   \n",
       "\n",
       "   secondary_cleaner.state.floatbank5_a_air  \\\n",
       "0                                  9.925633   \n",
       "1                                 10.039245   \n",
       "2                                 10.070913   \n",
       "3                                  9.970366   \n",
       "4                                  9.925709   \n",
       "\n",
       "   secondary_cleaner.state.floatbank5_a_level  \\\n",
       "0                                 -498.310211   \n",
       "1                                 -500.169983   \n",
       "2                                 -500.129135   \n",
       "3                                 -499.201640   \n",
       "4                                 -501.686727   \n",
       "\n",
       "   secondary_cleaner.state.floatbank5_b_air  \\\n",
       "0                                  8.079666   \n",
       "1                                  7.984757   \n",
       "2                                  8.013877   \n",
       "3                                  7.977324   \n",
       "4                                  7.894242   \n",
       "\n",
       "   secondary_cleaner.state.floatbank5_b_level  \\\n",
       "0                                 -500.470978   \n",
       "1                                 -500.582168   \n",
       "2                                 -500.517572   \n",
       "3                                 -500.255908   \n",
       "4                                 -500.356035   \n",
       "\n",
       "   secondary_cleaner.state.floatbank6_a_air  \\\n",
       "0                                 14.151341   \n",
       "1                                 13.998353   \n",
       "2                                 14.028663   \n",
       "3                                 14.005551   \n",
       "4                                 13.996647   \n",
       "\n",
       "   secondary_cleaner.state.floatbank6_a_level  \n",
       "0                                 -605.841980  \n",
       "1                                 -599.787184  \n",
       "2                                 -601.427363  \n",
       "3                                 -599.996129  \n",
       "4                                 -601.496691  \n",
       "\n",
       "[5 rows x 87 columns]"
      ]
     },
     "execution_count": 5,
     "metadata": {},
     "output_type": "execute_result"
    }
   ],
   "source": [
    "df_train.head()"
   ]
  },
  {
   "cell_type": "code",
   "execution_count": 6,
   "id": "72853ae5-3db3-42cd-bcda-201a9cb6e462",
   "metadata": {},
   "outputs": [
    {
     "name": "stdout",
     "output_type": "stream",
     "text": [
      "<class 'pandas.core.frame.DataFrame'>\n",
      "RangeIndex: 14149 entries, 0 to 14148\n",
      "Data columns (total 87 columns):\n",
      " #   Column                                              Non-Null Count  Dtype  \n",
      "---  ------                                              --------------  -----  \n",
      " 0   date                                                14149 non-null  object \n",
      " 1   final.output.concentrate_ag                         14148 non-null  float64\n",
      " 2   final.output.concentrate_pb                         14148 non-null  float64\n",
      " 3   final.output.concentrate_sol                        13938 non-null  float64\n",
      " 4   final.output.concentrate_au                         14149 non-null  float64\n",
      " 5   final.output.recovery                               14149 non-null  float64\n",
      " 6   final.output.tail_ag                                14149 non-null  float64\n",
      " 7   final.output.tail_pb                                14049 non-null  float64\n",
      " 8   final.output.tail_sol                               14144 non-null  float64\n",
      " 9   final.output.tail_au                                14149 non-null  float64\n",
      " 10  primary_cleaner.input.sulfate                       14129 non-null  float64\n",
      " 11  primary_cleaner.input.depressant                    14117 non-null  float64\n",
      " 12  primary_cleaner.input.feed_size                     14149 non-null  float64\n",
      " 13  primary_cleaner.input.xanthate                      14049 non-null  float64\n",
      " 14  primary_cleaner.output.concentrate_ag               14149 non-null  float64\n",
      " 15  primary_cleaner.output.concentrate_pb               14063 non-null  float64\n",
      " 16  primary_cleaner.output.concentrate_sol              13863 non-null  float64\n",
      " 17  primary_cleaner.output.concentrate_au               14149 non-null  float64\n",
      " 18  primary_cleaner.output.tail_ag                      14148 non-null  float64\n",
      " 19  primary_cleaner.output.tail_pb                      14134 non-null  float64\n",
      " 20  primary_cleaner.output.tail_sol                     14103 non-null  float64\n",
      " 21  primary_cleaner.output.tail_au                      14149 non-null  float64\n",
      " 22  primary_cleaner.state.floatbank8_a_air              14145 non-null  float64\n",
      " 23  primary_cleaner.state.floatbank8_a_level            14148 non-null  float64\n",
      " 24  primary_cleaner.state.floatbank8_b_air              14145 non-null  float64\n",
      " 25  primary_cleaner.state.floatbank8_b_level            14148 non-null  float64\n",
      " 26  primary_cleaner.state.floatbank8_c_air              14147 non-null  float64\n",
      " 27  primary_cleaner.state.floatbank8_c_level            14148 non-null  float64\n",
      " 28  primary_cleaner.state.floatbank8_d_air              14146 non-null  float64\n",
      " 29  primary_cleaner.state.floatbank8_d_level            14148 non-null  float64\n",
      " 30  rougher.calculation.sulfate_to_au_concentrate       14148 non-null  float64\n",
      " 31  rougher.calculation.floatbank10_sulfate_to_au_feed  14148 non-null  float64\n",
      " 32  rougher.calculation.floatbank11_sulfate_to_au_feed  14148 non-null  float64\n",
      " 33  rougher.calculation.au_pb_ratio                     14149 non-null  float64\n",
      " 34  rougher.input.feed_ag                               14149 non-null  float64\n",
      " 35  rougher.input.feed_pb                               14049 non-null  float64\n",
      " 36  rougher.input.feed_rate                             14141 non-null  float64\n",
      " 37  rougher.input.feed_size                             14005 non-null  float64\n",
      " 38  rougher.input.feed_sol                              14071 non-null  float64\n",
      " 39  rougher.input.feed_au                               14149 non-null  float64\n",
      " 40  rougher.input.floatbank10_sulfate                   14120 non-null  float64\n",
      " 41  rougher.input.floatbank10_xanthate                  14141 non-null  float64\n",
      " 42  rougher.input.floatbank11_sulfate                   14113 non-null  float64\n",
      " 43  rougher.input.floatbank11_xanthate                  13721 non-null  float64\n",
      " 44  rougher.output.concentrate_ag                       14149 non-null  float64\n",
      " 45  rougher.output.concentrate_pb                       14149 non-null  float64\n",
      " 46  rougher.output.concentrate_sol                      14127 non-null  float64\n",
      " 47  rougher.output.concentrate_au                       14149 non-null  float64\n",
      " 48  rougher.output.recovery                             14149 non-null  float64\n",
      " 49  rougher.output.tail_ag                              14148 non-null  float64\n",
      " 50  rougher.output.tail_pb                              14149 non-null  float64\n",
      " 51  rougher.output.tail_sol                             14149 non-null  float64\n",
      " 52  rougher.output.tail_au                              14149 non-null  float64\n",
      " 53  rougher.state.floatbank10_a_air                     14148 non-null  float64\n",
      " 54  rougher.state.floatbank10_a_level                   14148 non-null  float64\n",
      " 55  rougher.state.floatbank10_b_air                     14148 non-null  float64\n",
      " 56  rougher.state.floatbank10_b_level                   14148 non-null  float64\n",
      " 57  rougher.state.floatbank10_c_air                     14148 non-null  float64\n",
      " 58  rougher.state.floatbank10_c_level                   14148 non-null  float64\n",
      " 59  rougher.state.floatbank10_d_air                     14149 non-null  float64\n",
      " 60  rougher.state.floatbank10_d_level                   14149 non-null  float64\n",
      " 61  rougher.state.floatbank10_e_air                     13713 non-null  float64\n",
      " 62  rougher.state.floatbank10_e_level                   14149 non-null  float64\n",
      " 63  rougher.state.floatbank10_f_air                     14149 non-null  float64\n",
      " 64  rougher.state.floatbank10_f_level                   14149 non-null  float64\n",
      " 65  secondary_cleaner.output.tail_ag                    14147 non-null  float64\n",
      " 66  secondary_cleaner.output.tail_pb                    14139 non-null  float64\n",
      " 67  secondary_cleaner.output.tail_sol                   12544 non-null  float64\n",
      " 68  secondary_cleaner.output.tail_au                    14149 non-null  float64\n",
      " 69  secondary_cleaner.state.floatbank2_a_air            13932 non-null  float64\n",
      " 70  secondary_cleaner.state.floatbank2_a_level          14148 non-null  float64\n",
      " 71  secondary_cleaner.state.floatbank2_b_air            14128 non-null  float64\n",
      " 72  secondary_cleaner.state.floatbank2_b_level          14148 non-null  float64\n",
      " 73  secondary_cleaner.state.floatbank3_a_air            14145 non-null  float64\n",
      " 74  secondary_cleaner.state.floatbank3_a_level          14148 non-null  float64\n",
      " 75  secondary_cleaner.state.floatbank3_b_air            14148 non-null  float64\n",
      " 76  secondary_cleaner.state.floatbank3_b_level          14148 non-null  float64\n",
      " 77  secondary_cleaner.state.floatbank4_a_air            14143 non-null  float64\n",
      " 78  secondary_cleaner.state.floatbank4_a_level          14148 non-null  float64\n",
      " 79  secondary_cleaner.state.floatbank4_b_air            14148 non-null  float64\n",
      " 80  secondary_cleaner.state.floatbank4_b_level          14148 non-null  float64\n",
      " 81  secondary_cleaner.state.floatbank5_a_air            14148 non-null  float64\n",
      " 82  secondary_cleaner.state.floatbank5_a_level          14148 non-null  float64\n",
      " 83  secondary_cleaner.state.floatbank5_b_air            14148 non-null  float64\n",
      " 84  secondary_cleaner.state.floatbank5_b_level          14148 non-null  float64\n",
      " 85  secondary_cleaner.state.floatbank6_a_air            14147 non-null  float64\n",
      " 86  secondary_cleaner.state.floatbank6_a_level          14148 non-null  float64\n",
      "dtypes: float64(86), object(1)\n",
      "memory usage: 9.4+ MB\n"
     ]
    }
   ],
   "source": [
    "df_train.info()"
   ]
  },
  {
   "cell_type": "code",
   "execution_count": 7,
   "id": "21a50bcf-6301-46de-a819-78a9e859bdfc",
   "metadata": {},
   "outputs": [
    {
     "data": {
      "text/html": [
       "<div>\n",
       "<style scoped>\n",
       "    .dataframe tbody tr th:only-of-type {\n",
       "        vertical-align: middle;\n",
       "    }\n",
       "\n",
       "    .dataframe tbody tr th {\n",
       "        vertical-align: top;\n",
       "    }\n",
       "\n",
       "    .dataframe thead th {\n",
       "        text-align: right;\n",
       "    }\n",
       "</style>\n",
       "<table border=\"1\" class=\"dataframe\">\n",
       "  <thead>\n",
       "    <tr style=\"text-align: right;\">\n",
       "      <th></th>\n",
       "      <th>date</th>\n",
       "      <th>final.output.concentrate_ag</th>\n",
       "      <th>final.output.concentrate_pb</th>\n",
       "      <th>final.output.concentrate_sol</th>\n",
       "      <th>final.output.concentrate_au</th>\n",
       "      <th>final.output.recovery</th>\n",
       "      <th>final.output.tail_ag</th>\n",
       "      <th>final.output.tail_pb</th>\n",
       "      <th>final.output.tail_sol</th>\n",
       "      <th>final.output.tail_au</th>\n",
       "      <th>...</th>\n",
       "      <th>secondary_cleaner.state.floatbank4_a_air</th>\n",
       "      <th>secondary_cleaner.state.floatbank4_a_level</th>\n",
       "      <th>secondary_cleaner.state.floatbank4_b_air</th>\n",
       "      <th>secondary_cleaner.state.floatbank4_b_level</th>\n",
       "      <th>secondary_cleaner.state.floatbank5_a_air</th>\n",
       "      <th>secondary_cleaner.state.floatbank5_a_level</th>\n",
       "      <th>secondary_cleaner.state.floatbank5_b_air</th>\n",
       "      <th>secondary_cleaner.state.floatbank5_b_level</th>\n",
       "      <th>secondary_cleaner.state.floatbank6_a_air</th>\n",
       "      <th>secondary_cleaner.state.floatbank6_a_level</th>\n",
       "    </tr>\n",
       "  </thead>\n",
       "  <tbody>\n",
       "    <tr>\n",
       "      <th>0</th>\n",
       "      <td>2016-01-15 00:00:00</td>\n",
       "      <td>6.055403</td>\n",
       "      <td>9.889648</td>\n",
       "      <td>5.507324</td>\n",
       "      <td>42.192020</td>\n",
       "      <td>70.541216</td>\n",
       "      <td>10.411962</td>\n",
       "      <td>0.895447</td>\n",
       "      <td>16.904297</td>\n",
       "      <td>2.143149</td>\n",
       "      <td>...</td>\n",
       "      <td>14.016835</td>\n",
       "      <td>-502.488007</td>\n",
       "      <td>12.099931</td>\n",
       "      <td>-504.715942</td>\n",
       "      <td>9.925633</td>\n",
       "      <td>-498.310211</td>\n",
       "      <td>8.079666</td>\n",
       "      <td>-500.470978</td>\n",
       "      <td>14.151341</td>\n",
       "      <td>-605.841980</td>\n",
       "    </tr>\n",
       "    <tr>\n",
       "      <th>1</th>\n",
       "      <td>2016-01-15 01:00:00</td>\n",
       "      <td>6.029369</td>\n",
       "      <td>9.968944</td>\n",
       "      <td>5.257781</td>\n",
       "      <td>42.701629</td>\n",
       "      <td>69.266198</td>\n",
       "      <td>10.462676</td>\n",
       "      <td>0.927452</td>\n",
       "      <td>16.634514</td>\n",
       "      <td>2.224930</td>\n",
       "      <td>...</td>\n",
       "      <td>13.992281</td>\n",
       "      <td>-505.503262</td>\n",
       "      <td>11.950531</td>\n",
       "      <td>-501.331529</td>\n",
       "      <td>10.039245</td>\n",
       "      <td>-500.169983</td>\n",
       "      <td>7.984757</td>\n",
       "      <td>-500.582168</td>\n",
       "      <td>13.998353</td>\n",
       "      <td>-599.787184</td>\n",
       "    </tr>\n",
       "    <tr>\n",
       "      <th>2</th>\n",
       "      <td>2016-01-15 02:00:00</td>\n",
       "      <td>6.055926</td>\n",
       "      <td>10.213995</td>\n",
       "      <td>5.383759</td>\n",
       "      <td>42.657501</td>\n",
       "      <td>68.116445</td>\n",
       "      <td>10.507046</td>\n",
       "      <td>0.953716</td>\n",
       "      <td>16.208849</td>\n",
       "      <td>2.257889</td>\n",
       "      <td>...</td>\n",
       "      <td>14.015015</td>\n",
       "      <td>-502.520901</td>\n",
       "      <td>11.912783</td>\n",
       "      <td>-501.133383</td>\n",
       "      <td>10.070913</td>\n",
       "      <td>-500.129135</td>\n",
       "      <td>8.013877</td>\n",
       "      <td>-500.517572</td>\n",
       "      <td>14.028663</td>\n",
       "      <td>-601.427363</td>\n",
       "    </tr>\n",
       "    <tr>\n",
       "      <th>3</th>\n",
       "      <td>2016-01-15 03:00:00</td>\n",
       "      <td>6.047977</td>\n",
       "      <td>9.977019</td>\n",
       "      <td>4.858634</td>\n",
       "      <td>42.689819</td>\n",
       "      <td>68.347543</td>\n",
       "      <td>10.422762</td>\n",
       "      <td>0.883763</td>\n",
       "      <td>16.532835</td>\n",
       "      <td>2.146849</td>\n",
       "      <td>...</td>\n",
       "      <td>14.036510</td>\n",
       "      <td>-500.857308</td>\n",
       "      <td>11.999550</td>\n",
       "      <td>-501.193686</td>\n",
       "      <td>9.970366</td>\n",
       "      <td>-499.201640</td>\n",
       "      <td>7.977324</td>\n",
       "      <td>-500.255908</td>\n",
       "      <td>14.005551</td>\n",
       "      <td>-599.996129</td>\n",
       "    </tr>\n",
       "    <tr>\n",
       "      <th>4</th>\n",
       "      <td>2016-01-15 04:00:00</td>\n",
       "      <td>6.148599</td>\n",
       "      <td>10.142511</td>\n",
       "      <td>4.939416</td>\n",
       "      <td>42.774141</td>\n",
       "      <td>66.927016</td>\n",
       "      <td>10.360302</td>\n",
       "      <td>0.792826</td>\n",
       "      <td>16.525686</td>\n",
       "      <td>2.055292</td>\n",
       "      <td>...</td>\n",
       "      <td>14.027298</td>\n",
       "      <td>-499.838632</td>\n",
       "      <td>11.953070</td>\n",
       "      <td>-501.053894</td>\n",
       "      <td>9.925709</td>\n",
       "      <td>-501.686727</td>\n",
       "      <td>7.894242</td>\n",
       "      <td>-500.356035</td>\n",
       "      <td>13.996647</td>\n",
       "      <td>-601.496691</td>\n",
       "    </tr>\n",
       "  </tbody>\n",
       "</table>\n",
       "<p>5 rows × 87 columns</p>\n",
       "</div>"
      ],
      "text/plain": [
       "                  date  final.output.concentrate_ag  \\\n",
       "0  2016-01-15 00:00:00                     6.055403   \n",
       "1  2016-01-15 01:00:00                     6.029369   \n",
       "2  2016-01-15 02:00:00                     6.055926   \n",
       "3  2016-01-15 03:00:00                     6.047977   \n",
       "4  2016-01-15 04:00:00                     6.148599   \n",
       "\n",
       "   final.output.concentrate_pb  final.output.concentrate_sol  \\\n",
       "0                     9.889648                      5.507324   \n",
       "1                     9.968944                      5.257781   \n",
       "2                    10.213995                      5.383759   \n",
       "3                     9.977019                      4.858634   \n",
       "4                    10.142511                      4.939416   \n",
       "\n",
       "   final.output.concentrate_au  final.output.recovery  final.output.tail_ag  \\\n",
       "0                    42.192020              70.541216             10.411962   \n",
       "1                    42.701629              69.266198             10.462676   \n",
       "2                    42.657501              68.116445             10.507046   \n",
       "3                    42.689819              68.347543             10.422762   \n",
       "4                    42.774141              66.927016             10.360302   \n",
       "\n",
       "   final.output.tail_pb  final.output.tail_sol  final.output.tail_au  ...  \\\n",
       "0              0.895447              16.904297              2.143149  ...   \n",
       "1              0.927452              16.634514              2.224930  ...   \n",
       "2              0.953716              16.208849              2.257889  ...   \n",
       "3              0.883763              16.532835              2.146849  ...   \n",
       "4              0.792826              16.525686              2.055292  ...   \n",
       "\n",
       "   secondary_cleaner.state.floatbank4_a_air  \\\n",
       "0                                 14.016835   \n",
       "1                                 13.992281   \n",
       "2                                 14.015015   \n",
       "3                                 14.036510   \n",
       "4                                 14.027298   \n",
       "\n",
       "   secondary_cleaner.state.floatbank4_a_level  \\\n",
       "0                                 -502.488007   \n",
       "1                                 -505.503262   \n",
       "2                                 -502.520901   \n",
       "3                                 -500.857308   \n",
       "4                                 -499.838632   \n",
       "\n",
       "   secondary_cleaner.state.floatbank4_b_air  \\\n",
       "0                                 12.099931   \n",
       "1                                 11.950531   \n",
       "2                                 11.912783   \n",
       "3                                 11.999550   \n",
       "4                                 11.953070   \n",
       "\n",
       "   secondary_cleaner.state.floatbank4_b_level  \\\n",
       "0                                 -504.715942   \n",
       "1                                 -501.331529   \n",
       "2                                 -501.133383   \n",
       "3                                 -501.193686   \n",
       "4                                 -501.053894   \n",
       "\n",
       "   secondary_cleaner.state.floatbank5_a_air  \\\n",
       "0                                  9.925633   \n",
       "1                                 10.039245   \n",
       "2                                 10.070913   \n",
       "3                                  9.970366   \n",
       "4                                  9.925709   \n",
       "\n",
       "   secondary_cleaner.state.floatbank5_a_level  \\\n",
       "0                                 -498.310211   \n",
       "1                                 -500.169983   \n",
       "2                                 -500.129135   \n",
       "3                                 -499.201640   \n",
       "4                                 -501.686727   \n",
       "\n",
       "   secondary_cleaner.state.floatbank5_b_air  \\\n",
       "0                                  8.079666   \n",
       "1                                  7.984757   \n",
       "2                                  8.013877   \n",
       "3                                  7.977324   \n",
       "4                                  7.894242   \n",
       "\n",
       "   secondary_cleaner.state.floatbank5_b_level  \\\n",
       "0                                 -500.470978   \n",
       "1                                 -500.582168   \n",
       "2                                 -500.517572   \n",
       "3                                 -500.255908   \n",
       "4                                 -500.356035   \n",
       "\n",
       "   secondary_cleaner.state.floatbank6_a_air  \\\n",
       "0                                 14.151341   \n",
       "1                                 13.998353   \n",
       "2                                 14.028663   \n",
       "3                                 14.005551   \n",
       "4                                 13.996647   \n",
       "\n",
       "   secondary_cleaner.state.floatbank6_a_level  \n",
       "0                                 -605.841980  \n",
       "1                                 -599.787184  \n",
       "2                                 -601.427363  \n",
       "3                                 -599.996129  \n",
       "4                                 -601.496691  \n",
       "\n",
       "[5 rows x 87 columns]"
      ]
     },
     "execution_count": 7,
     "metadata": {},
     "output_type": "execute_result"
    }
   ],
   "source": [
    "df_full.head()"
   ]
  },
  {
   "cell_type": "code",
   "execution_count": 8,
   "id": "033d0cfa-8392-4fc0-bf73-8f7681350584",
   "metadata": {},
   "outputs": [
    {
     "name": "stdout",
     "output_type": "stream",
     "text": [
      "<class 'pandas.core.frame.DataFrame'>\n",
      "RangeIndex: 19439 entries, 0 to 19438\n",
      "Data columns (total 87 columns):\n",
      " #   Column                                              Non-Null Count  Dtype  \n",
      "---  ------                                              --------------  -----  \n",
      " 0   date                                                19439 non-null  object \n",
      " 1   final.output.concentrate_ag                         19438 non-null  float64\n",
      " 2   final.output.concentrate_pb                         19438 non-null  float64\n",
      " 3   final.output.concentrate_sol                        19228 non-null  float64\n",
      " 4   final.output.concentrate_au                         19439 non-null  float64\n",
      " 5   final.output.recovery                               19439 non-null  float64\n",
      " 6   final.output.tail_ag                                19438 non-null  float64\n",
      " 7   final.output.tail_pb                                19338 non-null  float64\n",
      " 8   final.output.tail_sol                               19433 non-null  float64\n",
      " 9   final.output.tail_au                                19439 non-null  float64\n",
      " 10  primary_cleaner.input.sulfate                       19415 non-null  float64\n",
      " 11  primary_cleaner.input.depressant                    19402 non-null  float64\n",
      " 12  primary_cleaner.input.feed_size                     19439 non-null  float64\n",
      " 13  primary_cleaner.input.xanthate                      19335 non-null  float64\n",
      " 14  primary_cleaner.output.concentrate_ag               19439 non-null  float64\n",
      " 15  primary_cleaner.output.concentrate_pb               19323 non-null  float64\n",
      " 16  primary_cleaner.output.concentrate_sol              19069 non-null  float64\n",
      " 17  primary_cleaner.output.concentrate_au               19439 non-null  float64\n",
      " 18  primary_cleaner.output.tail_ag                      19435 non-null  float64\n",
      " 19  primary_cleaner.output.tail_pb                      19418 non-null  float64\n",
      " 20  primary_cleaner.output.tail_sol                     19377 non-null  float64\n",
      " 21  primary_cleaner.output.tail_au                      19439 non-null  float64\n",
      " 22  primary_cleaner.state.floatbank8_a_air              19435 non-null  float64\n",
      " 23  primary_cleaner.state.floatbank8_a_level            19438 non-null  float64\n",
      " 24  primary_cleaner.state.floatbank8_b_air              19435 non-null  float64\n",
      " 25  primary_cleaner.state.floatbank8_b_level            19438 non-null  float64\n",
      " 26  primary_cleaner.state.floatbank8_c_air              19437 non-null  float64\n",
      " 27  primary_cleaner.state.floatbank8_c_level            19438 non-null  float64\n",
      " 28  primary_cleaner.state.floatbank8_d_air              19436 non-null  float64\n",
      " 29  primary_cleaner.state.floatbank8_d_level            19438 non-null  float64\n",
      " 30  rougher.calculation.sulfate_to_au_concentrate       19437 non-null  float64\n",
      " 31  rougher.calculation.floatbank10_sulfate_to_au_feed  19437 non-null  float64\n",
      " 32  rougher.calculation.floatbank11_sulfate_to_au_feed  19437 non-null  float64\n",
      " 33  rougher.calculation.au_pb_ratio                     19439 non-null  float64\n",
      " 34  rougher.input.feed_ag                               19439 non-null  float64\n",
      " 35  rougher.input.feed_pb                               19339 non-null  float64\n",
      " 36  rougher.input.feed_rate                             19428 non-null  float64\n",
      " 37  rougher.input.feed_size                             19294 non-null  float64\n",
      " 38  rougher.input.feed_sol                              19340 non-null  float64\n",
      " 39  rougher.input.feed_au                               19439 non-null  float64\n",
      " 40  rougher.input.floatbank10_sulfate                   19405 non-null  float64\n",
      " 41  rougher.input.floatbank10_xanthate                  19431 non-null  float64\n",
      " 42  rougher.input.floatbank11_sulfate                   19395 non-null  float64\n",
      " 43  rougher.input.floatbank11_xanthate                  18986 non-null  float64\n",
      " 44  rougher.output.concentrate_ag                       19439 non-null  float64\n",
      " 45  rougher.output.concentrate_pb                       19439 non-null  float64\n",
      " 46  rougher.output.concentrate_sol                      19416 non-null  float64\n",
      " 47  rougher.output.concentrate_au                       19439 non-null  float64\n",
      " 48  rougher.output.recovery                             19439 non-null  float64\n",
      " 49  rougher.output.tail_ag                              19438 non-null  float64\n",
      " 50  rougher.output.tail_pb                              19439 non-null  float64\n",
      " 51  rougher.output.tail_sol                             19439 non-null  float64\n",
      " 52  rougher.output.tail_au                              19439 non-null  float64\n",
      " 53  rougher.state.floatbank10_a_air                     19438 non-null  float64\n",
      " 54  rougher.state.floatbank10_a_level                   19438 non-null  float64\n",
      " 55  rougher.state.floatbank10_b_air                     19438 non-null  float64\n",
      " 56  rougher.state.floatbank10_b_level                   19438 non-null  float64\n",
      " 57  rougher.state.floatbank10_c_air                     19438 non-null  float64\n",
      " 58  rougher.state.floatbank10_c_level                   19438 non-null  float64\n",
      " 59  rougher.state.floatbank10_d_air                     19439 non-null  float64\n",
      " 60  rougher.state.floatbank10_d_level                   19439 non-null  float64\n",
      " 61  rougher.state.floatbank10_e_air                     19003 non-null  float64\n",
      " 62  rougher.state.floatbank10_e_level                   19439 non-null  float64\n",
      " 63  rougher.state.floatbank10_f_air                     19439 non-null  float64\n",
      " 64  rougher.state.floatbank10_f_level                   19439 non-null  float64\n",
      " 65  secondary_cleaner.output.tail_ag                    19437 non-null  float64\n",
      " 66  secondary_cleaner.output.tail_pb                    19427 non-null  float64\n",
      " 67  secondary_cleaner.output.tail_sol                   17691 non-null  float64\n",
      " 68  secondary_cleaner.output.tail_au                    19439 non-null  float64\n",
      " 69  secondary_cleaner.state.floatbank2_a_air            19219 non-null  float64\n",
      " 70  secondary_cleaner.state.floatbank2_a_level          19438 non-null  float64\n",
      " 71  secondary_cleaner.state.floatbank2_b_air            19416 non-null  float64\n",
      " 72  secondary_cleaner.state.floatbank2_b_level          19438 non-null  float64\n",
      " 73  secondary_cleaner.state.floatbank3_a_air            19426 non-null  float64\n",
      " 74  secondary_cleaner.state.floatbank3_a_level          19438 non-null  float64\n",
      " 75  secondary_cleaner.state.floatbank3_b_air            19438 non-null  float64\n",
      " 76  secondary_cleaner.state.floatbank3_b_level          19438 non-null  float64\n",
      " 77  secondary_cleaner.state.floatbank4_a_air            19433 non-null  float64\n",
      " 78  secondary_cleaner.state.floatbank4_a_level          19438 non-null  float64\n",
      " 79  secondary_cleaner.state.floatbank4_b_air            19438 non-null  float64\n",
      " 80  secondary_cleaner.state.floatbank4_b_level          19438 non-null  float64\n",
      " 81  secondary_cleaner.state.floatbank5_a_air            19438 non-null  float64\n",
      " 82  secondary_cleaner.state.floatbank5_a_level          19438 non-null  float64\n",
      " 83  secondary_cleaner.state.floatbank5_b_air            19438 non-null  float64\n",
      " 84  secondary_cleaner.state.floatbank5_b_level          19438 non-null  float64\n",
      " 85  secondary_cleaner.state.floatbank6_a_air            19437 non-null  float64\n",
      " 86  secondary_cleaner.state.floatbank6_a_level          19438 non-null  float64\n",
      "dtypes: float64(86), object(1)\n",
      "memory usage: 12.9+ MB\n"
     ]
    }
   ],
   "source": [
    "df_full.info()"
   ]
  },
  {
   "cell_type": "markdown",
   "id": "897f3b04-4570-4c3b-8f8c-8c0673ffa3d0",
   "metadata": {},
   "source": [
    "Датасеты отличаются по набору параметров, к тому в них имеется незначительное количество пропусков."
   ]
  },
  {
   "cell_type": "markdown",
   "id": "b5d4471d-8cfc-4561-9e8b-1ecb9ef72f91",
   "metadata": {},
   "source": [
    "### Проверим правильность рассчётов эффективности обогащения для параметра 'rougher.recovery'."
   ]
  },
  {
   "cell_type": "code",
   "execution_count": 9,
   "id": "c299e2f6-7e25-4776-964d-25e0bcf0139f",
   "metadata": {},
   "outputs": [],
   "source": [
    "C = df_train['rougher.output.concentrate_au']\n",
    "F = df_train['rougher.input.feed_au'] \n",
    "T = df_train['rougher.output.tail_au'] "
   ]
  },
  {
   "cell_type": "code",
   "execution_count": 10,
   "id": "aa0f0cc2-ab12-4367-94d7-15721c8c61a0",
   "metadata": {},
   "outputs": [],
   "source": [
    "df_train['rougher.recovery.calc'] = (C * (F - T)) / (F * (C - T)) * 100"
   ]
  },
  {
   "cell_type": "code",
   "execution_count": 11,
   "id": "038e557b-13d7-4fc8-b512-fd16ef263ca8",
   "metadata": {
    "tags": []
   },
   "outputs": [
    {
     "data": {
      "text/plain": [
       "9.73512347450521e-15"
      ]
     },
     "execution_count": 11,
     "metadata": {},
     "output_type": "execute_result"
    }
   ],
   "source": [
    "mae(df_train['rougher.recovery.calc'], df_train['rougher.output.recovery'])"
   ]
  },
  {
   "cell_type": "markdown",
   "id": "fe8833a5-9d12-47d5-9871-80014a9d1160",
   "metadata": {},
   "source": [
    "Разница между значениями эффективности обогащения из датасета и эффективности обогащения, рассчитаной по данным из датасета, околонулевая, значит целевые признаки рассчитаны верно."
   ]
  },
  {
   "cell_type": "code",
   "execution_count": 12,
   "id": "a6d74b1d-53a6-47ee-8738-432bd7a69cc1",
   "metadata": {},
   "outputs": [],
   "source": [
    "df_train = df_train.drop('rougher.recovery.calc', axis=1)"
   ]
  },
  {
   "cell_type": "markdown",
   "id": "6826e969-952a-4f08-96f4-7bdea8c860de",
   "metadata": {},
   "source": [
    "### Изучим разницу в наборе параметров в обучающей и тестовой выборках."
   ]
  },
  {
   "cell_type": "code",
   "execution_count": 13,
   "id": "2f6c0742-219a-43c9-8d54-7634b73a7628",
   "metadata": {},
   "outputs": [
    {
     "data": {
      "text/plain": [
       "{'final.output.concentrate_ag',\n",
       " 'final.output.concentrate_au',\n",
       " 'final.output.concentrate_pb',\n",
       " 'final.output.concentrate_sol',\n",
       " 'final.output.recovery',\n",
       " 'final.output.tail_ag',\n",
       " 'final.output.tail_au',\n",
       " 'final.output.tail_pb',\n",
       " 'final.output.tail_sol',\n",
       " 'primary_cleaner.output.concentrate_ag',\n",
       " 'primary_cleaner.output.concentrate_au',\n",
       " 'primary_cleaner.output.concentrate_pb',\n",
       " 'primary_cleaner.output.concentrate_sol',\n",
       " 'primary_cleaner.output.tail_ag',\n",
       " 'primary_cleaner.output.tail_au',\n",
       " 'primary_cleaner.output.tail_pb',\n",
       " 'primary_cleaner.output.tail_sol',\n",
       " 'rougher.calculation.au_pb_ratio',\n",
       " 'rougher.calculation.floatbank10_sulfate_to_au_feed',\n",
       " 'rougher.calculation.floatbank11_sulfate_to_au_feed',\n",
       " 'rougher.calculation.sulfate_to_au_concentrate',\n",
       " 'rougher.output.concentrate_ag',\n",
       " 'rougher.output.concentrate_au',\n",
       " 'rougher.output.concentrate_pb',\n",
       " 'rougher.output.concentrate_sol',\n",
       " 'rougher.output.recovery',\n",
       " 'rougher.output.tail_ag',\n",
       " 'rougher.output.tail_au',\n",
       " 'rougher.output.tail_pb',\n",
       " 'rougher.output.tail_sol',\n",
       " 'secondary_cleaner.output.tail_ag',\n",
       " 'secondary_cleaner.output.tail_au',\n",
       " 'secondary_cleaner.output.tail_pb',\n",
       " 'secondary_cleaner.output.tail_sol'}"
      ]
     },
     "execution_count": 13,
     "metadata": {},
     "output_type": "execute_result"
    }
   ],
   "source": [
    "set(df_train.columns) - set(df_test.columns)"
   ]
  },
  {
   "cell_type": "markdown",
   "id": "119baac0-abf2-413b-82c1-fac3673a44c3",
   "metadata": {},
   "source": [
    "В тестовой выборке отсутствует информация о концентрациии сырья и химикатов после каждого техпроцесса, эти данные можно считать подсказкой для будущей модели и их будет необходимо исключить из обучающей выборки."
   ]
  },
  {
   "cell_type": "markdown",
   "id": "7af42430-e1ca-4a67-8e42-2881a0c2e093",
   "metadata": {},
   "source": [
    "### Изучим распределение целевых параметров в обучающей и полной выборках."
   ]
  },
  {
   "cell_type": "code",
   "execution_count": 14,
   "id": "1ae1d5f8-3b38-4fbc-a4b0-25dbdba189f9",
   "metadata": {},
   "outputs": [],
   "source": [
    "targets = ['rougher.output.recovery', 'final.output.recovery']"
   ]
  },
  {
   "cell_type": "code",
   "execution_count": 15,
   "id": "31f298aa-4e76-40f9-983d-649cffdc4b2f",
   "metadata": {},
   "outputs": [
    {
     "data": {
      "image/png": "[encoded data removed]",
      "text/plain": [
       "<Figure size 640x480 with 2 Axes>"
      ]
     },
     "metadata": {},
     "output_type": "display_data"
    }
   ],
   "source": [
    "df_train[targets].hist(bins=50);"
   ]
  },
  {
   "cell_type": "code",
   "execution_count": 16,
   "id": "0cb55e36-5b65-41b1-bff6-270821ece0cf",
   "metadata": {},
   "outputs": [
    {
     "data": {
      "image/png": "[encoded data removed]",
      "text/plain": [
       "<Figure size 640x480 with 2 Axes>"
      ]
     },
     "metadata": {},
     "output_type": "display_data"
    }
   ],
   "source": [
    "df_full[targets].hist(bins=50);"
   ]
  },
  {
   "cell_type": "markdown",
   "id": "22a35e23-9966-4116-8860-bb17e5449ef1",
   "metadata": {},
   "source": [
    "В данных присутствуют некоторое количество нулевых значений целевых признаков, что скорее всего является пропусками в данных, избавимся от этих строк."
   ]
  },
  {
   "cell_type": "code",
   "execution_count": 17,
   "id": "ea1bc1a3-8300-424e-b908-4a73e11ca97b",
   "metadata": {},
   "outputs": [],
   "source": [
    "for target in targets:\n",
    "    df_train = df_train[df_train[target] != 0]\n",
    "    df_full = df_full[df_full[target] != 0]    "
   ]
  },
  {
   "cell_type": "code",
   "execution_count": 18,
   "id": "a14944e0-73a0-4ab1-986c-68881447a5ff",
   "metadata": {},
   "outputs": [
    {
     "data": {
      "text/html": [
       "<div>\n",
       "<style scoped>\n",
       "    .dataframe tbody tr th:only-of-type {\n",
       "        vertical-align: middle;\n",
       "    }\n",
       "\n",
       "    .dataframe tbody tr th {\n",
       "        vertical-align: top;\n",
       "    }\n",
       "\n",
       "    .dataframe thead th {\n",
       "        text-align: right;\n",
       "    }\n",
       "</style>\n",
       "<table border=\"1\" class=\"dataframe\">\n",
       "  <thead>\n",
       "    <tr style=\"text-align: right;\">\n",
       "      <th></th>\n",
       "      <th>date</th>\n",
       "      <th>final.output.concentrate_ag</th>\n",
       "      <th>final.output.concentrate_pb</th>\n",
       "      <th>final.output.concentrate_sol</th>\n",
       "      <th>final.output.concentrate_au</th>\n",
       "      <th>final.output.recovery</th>\n",
       "      <th>final.output.tail_ag</th>\n",
       "      <th>final.output.tail_pb</th>\n",
       "      <th>final.output.tail_sol</th>\n",
       "      <th>final.output.tail_au</th>\n",
       "      <th>...</th>\n",
       "      <th>secondary_cleaner.state.floatbank4_a_air</th>\n",
       "      <th>secondary_cleaner.state.floatbank4_a_level</th>\n",
       "      <th>secondary_cleaner.state.floatbank4_b_air</th>\n",
       "      <th>secondary_cleaner.state.floatbank4_b_level</th>\n",
       "      <th>secondary_cleaner.state.floatbank5_a_air</th>\n",
       "      <th>secondary_cleaner.state.floatbank5_a_level</th>\n",
       "      <th>secondary_cleaner.state.floatbank5_b_air</th>\n",
       "      <th>secondary_cleaner.state.floatbank5_b_level</th>\n",
       "      <th>secondary_cleaner.state.floatbank6_a_air</th>\n",
       "      <th>secondary_cleaner.state.floatbank6_a_level</th>\n",
       "    </tr>\n",
       "  </thead>\n",
       "  <tbody>\n",
       "    <tr>\n",
       "      <th>0</th>\n",
       "      <td>2016-01-15 00:00:00</td>\n",
       "      <td>6.055403</td>\n",
       "      <td>9.889648</td>\n",
       "      <td>5.507324</td>\n",
       "      <td>42.192020</td>\n",
       "      <td>70.541216</td>\n",
       "      <td>10.411962</td>\n",
       "      <td>0.895447</td>\n",
       "      <td>16.904297</td>\n",
       "      <td>2.143149</td>\n",
       "      <td>...</td>\n",
       "      <td>14.016835</td>\n",
       "      <td>-502.488007</td>\n",
       "      <td>12.099931</td>\n",
       "      <td>-504.715942</td>\n",
       "      <td>9.925633</td>\n",
       "      <td>-498.310211</td>\n",
       "      <td>8.079666</td>\n",
       "      <td>-500.470978</td>\n",
       "      <td>14.151341</td>\n",
       "      <td>-605.841980</td>\n",
       "    </tr>\n",
       "    <tr>\n",
       "      <th>1</th>\n",
       "      <td>2016-01-15 01:00:00</td>\n",
       "      <td>6.029369</td>\n",
       "      <td>9.968944</td>\n",
       "      <td>5.257781</td>\n",
       "      <td>42.701629</td>\n",
       "      <td>69.266198</td>\n",
       "      <td>10.462676</td>\n",
       "      <td>0.927452</td>\n",
       "      <td>16.634514</td>\n",
       "      <td>2.224930</td>\n",
       "      <td>...</td>\n",
       "      <td>13.992281</td>\n",
       "      <td>-505.503262</td>\n",
       "      <td>11.950531</td>\n",
       "      <td>-501.331529</td>\n",
       "      <td>10.039245</td>\n",
       "      <td>-500.169983</td>\n",
       "      <td>7.984757</td>\n",
       "      <td>-500.582168</td>\n",
       "      <td>13.998353</td>\n",
       "      <td>-599.787184</td>\n",
       "    </tr>\n",
       "    <tr>\n",
       "      <th>2</th>\n",
       "      <td>2016-01-15 02:00:00</td>\n",
       "      <td>6.055926</td>\n",
       "      <td>10.213995</td>\n",
       "      <td>5.383759</td>\n",
       "      <td>42.657501</td>\n",
       "      <td>68.116445</td>\n",
       "      <td>10.507046</td>\n",
       "      <td>0.953716</td>\n",
       "      <td>16.208849</td>\n",
       "      <td>2.257889</td>\n",
       "      <td>...</td>\n",
       "      <td>14.015015</td>\n",
       "      <td>-502.520901</td>\n",
       "      <td>11.912783</td>\n",
       "      <td>-501.133383</td>\n",
       "      <td>10.070913</td>\n",
       "      <td>-500.129135</td>\n",
       "      <td>8.013877</td>\n",
       "      <td>-500.517572</td>\n",
       "      <td>14.028663</td>\n",
       "      <td>-601.427363</td>\n",
       "    </tr>\n",
       "    <tr>\n",
       "      <th>3</th>\n",
       "      <td>2016-01-15 03:00:00</td>\n",
       "      <td>6.047977</td>\n",
       "      <td>9.977019</td>\n",
       "      <td>4.858634</td>\n",
       "      <td>42.689819</td>\n",
       "      <td>68.347543</td>\n",
       "      <td>10.422762</td>\n",
       "      <td>0.883763</td>\n",
       "      <td>16.532835</td>\n",
       "      <td>2.146849</td>\n",
       "      <td>...</td>\n",
       "      <td>14.036510</td>\n",
       "      <td>-500.857308</td>\n",
       "      <td>11.999550</td>\n",
       "      <td>-501.193686</td>\n",
       "      <td>9.970366</td>\n",
       "      <td>-499.201640</td>\n",
       "      <td>7.977324</td>\n",
       "      <td>-500.255908</td>\n",
       "      <td>14.005551</td>\n",
       "      <td>-599.996129</td>\n",
       "    </tr>\n",
       "    <tr>\n",
       "      <th>4</th>\n",
       "      <td>2016-01-15 04:00:00</td>\n",
       "      <td>6.148599</td>\n",
       "      <td>10.142511</td>\n",
       "      <td>4.939416</td>\n",
       "      <td>42.774141</td>\n",
       "      <td>66.927016</td>\n",
       "      <td>10.360302</td>\n",
       "      <td>0.792826</td>\n",
       "      <td>16.525686</td>\n",
       "      <td>2.055292</td>\n",
       "      <td>...</td>\n",
       "      <td>14.027298</td>\n",
       "      <td>-499.838632</td>\n",
       "      <td>11.953070</td>\n",
       "      <td>-501.053894</td>\n",
       "      <td>9.925709</td>\n",
       "      <td>-501.686727</td>\n",
       "      <td>7.894242</td>\n",
       "      <td>-500.356035</td>\n",
       "      <td>13.996647</td>\n",
       "      <td>-601.496691</td>\n",
       "    </tr>\n",
       "  </tbody>\n",
       "</table>\n",
       "<p>5 rows × 87 columns</p>\n",
       "</div>"
      ],
      "text/plain": [
       "                  date  final.output.concentrate_ag  \\\n",
       "0  2016-01-15 00:00:00                     6.055403   \n",
       "1  2016-01-15 01:00:00                     6.029369   \n",
       "2  2016-01-15 02:00:00                     6.055926   \n",
       "3  2016-01-15 03:00:00                     6.047977   \n",
       "4  2016-01-15 04:00:00                     6.148599   \n",
       "\n",
       "   final.output.concentrate_pb  final.output.concentrate_sol  \\\n",
       "0                     9.889648                      5.507324   \n",
       "1                     9.968944                      5.257781   \n",
       "2                    10.213995                      5.383759   \n",
       "3                     9.977019                      4.858634   \n",
       "4                    10.142511                      4.939416   \n",
       "\n",
       "   final.output.concentrate_au  final.output.recovery  final.output.tail_ag  \\\n",
       "0                    42.192020              70.541216             10.411962   \n",
       "1                    42.701629              69.266198             10.462676   \n",
       "2                    42.657501              68.116445             10.507046   \n",
       "3                    42.689819              68.347543             10.422762   \n",
       "4                    42.774141              66.927016             10.360302   \n",
       "\n",
       "   final.output.tail_pb  final.output.tail_sol  final.output.tail_au  ...  \\\n",
       "0              0.895447              16.904297              2.143149  ...   \n",
       "1              0.927452              16.634514              2.224930  ...   \n",
       "2              0.953716              16.208849              2.257889  ...   \n",
       "3              0.883763              16.532835              2.146849  ...   \n",
       "4              0.792826              16.525686              2.055292  ...   \n",
       "\n",
       "   secondary_cleaner.state.floatbank4_a_air  \\\n",
       "0                                 14.016835   \n",
       "1                                 13.992281   \n",
       "2                                 14.015015   \n",
       "3                                 14.036510   \n",
       "4                                 14.027298   \n",
       "\n",
       "   secondary_cleaner.state.floatbank4_a_level  \\\n",
       "0                                 -502.488007   \n",
       "1                                 -505.503262   \n",
       "2                                 -502.520901   \n",
       "3                                 -500.857308   \n",
       "4                                 -499.838632   \n",
       "\n",
       "   secondary_cleaner.state.floatbank4_b_air  \\\n",
       "0                                 12.099931   \n",
       "1                                 11.950531   \n",
       "2                                 11.912783   \n",
       "3                                 11.999550   \n",
       "4                                 11.953070   \n",
       "\n",
       "   secondary_cleaner.state.floatbank4_b_level  \\\n",
       "0                                 -504.715942   \n",
       "1                                 -501.331529   \n",
       "2                                 -501.133383   \n",
       "3                                 -501.193686   \n",
       "4                                 -501.053894   \n",
       "\n",
       "   secondary_cleaner.state.floatbank5_a_air  \\\n",
       "0                                  9.925633   \n",
       "1                                 10.039245   \n",
       "2                                 10.070913   \n",
       "3                                  9.970366   \n",
       "4                                  9.925709   \n",
       "\n",
       "   secondary_cleaner.state.floatbank5_a_level  \\\n",
       "0                                 -498.310211   \n",
       "1                                 -500.169983   \n",
       "2                                 -500.129135   \n",
       "3                                 -499.201640   \n",
       "4                                 -501.686727   \n",
       "\n",
       "   secondary_cleaner.state.floatbank5_b_air  \\\n",
       "0                                  8.079666   \n",
       "1                                  7.984757   \n",
       "2                                  8.013877   \n",
       "3                                  7.977324   \n",
       "4                                  7.894242   \n",
       "\n",
       "   secondary_cleaner.state.floatbank5_b_level  \\\n",
       "0                                 -500.470978   \n",
       "1                                 -500.582168   \n",
       "2                                 -500.517572   \n",
       "3                                 -500.255908   \n",
       "4                                 -500.356035   \n",
       "\n",
       "   secondary_cleaner.state.floatbank6_a_air  \\\n",
       "0                                 14.151341   \n",
       "1                                 13.998353   \n",
       "2                                 14.028663   \n",
       "3                                 14.005551   \n",
       "4                                 13.996647   \n",
       "\n",
       "   secondary_cleaner.state.floatbank6_a_level  \n",
       "0                                 -605.841980  \n",
       "1                                 -599.787184  \n",
       "2                                 -601.427363  \n",
       "3                                 -599.996129  \n",
       "4                                 -601.496691  \n",
       "\n",
       "[5 rows x 87 columns]"
      ]
     },
     "execution_count": 18,
     "metadata": {},
     "output_type": "execute_result"
    }
   ],
   "source": [
    "df_train.head()"
   ]
  },
  {
   "cell_type": "code",
   "execution_count": 19,
   "id": "83457bb5-786a-4b40-83e8-09a2ad9c2bc0",
   "metadata": {},
   "outputs": [
    {
     "data": {
      "text/html": [
       "<div>\n",
       "<style scoped>\n",
       "    .dataframe tbody tr th:only-of-type {\n",
       "        vertical-align: middle;\n",
       "    }\n",
       "\n",
       "    .dataframe tbody tr th {\n",
       "        vertical-align: top;\n",
       "    }\n",
       "\n",
       "    .dataframe thead th {\n",
       "        text-align: right;\n",
       "    }\n",
       "</style>\n",
       "<table border=\"1\" class=\"dataframe\">\n",
       "  <thead>\n",
       "    <tr style=\"text-align: right;\">\n",
       "      <th></th>\n",
       "      <th>date</th>\n",
       "      <th>final.output.concentrate_ag</th>\n",
       "      <th>final.output.concentrate_pb</th>\n",
       "      <th>final.output.concentrate_sol</th>\n",
       "      <th>final.output.concentrate_au</th>\n",
       "      <th>final.output.recovery</th>\n",
       "      <th>final.output.tail_ag</th>\n",
       "      <th>final.output.tail_pb</th>\n",
       "      <th>final.output.tail_sol</th>\n",
       "      <th>final.output.tail_au</th>\n",
       "      <th>...</th>\n",
       "      <th>secondary_cleaner.state.floatbank4_a_air</th>\n",
       "      <th>secondary_cleaner.state.floatbank4_a_level</th>\n",
       "      <th>secondary_cleaner.state.floatbank4_b_air</th>\n",
       "      <th>secondary_cleaner.state.floatbank4_b_level</th>\n",
       "      <th>secondary_cleaner.state.floatbank5_a_air</th>\n",
       "      <th>secondary_cleaner.state.floatbank5_a_level</th>\n",
       "      <th>secondary_cleaner.state.floatbank5_b_air</th>\n",
       "      <th>secondary_cleaner.state.floatbank5_b_level</th>\n",
       "      <th>secondary_cleaner.state.floatbank6_a_air</th>\n",
       "      <th>secondary_cleaner.state.floatbank6_a_level</th>\n",
       "    </tr>\n",
       "  </thead>\n",
       "  <tbody>\n",
       "    <tr>\n",
       "      <th>0</th>\n",
       "      <td>2016-01-15 00:00:00</td>\n",
       "      <td>6.055403</td>\n",
       "      <td>9.889648</td>\n",
       "      <td>5.507324</td>\n",
       "      <td>42.192020</td>\n",
       "      <td>70.541216</td>\n",
       "      <td>10.411962</td>\n",
       "      <td>0.895447</td>\n",
       "      <td>16.904297</td>\n",
       "      <td>2.143149</td>\n",
       "      <td>...</td>\n",
       "      <td>14.016835</td>\n",
       "      <td>-502.488007</td>\n",
       "      <td>12.099931</td>\n",
       "      <td>-504.715942</td>\n",
       "      <td>9.925633</td>\n",
       "      <td>-498.310211</td>\n",
       "      <td>8.079666</td>\n",
       "      <td>-500.470978</td>\n",
       "      <td>14.151341</td>\n",
       "      <td>-605.841980</td>\n",
       "    </tr>\n",
       "    <tr>\n",
       "      <th>1</th>\n",
       "      <td>2016-01-15 01:00:00</td>\n",
       "      <td>6.029369</td>\n",
       "      <td>9.968944</td>\n",
       "      <td>5.257781</td>\n",
       "      <td>42.701629</td>\n",
       "      <td>69.266198</td>\n",
       "      <td>10.462676</td>\n",
       "      <td>0.927452</td>\n",
       "      <td>16.634514</td>\n",
       "      <td>2.224930</td>\n",
       "      <td>...</td>\n",
       "      <td>13.992281</td>\n",
       "      <td>-505.503262</td>\n",
       "      <td>11.950531</td>\n",
       "      <td>-501.331529</td>\n",
       "      <td>10.039245</td>\n",
       "      <td>-500.169983</td>\n",
       "      <td>7.984757</td>\n",
       "      <td>-500.582168</td>\n",
       "      <td>13.998353</td>\n",
       "      <td>-599.787184</td>\n",
       "    </tr>\n",
       "    <tr>\n",
       "      <th>2</th>\n",
       "      <td>2016-01-15 02:00:00</td>\n",
       "      <td>6.055926</td>\n",
       "      <td>10.213995</td>\n",
       "      <td>5.383759</td>\n",
       "      <td>42.657501</td>\n",
       "      <td>68.116445</td>\n",
       "      <td>10.507046</td>\n",
       "      <td>0.953716</td>\n",
       "      <td>16.208849</td>\n",
       "      <td>2.257889</td>\n",
       "      <td>...</td>\n",
       "      <td>14.015015</td>\n",
       "      <td>-502.520901</td>\n",
       "      <td>11.912783</td>\n",
       "      <td>-501.133383</td>\n",
       "      <td>10.070913</td>\n",
       "      <td>-500.129135</td>\n",
       "      <td>8.013877</td>\n",
       "      <td>-500.517572</td>\n",
       "      <td>14.028663</td>\n",
       "      <td>-601.427363</td>\n",
       "    </tr>\n",
       "    <tr>\n",
       "      <th>3</th>\n",
       "      <td>2016-01-15 03:00:00</td>\n",
       "      <td>6.047977</td>\n",
       "      <td>9.977019</td>\n",
       "      <td>4.858634</td>\n",
       "      <td>42.689819</td>\n",
       "      <td>68.347543</td>\n",
       "      <td>10.422762</td>\n",
       "      <td>0.883763</td>\n",
       "      <td>16.532835</td>\n",
       "      <td>2.146849</td>\n",
       "      <td>...</td>\n",
       "      <td>14.036510</td>\n",
       "      <td>-500.857308</td>\n",
       "      <td>11.999550</td>\n",
       "      <td>-501.193686</td>\n",
       "      <td>9.970366</td>\n",
       "      <td>-499.201640</td>\n",
       "      <td>7.977324</td>\n",
       "      <td>-500.255908</td>\n",
       "      <td>14.005551</td>\n",
       "      <td>-599.996129</td>\n",
       "    </tr>\n",
       "    <tr>\n",
       "      <th>4</th>\n",
       "      <td>2016-01-15 04:00:00</td>\n",
       "      <td>6.148599</td>\n",
       "      <td>10.142511</td>\n",
       "      <td>4.939416</td>\n",
       "      <td>42.774141</td>\n",
       "      <td>66.927016</td>\n",
       "      <td>10.360302</td>\n",
       "      <td>0.792826</td>\n",
       "      <td>16.525686</td>\n",
       "      <td>2.055292</td>\n",
       "      <td>...</td>\n",
       "      <td>14.027298</td>\n",
       "      <td>-499.838632</td>\n",
       "      <td>11.953070</td>\n",
       "      <td>-501.053894</td>\n",
       "      <td>9.925709</td>\n",
       "      <td>-501.686727</td>\n",
       "      <td>7.894242</td>\n",
       "      <td>-500.356035</td>\n",
       "      <td>13.996647</td>\n",
       "      <td>-601.496691</td>\n",
       "    </tr>\n",
       "  </tbody>\n",
       "</table>\n",
       "<p>5 rows × 87 columns</p>\n",
       "</div>"
      ],
      "text/plain": [
       "                  date  final.output.concentrate_ag  \\\n",
       "0  2016-01-15 00:00:00                     6.055403   \n",
       "1  2016-01-15 01:00:00                     6.029369   \n",
       "2  2016-01-15 02:00:00                     6.055926   \n",
       "3  2016-01-15 03:00:00                     6.047977   \n",
       "4  2016-01-15 04:00:00                     6.148599   \n",
       "\n",
       "   final.output.concentrate_pb  final.output.concentrate_sol  \\\n",
       "0                     9.889648                      5.507324   \n",
       "1                     9.968944                      5.257781   \n",
       "2                    10.213995                      5.383759   \n",
       "3                     9.977019                      4.858634   \n",
       "4                    10.142511                      4.939416   \n",
       "\n",
       "   final.output.concentrate_au  final.output.recovery  final.output.tail_ag  \\\n",
       "0                    42.192020              70.541216             10.411962   \n",
       "1                    42.701629              69.266198             10.462676   \n",
       "2                    42.657501              68.116445             10.507046   \n",
       "3                    42.689819              68.347543             10.422762   \n",
       "4                    42.774141              66.927016             10.360302   \n",
       "\n",
       "   final.output.tail_pb  final.output.tail_sol  final.output.tail_au  ...  \\\n",
       "0              0.895447              16.904297              2.143149  ...   \n",
       "1              0.927452              16.634514              2.224930  ...   \n",
       "2              0.953716              16.208849              2.257889  ...   \n",
       "3              0.883763              16.532835              2.146849  ...   \n",
       "4              0.792826              16.525686              2.055292  ...   \n",
       "\n",
       "   secondary_cleaner.state.floatbank4_a_air  \\\n",
       "0                                 14.016835   \n",
       "1                                 13.992281   \n",
       "2                                 14.015015   \n",
       "3                                 14.036510   \n",
       "4                                 14.027298   \n",
       "\n",
       "   secondary_cleaner.state.floatbank4_a_level  \\\n",
       "0                                 -502.488007   \n",
       "1                                 -505.503262   \n",
       "2                                 -502.520901   \n",
       "3                                 -500.857308   \n",
       "4                                 -499.838632   \n",
       "\n",
       "   secondary_cleaner.state.floatbank4_b_air  \\\n",
       "0                                 12.099931   \n",
       "1                                 11.950531   \n",
       "2                                 11.912783   \n",
       "3                                 11.999550   \n",
       "4                                 11.953070   \n",
       "\n",
       "   secondary_cleaner.state.floatbank4_b_level  \\\n",
       "0                                 -504.715942   \n",
       "1                                 -501.331529   \n",
       "2                                 -501.133383   \n",
       "3                                 -501.193686   \n",
       "4                                 -501.053894   \n",
       "\n",
       "   secondary_cleaner.state.floatbank5_a_air  \\\n",
       "0                                  9.925633   \n",
       "1                                 10.039245   \n",
       "2                                 10.070913   \n",
       "3                                  9.970366   \n",
       "4                                  9.925709   \n",
       "\n",
       "   secondary_cleaner.state.floatbank5_a_level  \\\n",
       "0                                 -498.310211   \n",
       "1                                 -500.169983   \n",
       "2                                 -500.129135   \n",
       "3                                 -499.201640   \n",
       "4                                 -501.686727   \n",
       "\n",
       "   secondary_cleaner.state.floatbank5_b_air  \\\n",
       "0                                  8.079666   \n",
       "1                                  7.984757   \n",
       "2                                  8.013877   \n",
       "3                                  7.977324   \n",
       "4                                  7.894242   \n",
       "\n",
       "   secondary_cleaner.state.floatbank5_b_level  \\\n",
       "0                                 -500.470978   \n",
       "1                                 -500.582168   \n",
       "2                                 -500.517572   \n",
       "3                                 -500.255908   \n",
       "4                                 -500.356035   \n",
       "\n",
       "   secondary_cleaner.state.floatbank6_a_air  \\\n",
       "0                                 14.151341   \n",
       "1                                 13.998353   \n",
       "2                                 14.028663   \n",
       "3                                 14.005551   \n",
       "4                                 13.996647   \n",
       "\n",
       "   secondary_cleaner.state.floatbank6_a_level  \n",
       "0                                 -605.841980  \n",
       "1                                 -599.787184  \n",
       "2                                 -601.427363  \n",
       "3                                 -599.996129  \n",
       "4                                 -601.496691  \n",
       "\n",
       "[5 rows x 87 columns]"
      ]
     },
     "execution_count": 19,
     "metadata": {},
     "output_type": "execute_result"
    }
   ],
   "source": [
    "df_full.head()"
   ]
  },
  {
   "cell_type": "markdown",
   "id": "69ca3f09-79a1-4efd-bd5d-a373fdfc127b",
   "metadata": {},
   "source": [
    "Дополним целевую выборку значениями целевых параметров из полной выборки."
   ]
  },
  {
   "cell_type": "code",
   "execution_count": 20,
   "id": "9ea04cf8-62a4-4faf-92c4-bd8a95aaa960",
   "metadata": {},
   "outputs": [],
   "source": [
    "df_test = pd.merge(df_test, df_full[['rougher.output.recovery', 'final.output.recovery', 'date']], on='date', how='left')"
   ]
  },
  {
   "cell_type": "code",
   "execution_count": 21,
   "id": "c0b89a8a-7cb1-403a-b568-baa61e9d08d9",
   "metadata": {},
   "outputs": [
    {
     "data": {
      "text/plain": [
       "0    89.993421\n",
       "Name: rougher.output.recovery, dtype: float64"
      ]
     },
     "execution_count": 21,
     "metadata": {},
     "output_type": "execute_result"
    }
   ],
   "source": [
    "df_test[df_test.date == '2016-09-01 00:59:59']['rougher.output.recovery']"
   ]
  },
  {
   "cell_type": "code",
   "execution_count": 22,
   "id": "8d725281",
   "metadata": {},
   "outputs": [
    {
     "data": {
      "text/plain": [
       "4682    89.993421\n",
       "Name: rougher.output.recovery, dtype: float64"
      ]
     },
     "execution_count": 22,
     "metadata": {},
     "output_type": "execute_result"
    }
   ],
   "source": [
    "df_full[df_full.date == '2016-09-01 00:59:59']['rougher.output.recovery']"
   ]
  },
  {
   "cell_type": "code",
   "execution_count": 23,
   "id": "6e4c7334-763c-43f0-a24a-5ac3928e5cad",
   "metadata": {},
   "outputs": [
    {
     "data": {
      "text/html": [
       "<div>\n",
       "<style scoped>\n",
       "    .dataframe tbody tr th:only-of-type {\n",
       "        vertical-align: middle;\n",
       "    }\n",
       "\n",
       "    .dataframe tbody tr th {\n",
       "        vertical-align: top;\n",
       "    }\n",
       "\n",
       "    .dataframe thead th {\n",
       "        text-align: right;\n",
       "    }\n",
       "</style>\n",
       "<table border=\"1\" class=\"dataframe\">\n",
       "  <thead>\n",
       "    <tr style=\"text-align: right;\">\n",
       "      <th></th>\n",
       "      <th>date</th>\n",
       "      <th>primary_cleaner.input.sulfate</th>\n",
       "      <th>primary_cleaner.input.depressant</th>\n",
       "      <th>primary_cleaner.input.feed_size</th>\n",
       "      <th>primary_cleaner.input.xanthate</th>\n",
       "      <th>primary_cleaner.state.floatbank8_a_air</th>\n",
       "      <th>primary_cleaner.state.floatbank8_a_level</th>\n",
       "      <th>primary_cleaner.state.floatbank8_b_air</th>\n",
       "      <th>primary_cleaner.state.floatbank8_b_level</th>\n",
       "      <th>primary_cleaner.state.floatbank8_c_air</th>\n",
       "      <th>...</th>\n",
       "      <th>secondary_cleaner.state.floatbank4_b_air</th>\n",
       "      <th>secondary_cleaner.state.floatbank4_b_level</th>\n",
       "      <th>secondary_cleaner.state.floatbank5_a_air</th>\n",
       "      <th>secondary_cleaner.state.floatbank5_a_level</th>\n",
       "      <th>secondary_cleaner.state.floatbank5_b_air</th>\n",
       "      <th>secondary_cleaner.state.floatbank5_b_level</th>\n",
       "      <th>secondary_cleaner.state.floatbank6_a_air</th>\n",
       "      <th>secondary_cleaner.state.floatbank6_a_level</th>\n",
       "      <th>rougher.output.recovery</th>\n",
       "      <th>final.output.recovery</th>\n",
       "    </tr>\n",
       "  </thead>\n",
       "  <tbody>\n",
       "    <tr>\n",
       "      <th>0</th>\n",
       "      <td>2016-09-01 00:59:59</td>\n",
       "      <td>210.800909</td>\n",
       "      <td>14.993118</td>\n",
       "      <td>8.080000</td>\n",
       "      <td>1.005021</td>\n",
       "      <td>1398.981301</td>\n",
       "      <td>-500.225577</td>\n",
       "      <td>1399.144926</td>\n",
       "      <td>-499.919735</td>\n",
       "      <td>1400.102998</td>\n",
       "      <td>...</td>\n",
       "      <td>8.016656</td>\n",
       "      <td>-501.289139</td>\n",
       "      <td>7.946562</td>\n",
       "      <td>-432.317850</td>\n",
       "      <td>4.872511</td>\n",
       "      <td>-500.037437</td>\n",
       "      <td>26.705889</td>\n",
       "      <td>-499.709414</td>\n",
       "      <td>89.993421</td>\n",
       "      <td>70.273583</td>\n",
       "    </tr>\n",
       "    <tr>\n",
       "      <th>1</th>\n",
       "      <td>2016-09-01 01:59:59</td>\n",
       "      <td>215.392455</td>\n",
       "      <td>14.987471</td>\n",
       "      <td>8.080000</td>\n",
       "      <td>0.990469</td>\n",
       "      <td>1398.777912</td>\n",
       "      <td>-500.057435</td>\n",
       "      <td>1398.055362</td>\n",
       "      <td>-499.778182</td>\n",
       "      <td>1396.151033</td>\n",
       "      <td>...</td>\n",
       "      <td>8.130979</td>\n",
       "      <td>-499.634209</td>\n",
       "      <td>7.958270</td>\n",
       "      <td>-525.839648</td>\n",
       "      <td>4.878850</td>\n",
       "      <td>-500.162375</td>\n",
       "      <td>25.019940</td>\n",
       "      <td>-499.819438</td>\n",
       "      <td>88.089657</td>\n",
       "      <td>68.910432</td>\n",
       "    </tr>\n",
       "    <tr>\n",
       "      <th>2</th>\n",
       "      <td>2016-09-01 02:59:59</td>\n",
       "      <td>215.259946</td>\n",
       "      <td>12.884934</td>\n",
       "      <td>7.786667</td>\n",
       "      <td>0.996043</td>\n",
       "      <td>1398.493666</td>\n",
       "      <td>-500.868360</td>\n",
       "      <td>1398.860436</td>\n",
       "      <td>-499.764529</td>\n",
       "      <td>1398.075709</td>\n",
       "      <td>...</td>\n",
       "      <td>8.096893</td>\n",
       "      <td>-500.827423</td>\n",
       "      <td>8.071056</td>\n",
       "      <td>-500.801673</td>\n",
       "      <td>4.905125</td>\n",
       "      <td>-499.828510</td>\n",
       "      <td>24.994862</td>\n",
       "      <td>-500.622559</td>\n",
       "      <td>88.412756</td>\n",
       "      <td>68.143213</td>\n",
       "    </tr>\n",
       "    <tr>\n",
       "      <th>3</th>\n",
       "      <td>2016-09-01 03:59:59</td>\n",
       "      <td>215.336236</td>\n",
       "      <td>12.006805</td>\n",
       "      <td>7.640000</td>\n",
       "      <td>0.863514</td>\n",
       "      <td>1399.618111</td>\n",
       "      <td>-498.863574</td>\n",
       "      <td>1397.440120</td>\n",
       "      <td>-499.211024</td>\n",
       "      <td>1400.129303</td>\n",
       "      <td>...</td>\n",
       "      <td>8.074946</td>\n",
       "      <td>-499.474407</td>\n",
       "      <td>7.897085</td>\n",
       "      <td>-500.868509</td>\n",
       "      <td>4.931400</td>\n",
       "      <td>-499.963623</td>\n",
       "      <td>24.948919</td>\n",
       "      <td>-498.709987</td>\n",
       "      <td>87.360133</td>\n",
       "      <td>67.776393</td>\n",
       "    </tr>\n",
       "    <tr>\n",
       "      <th>4</th>\n",
       "      <td>2016-09-01 04:59:59</td>\n",
       "      <td>199.099327</td>\n",
       "      <td>10.682530</td>\n",
       "      <td>7.530000</td>\n",
       "      <td>0.805575</td>\n",
       "      <td>1401.268123</td>\n",
       "      <td>-500.808305</td>\n",
       "      <td>1398.128818</td>\n",
       "      <td>-499.504543</td>\n",
       "      <td>1402.172226</td>\n",
       "      <td>...</td>\n",
       "      <td>8.054678</td>\n",
       "      <td>-500.397500</td>\n",
       "      <td>8.107890</td>\n",
       "      <td>-509.526725</td>\n",
       "      <td>4.957674</td>\n",
       "      <td>-500.360026</td>\n",
       "      <td>25.003331</td>\n",
       "      <td>-500.856333</td>\n",
       "      <td>83.236367</td>\n",
       "      <td>61.467078</td>\n",
       "    </tr>\n",
       "  </tbody>\n",
       "</table>\n",
       "<p>5 rows × 55 columns</p>\n",
       "</div>"
      ],
      "text/plain": [
       "                  date  primary_cleaner.input.sulfate  \\\n",
       "0  2016-09-01 00:59:59                     210.800909   \n",
       "1  2016-09-01 01:59:59                     215.392455   \n",
       "2  2016-09-01 02:59:59                     215.259946   \n",
       "3  2016-09-01 03:59:59                     215.336236   \n",
       "4  2016-09-01 04:59:59                     199.099327   \n",
       "\n",
       "   primary_cleaner.input.depressant  primary_cleaner.input.feed_size  \\\n",
       "0                         14.993118                         8.080000   \n",
       "1                         14.987471                         8.080000   \n",
       "2                         12.884934                         7.786667   \n",
       "3                         12.006805                         7.640000   \n",
       "4                         10.682530                         7.530000   \n",
       "\n",
       "   primary_cleaner.input.xanthate  primary_cleaner.state.floatbank8_a_air  \\\n",
       "0                        1.005021                             1398.981301   \n",
       "1                        0.990469                             1398.777912   \n",
       "2                        0.996043                             1398.493666   \n",
       "3                        0.863514                             1399.618111   \n",
       "4                        0.805575                             1401.268123   \n",
       "\n",
       "   primary_cleaner.state.floatbank8_a_level  \\\n",
       "0                               -500.225577   \n",
       "1                               -500.057435   \n",
       "2                               -500.868360   \n",
       "3                               -498.863574   \n",
       "4                               -500.808305   \n",
       "\n",
       "   primary_cleaner.state.floatbank8_b_air  \\\n",
       "0                             1399.144926   \n",
       "1                             1398.055362   \n",
       "2                             1398.860436   \n",
       "3                             1397.440120   \n",
       "4                             1398.128818   \n",
       "\n",
       "   primary_cleaner.state.floatbank8_b_level  \\\n",
       "0                               -499.919735   \n",
       "1                               -499.778182   \n",
       "2                               -499.764529   \n",
       "3                               -499.211024   \n",
       "4                               -499.504543   \n",
       "\n",
       "   primary_cleaner.state.floatbank8_c_air  ...  \\\n",
       "0                             1400.102998  ...   \n",
       "1                             1396.151033  ...   \n",
       "2                             1398.075709  ...   \n",
       "3                             1400.129303  ...   \n",
       "4                             1402.172226  ...   \n",
       "\n",
       "   secondary_cleaner.state.floatbank4_b_air  \\\n",
       "0                                  8.016656   \n",
       "1                                  8.130979   \n",
       "2                                  8.096893   \n",
       "3                                  8.074946   \n",
       "4                                  8.054678   \n",
       "\n",
       "   secondary_cleaner.state.floatbank4_b_level  \\\n",
       "0                                 -501.289139   \n",
       "1                                 -499.634209   \n",
       "2                                 -500.827423   \n",
       "3                                 -499.474407   \n",
       "4                                 -500.397500   \n",
       "\n",
       "   secondary_cleaner.state.floatbank5_a_air  \\\n",
       "0                                  7.946562   \n",
       "1                                  7.958270   \n",
       "2                                  8.071056   \n",
       "3                                  7.897085   \n",
       "4                                  8.107890   \n",
       "\n",
       "   secondary_cleaner.state.floatbank5_a_level  \\\n",
       "0                                 -432.317850   \n",
       "1                                 -525.839648   \n",
       "2                                 -500.801673   \n",
       "3                                 -500.868509   \n",
       "4                                 -509.526725   \n",
       "\n",
       "   secondary_cleaner.state.floatbank5_b_air  \\\n",
       "0                                  4.872511   \n",
       "1                                  4.878850   \n",
       "2                                  4.905125   \n",
       "3                                  4.931400   \n",
       "4                                  4.957674   \n",
       "\n",
       "   secondary_cleaner.state.floatbank5_b_level  \\\n",
       "0                                 -500.037437   \n",
       "1                                 -500.162375   \n",
       "2                                 -499.828510   \n",
       "3                                 -499.963623   \n",
       "4                                 -500.360026   \n",
       "\n",
       "   secondary_cleaner.state.floatbank6_a_air  \\\n",
       "0                                 26.705889   \n",
       "1                                 25.019940   \n",
       "2                                 24.994862   \n",
       "3                                 24.948919   \n",
       "4                                 25.003331   \n",
       "\n",
       "   secondary_cleaner.state.floatbank6_a_level  rougher.output.recovery  \\\n",
       "0                                 -499.709414                89.993421   \n",
       "1                                 -499.819438                88.089657   \n",
       "2                                 -500.622559                88.412756   \n",
       "3                                 -498.709987                87.360133   \n",
       "4                                 -500.856333                83.236367   \n",
       "\n",
       "   final.output.recovery  \n",
       "0              70.273583  \n",
       "1              68.910432  \n",
       "2              68.143213  \n",
       "3              67.776393  \n",
       "4              61.467078  \n",
       "\n",
       "[5 rows x 55 columns]"
      ]
     },
     "execution_count": 23,
     "metadata": {},
     "output_type": "execute_result"
    }
   ],
   "source": [
    "df_test.head()"
   ]
  },
  {
   "cell_type": "markdown",
   "id": "7c8115fc-9c5e-45c1-a821-226f2678a346",
   "metadata": {
    "tags": []
   },
   "source": [
    "### Заполним пропуски в технологических данных."
   ]
  },
  {
   "cell_type": "markdown",
   "id": "0643f223-a6d2-4d4f-b8e9-5e2324cbc659",
   "metadata": {},
   "source": [
    "Строки в датасетах собираются последовательно по времени, поэтому пропущенные значения можно заполнить данными из предыдущей строки."
   ]
  },
  {
   "cell_type": "code",
   "execution_count": 24,
   "id": "92cd0d82-ce2f-4a18-bfe0-5255e461f561",
   "metadata": {},
   "outputs": [],
   "source": [
    "df_train.fillna(method='ffill', inplace=True)\n",
    "df_test.fillna(method='ffill', inplace=True)\n",
    "df_full.fillna(method='ffill', inplace=True)"
   ]
  },
  {
   "cell_type": "code",
   "execution_count": 25,
   "id": "82d5e534-3df7-4719-8b2e-5d3878827d11",
   "metadata": {},
   "outputs": [
    {
     "data": {
      "text/plain": [
       "{'final.output.concentrate_ag',\n",
       " 'final.output.concentrate_au',\n",
       " 'final.output.concentrate_pb',\n",
       " 'final.output.concentrate_sol',\n",
       " 'final.output.tail_ag',\n",
       " 'final.output.tail_au',\n",
       " 'final.output.tail_pb',\n",
       " 'final.output.tail_sol',\n",
       " 'primary_cleaner.output.concentrate_ag',\n",
       " 'primary_cleaner.output.concentrate_au',\n",
       " 'primary_cleaner.output.concentrate_pb',\n",
       " 'primary_cleaner.output.concentrate_sol',\n",
       " 'primary_cleaner.output.tail_ag',\n",
       " 'primary_cleaner.output.tail_au',\n",
       " 'primary_cleaner.output.tail_pb',\n",
       " 'primary_cleaner.output.tail_sol',\n",
       " 'rougher.calculation.au_pb_ratio',\n",
       " 'rougher.calculation.floatbank10_sulfate_to_au_feed',\n",
       " 'rougher.calculation.floatbank11_sulfate_to_au_feed',\n",
       " 'rougher.calculation.sulfate_to_au_concentrate',\n",
       " 'rougher.output.concentrate_ag',\n",
       " 'rougher.output.concentrate_au',\n",
       " 'rougher.output.concentrate_pb',\n",
       " 'rougher.output.concentrate_sol',\n",
       " 'rougher.output.tail_ag',\n",
       " 'rougher.output.tail_au',\n",
       " 'rougher.output.tail_pb',\n",
       " 'rougher.output.tail_sol',\n",
       " 'secondary_cleaner.output.tail_ag',\n",
       " 'secondary_cleaner.output.tail_au',\n",
       " 'secondary_cleaner.output.tail_pb',\n",
       " 'secondary_cleaner.output.tail_sol'}"
      ]
     },
     "execution_count": 25,
     "metadata": {},
     "output_type": "execute_result"
    }
   ],
   "source": [
    "set(df_train.columns) - set(df_test.columns)"
   ]
  },
  {
   "cell_type": "markdown",
   "id": "67091b68-dc80-425c-b456-f1615fecd9dd",
   "metadata": {},
   "source": [
    "## Анализ данных"
   ]
  },
  {
   "cell_type": "markdown",
   "id": "1c372c7c-04c1-4065-be37-88328ce9fe1d",
   "metadata": {
    "tags": []
   },
   "source": [
    "### Изучим концентрацию основных веществ ('ag' 'au', 'pb') в ходе основных технологических процессов."
   ]
  },
  {
   "cell_type": "markdown",
   "id": "ec8ec06d-5328-437b-9ee4-b451c58c65c1",
   "metadata": {},
   "source": [
    "#### Ag"
   ]
  },
  {
   "cell_type": "code",
   "execution_count": 26,
   "id": "fe58767a-c700-4fe5-acf5-044d02a94a7d",
   "metadata": {},
   "outputs": [],
   "source": [
    "main_stages_ag = ['rougher.input.feed_ag', 'rougher.output.concentrate_ag', \\\n",
    "                  'primary_cleaner.output.concentrate_ag', 'final.output.concentrate_ag']"
   ]
  },
  {
   "cell_type": "code",
   "execution_count": 27,
   "id": "e33e3d6d-191c-420e-82cc-dd8a5212bc76",
   "metadata": {},
   "outputs": [
    {
     "data": {
      "text/plain": [
       "rougher.input.feed_ag                     8.788469\n",
       "rougher.output.concentrate_ag            12.243959\n",
       "primary_cleaner.output.concentrate_ag     8.459371\n",
       "final.output.concentrate_ag               5.200005\n",
       "dtype: float64"
      ]
     },
     "execution_count": 27,
     "metadata": {},
     "output_type": "execute_result"
    }
   ],
   "source": [
    "df_full[main_stages_ag].mean()"
   ]
  },
  {
   "cell_type": "code",
   "execution_count": 28,
   "id": "24777d53-655d-4637-841a-1ef3ab291ac2",
   "metadata": {},
   "outputs": [
    {
     "data": {
      "image/png": "[encoded data removed]",
      "text/plain": [
       "<Figure size 640x480 with 1 Axes>"
      ]
     },
     "metadata": {},
     "output_type": "display_data"
    }
   ],
   "source": [
    "sns.boxplot(data=[df_full['rougher.input.feed_ag'] , df_full['rougher.output.concentrate_ag'], df_full['primary_cleaner.output.concentrate_ag'], df_full['final.output.concentrate_ag']]);"
   ]
  },
  {
   "cell_type": "markdown",
   "id": "3885cd22-c607-4f86-8a56-2181f36ec8e2",
   "metadata": {},
   "source": [
    "Концентрация серебра повышается после первичной очистки, но снижается ниже начального значения в финальном концентрате."
   ]
  },
  {
   "cell_type": "code",
   "execution_count": 29,
   "id": "56af448f-271c-4985-aba1-c2e4a98cd1d1",
   "metadata": {},
   "outputs": [],
   "source": [
    "tails_ag = ['rougher.output.tail_ag', 'primary_cleaner.output.tail_ag',\\\n",
    "            'secondary_cleaner.output.tail_ag', 'final.output.tail_ag']"
   ]
  },
  {
   "cell_type": "code",
   "execution_count": 30,
   "id": "b5d2718f-95e3-444a-bec2-486d4480a117",
   "metadata": {},
   "outputs": [
    {
     "data": {
      "text/plain": [
       "rougher.output.tail_ag               5.579343\n",
       "primary_cleaner.output.tail_ag      16.145468\n",
       "secondary_cleaner.output.tail_ag    14.605499\n",
       "final.output.tail_ag                 9.694420\n",
       "dtype: float64"
      ]
     },
     "execution_count": 30,
     "metadata": {},
     "output_type": "execute_result"
    }
   ],
   "source": [
    "df_full[tails_ag].mean()"
   ]
  },
  {
   "cell_type": "code",
   "execution_count": 31,
   "id": "66402a1c-11e9-4a3d-93d9-e63e249bf9bf",
   "metadata": {},
   "outputs": [
    {
     "data": {
      "image/png": "[encoded data removed]",
      "text/plain": [
       "<Figure size 640x480 with 1 Axes>"
      ]
     },
     "metadata": {},
     "output_type": "display_data"
    }
   ],
   "source": [
    "sns.boxplot(data=[df_full['rougher.output.tail_ag'] , df_full['primary_cleaner.output.tail_ag'], df_full['secondary_cleaner.output.tail_ag'], df_full['final.output.tail_ag']]);"
   ]
  },
  {
   "cell_type": "markdown",
   "id": "7b4d0ce2-adf4-4b65-bf6f-58eb90b9edc0",
   "metadata": {},
   "source": [
    "Концентрация серебра в отвальных хвостах повышается после первичной очистки, затем снижается, но остаётся вышеначального значения."
   ]
  },
  {
   "cell_type": "markdown",
   "id": "ff34e720-6402-4031-be2a-60ac3025f64a",
   "metadata": {},
   "source": [
    "#### Au"
   ]
  },
  {
   "cell_type": "code",
   "execution_count": 32,
   "id": "89823708-79d3-487f-8e70-69f54fb3c8bb",
   "metadata": {},
   "outputs": [],
   "source": [
    "main_stages_au = ['rougher.input.feed_au', 'rougher.output.concentrate_au', \\\n",
    "                  'primary_cleaner.output.concentrate_au', 'final.output.concentrate_au']"
   ]
  },
  {
   "cell_type": "code",
   "execution_count": 33,
   "id": "7bf21199-1fbd-4611-a845-7e74fc30ecde",
   "metadata": {},
   "outputs": [
    {
     "data": {
      "text/plain": [
       "rougher.input.feed_au                     8.258139\n",
       "rougher.output.concentrate_au            20.177817\n",
       "primary_cleaner.output.concentrate_au    32.101133\n",
       "final.output.concentrate_au              44.280284\n",
       "dtype: float64"
      ]
     },
     "execution_count": 33,
     "metadata": {},
     "output_type": "execute_result"
    }
   ],
   "source": [
    "df_full[main_stages_au].mean()"
   ]
  },
  {
   "cell_type": "code",
   "execution_count": 34,
   "id": "cd373b69-0bec-4716-85a9-4ae617d0636f",
   "metadata": {},
   "outputs": [
    {
     "data": {
      "image/png": "[encoded data removed]",
      "text/plain": [
       "<Figure size 640x480 with 1 Axes>"
      ]
     },
     "metadata": {},
     "output_type": "display_data"
    }
   ],
   "source": [
    "sns.boxplot(data=[df_full['rougher.input.feed_au'] , df_full['rougher.output.concentrate_au'], df_full['primary_cleaner.output.concentrate_au'], df_full['final.output.concentrate_au']]);"
   ]
  },
  {
   "cell_type": "markdown",
   "id": "0a2e1d5d-cbad-458f-9c66-c79497734332",
   "metadata": {},
   "source": [
    "Концентрация золота повышается после каждого этапа очистки."
   ]
  },
  {
   "cell_type": "code",
   "execution_count": 35,
   "id": "afac5d75-0439-45cc-ba83-f64239a7ed73",
   "metadata": {},
   "outputs": [],
   "source": [
    "tails_au = ['rougher.output.tail_au', 'primary_cleaner.output.tail_au',\\\n",
    "            'secondary_cleaner.output.tail_au', 'final.output.tail_au']"
   ]
  },
  {
   "cell_type": "code",
   "execution_count": 36,
   "id": "dfdcbee9-c7eb-4bc4-afa4-1524a97a7043",
   "metadata": {},
   "outputs": [
    {
     "data": {
      "text/plain": [
       "rougher.output.tail_au              1.809143\n",
       "primary_cleaner.output.tail_au      3.892530\n",
       "secondary_cleaner.output.tail_au    4.303055\n",
       "final.output.tail_au                3.031744\n",
       "dtype: float64"
      ]
     },
     "execution_count": 36,
     "metadata": {},
     "output_type": "execute_result"
    }
   ],
   "source": [
    "df_full[tails_au].mean()"
   ]
  },
  {
   "cell_type": "code",
   "execution_count": 37,
   "id": "ee67299b-4e3e-4701-ace5-c36a02c43d16",
   "metadata": {},
   "outputs": [
    {
     "data": {
      "image/png": "[encoded data removed]",
      "text/plain": [
       "<Figure size 640x480 with 1 Axes>"
      ]
     },
     "metadata": {},
     "output_type": "display_data"
    }
   ],
   "source": [
    "sns.boxplot(data=[df_full['rougher.output.tail_au'] , df_full['primary_cleaner.output.tail_au'], df_full['secondary_cleaner.output.tail_au'], df_full['final.output.tail_au']]);"
   ]
  },
  {
   "cell_type": "markdown",
   "id": "ed9c4a90-ec21-42a8-8fe9-41dc2db151f5",
   "metadata": {},
   "source": [
    "Концентрация золота в отвальных хвостах повышается после первичной и вторичной очистки."
   ]
  },
  {
   "cell_type": "markdown",
   "id": "815b0036-dca4-49bd-8032-70bb45e3cbab",
   "metadata": {},
   "source": [
    "#### Pb"
   ]
  },
  {
   "cell_type": "code",
   "execution_count": 38,
   "id": "466ade7d-37c9-4b27-bdb3-df94b8a7cfc1",
   "metadata": {},
   "outputs": [],
   "source": [
    "main_stages_pb = ['rougher.input.feed_pb', 'rougher.output.concentrate_pb', \\\n",
    "                  'primary_cleaner.output.concentrate_pb', 'final.output.concentrate_pb']"
   ]
  },
  {
   "cell_type": "code",
   "execution_count": 39,
   "id": "0b08ed59-e10e-4110-8644-1f8cd5b51d32",
   "metadata": {},
   "outputs": [
    {
     "data": {
      "text/plain": [
       "rougher.input.feed_pb                     3.581617\n",
       "rougher.output.concentrate_pb             7.763225\n",
       "primary_cleaner.output.concentrate_pb     9.806480\n",
       "final.output.concentrate_pb              10.034090\n",
       "dtype: float64"
      ]
     },
     "execution_count": 39,
     "metadata": {},
     "output_type": "execute_result"
    }
   ],
   "source": [
    "df_full[main_stages_pb].mean()"
   ]
  },
  {
   "cell_type": "code",
   "execution_count": 40,
   "id": "60877513-aa25-4e89-8cb6-15d98974fd88",
   "metadata": {},
   "outputs": [
    {
     "data": {
      "image/png": "[encoded data removed]",
      "text/plain": [
       "<Figure size 640x480 with 1 Axes>"
      ]
     },
     "metadata": {},
     "output_type": "display_data"
    }
   ],
   "source": [
    "sns.boxplot(data=[df_full['rougher.input.feed_pb'] , df_full['rougher.output.concentrate_pb'], df_full['primary_cleaner.output.concentrate_pb'], df_full['final.output.concentrate_pb']]);"
   ]
  },
  {
   "cell_type": "markdown",
   "id": "e6e66cec-51f4-405d-9af9-058220130f66",
   "metadata": {},
   "source": [
    "Концентрация свинца повышается с каждым этапом очистки."
   ]
  },
  {
   "cell_type": "code",
   "execution_count": 41,
   "id": "a1d11ff8-b795-4d39-9cbb-5bcda145ff22",
   "metadata": {},
   "outputs": [],
   "source": [
    "tails_pb = ['rougher.output.tail_pb', 'primary_cleaner.output.tail_pb',\\\n",
    "            'secondary_cleaner.output.tail_pb', 'final.output.tail_pb']"
   ]
  },
  {
   "cell_type": "code",
   "execution_count": 42,
   "id": "29f08f95-ccd6-45b1-8335-d3dbf0823e15",
   "metadata": {},
   "outputs": [
    {
     "data": {
      "text/plain": [
       "rougher.output.tail_pb              0.643912\n",
       "primary_cleaner.output.tail_pb      3.428751\n",
       "secondary_cleaner.output.tail_pb    5.768740\n",
       "final.output.tail_pb                2.691339\n",
       "dtype: float64"
      ]
     },
     "execution_count": 42,
     "metadata": {},
     "output_type": "execute_result"
    }
   ],
   "source": [
    "df_full[tails_pb].mean()"
   ]
  },
  {
   "cell_type": "code",
   "execution_count": 43,
   "id": "7110c76a-c5e0-441a-b591-01c949dea42d",
   "metadata": {},
   "outputs": [
    {
     "data": {
      "image/png": "[encoded data removed]",
      "text/plain": [
       "<Figure size 640x480 with 1 Axes>"
      ]
     },
     "metadata": {},
     "output_type": "display_data"
    }
   ],
   "source": [
    "sns.boxplot(data=[df_full['rougher.output.tail_pb'] , df_full['primary_cleaner.output.tail_pb'], df_full['secondary_cleaner.output.tail_pb'], df_full['final.output.tail_pb']]);"
   ]
  },
  {
   "cell_type": "markdown",
   "id": "66181c17-86ca-4a48-80d8-a627b3e1d0ab",
   "metadata": {},
   "source": [
    "Концентрация свинца в отвальных хвостах повышается после первичной и вторичной очистки."
   ]
  },
  {
   "cell_type": "markdown",
   "id": "775bf09d-6bd9-407e-b455-456ce698afac",
   "metadata": {},
   "source": [
    "### Сравним распределение размеров гранул сырья в обучающей и тестовой выборках. "
   ]
  },
  {
   "cell_type": "code",
   "execution_count": 44,
   "id": "b57dbcf8-a1b7-4fc4-aee1-a49f3708fa5c",
   "metadata": {},
   "outputs": [
    {
     "data": {
      "image/png": "[encoded data removed]",
      "text/plain": [
       "<Figure size 640x480 with 1 Axes>"
      ]
     },
     "metadata": {},
     "output_type": "display_data"
    }
   ],
   "source": [
    "sns.boxplot(data=[df_train['rougher.input.feed_size'], df_test['rougher.input.feed_size']]);"
   ]
  },
  {
   "cell_type": "code",
   "execution_count": 45,
   "id": "2dd4e3ae-22d0-4696-8a35-04391fc79678",
   "metadata": {},
   "outputs": [
    {
     "name": "stdout",
     "output_type": "stream",
     "text": [
      "60.25952076361241 55.952754028895136\n"
     ]
    }
   ],
   "source": [
    "print(df_train['rougher.input.feed_size'].mean(), df_test['rougher.input.feed_size'].mean())"
   ]
  },
  {
   "cell_type": "markdown",
   "id": "b2548cb6-17ed-4161-a82e-8e7eda16fb6c",
   "metadata": {},
   "source": [
    "Значения размеров гранул на этапе флотации примерно равны и распределены похожим образом."
   ]
  },
  {
   "cell_type": "code",
   "execution_count": 46,
   "id": "cb90aa1d-ad54-4113-a384-b7ce2dad1aa1",
   "metadata": {},
   "outputs": [
    {
     "data": {
      "image/png": "[encoded data removed]",
      "text/plain": [
       "<Figure size 640x480 with 1 Axes>"
      ]
     },
     "metadata": {},
     "output_type": "display_data"
    }
   ],
   "source": [
    "sns.boxplot(data=[df_train['primary_cleaner.input.feed_size'], df_test['primary_cleaner.input.feed_size']]);"
   ]
  },
  {
   "cell_type": "code",
   "execution_count": 47,
   "id": "cdd5b36e-938b-4377-b171-49716e1c2be1",
   "metadata": {
    "scrolled": true
   },
   "outputs": [
    {
     "name": "stdout",
     "output_type": "stream",
     "text": [
      "7.323600740238331 7.266339191270906\n"
     ]
    }
   ],
   "source": [
    "print(df_train['primary_cleaner.input.feed_size'].mean(), df_test['primary_cleaner.input.feed_size'].mean())"
   ]
  },
  {
   "cell_type": "markdown",
   "id": "9aafae0e-71fb-4f48-a3fb-afb5ee995159",
   "metadata": {},
   "source": [
    "Значения размеров гранул в концентрате примерно равны и распределены похожим образом."
   ]
  },
  {
   "cell_type": "markdown",
   "id": "de807968",
   "metadata": {},
   "source": [
    "<font color='blue'><b>Комментарий ревьюера: </b></font> ✔️\\\n",
    "<font color='green'> Вывод верный!</font>"
   ]
  },
  {
   "cell_type": "markdown",
   "id": "51ec0d00-634d-4fd7-8c3b-70c73e87b873",
   "metadata": {},
   "source": [
    "### Исследуем суммарную концентрацию всех веществ на разных стадиях: в сырье, в черновом и финальном концентратах. "
   ]
  },
  {
   "cell_type": "markdown",
   "id": "7e79e999-810c-4df3-aeb9-267fd9c5d7c9",
   "metadata": {},
   "source": [
    "добавим в датасет интересующие нас данные."
   ]
  },
  {
   "cell_type": "code",
   "execution_count": 48,
   "id": "9ae0daee-5ac6-4906-b792-62ff376a7fd9",
   "metadata": {},
   "outputs": [],
   "source": [
    "total_gathering = ['rougher_input', 'rougher_output', 'final_output_sum']"
   ]
  },
  {
   "cell_type": "markdown",
   "id": "9fca595a-b7c3-4ae5-8761-c4ffaa63e6dc",
   "metadata": {},
   "source": [
    "Концентрация веществ в сырье:"
   ]
  },
  {
   "cell_type": "code",
   "execution_count": 49,
   "id": "9c317f4e-7939-452f-99da-ac526821300a",
   "metadata": {},
   "outputs": [],
   "source": [
    "df_full['rougher_input'] = df_full['rougher.input.feed_ag'] + df_full['rougher.input.feed_pb'] +\\\n",
    "df_full['rougher.input.feed_sol'] + df_full['rougher.input.feed_au']"
   ]
  },
  {
   "cell_type": "markdown",
   "id": "93106f3d-50d6-4687-9fb5-5407578299e7",
   "metadata": {},
   "source": [
    "Концентрация веществ черновом концентрате:"
   ]
  },
  {
   "cell_type": "code",
   "execution_count": 50,
   "id": "46ed5d56-c453-4c75-a6e1-cd9bfbc58788",
   "metadata": {},
   "outputs": [],
   "source": [
    "df_full['rougher_output'] = df_full['rougher.output.concentrate_ag'] + df_full['rougher.output.concentrate_pb'] +\\\n",
    "df_full['rougher.output.concentrate_sol'] + df_full['rougher.output.concentrate_au']"
   ]
  },
  {
   "cell_type": "markdown",
   "id": "0a0a6d16-d758-4fd6-bf53-4549a44e62ca",
   "metadata": {},
   "source": [
    "Концетрация веществ в финальном цонцентрате:"
   ]
  },
  {
   "cell_type": "code",
   "execution_count": 51,
   "id": "35816b04-1ef5-46e7-97d4-376314130746",
   "metadata": {},
   "outputs": [],
   "source": [
    "df_full['final_output_sum'] = df_full['final.output.concentrate_ag'] + df_full['final.output.concentrate_pb'] +\\\n",
    "df_full['final.output.concentrate_sol'] + df_full['final.output.concentrate_au']"
   ]
  },
  {
   "cell_type": "code",
   "execution_count": 52,
   "id": "b4081324-cd4b-4723-84f3-9f7d4f6798ef",
   "metadata": {},
   "outputs": [
    {
     "data": {
      "text/html": [
       "<div>\n",
       "<style scoped>\n",
       "    .dataframe tbody tr th:only-of-type {\n",
       "        vertical-align: middle;\n",
       "    }\n",
       "\n",
       "    .dataframe tbody tr th {\n",
       "        vertical-align: top;\n",
       "    }\n",
       "\n",
       "    .dataframe thead th {\n",
       "        text-align: right;\n",
       "    }\n",
       "</style>\n",
       "<table border=\"1\" class=\"dataframe\">\n",
       "  <thead>\n",
       "    <tr style=\"text-align: right;\">\n",
       "      <th></th>\n",
       "      <th>rougher_input</th>\n",
       "      <th>rougher_output</th>\n",
       "      <th>final_output_sum</th>\n",
       "    </tr>\n",
       "  </thead>\n",
       "  <tbody>\n",
       "    <tr>\n",
       "      <th>0</th>\n",
       "      <td>51.680034</td>\n",
       "      <td>66.424950</td>\n",
       "      <td>63.644396</td>\n",
       "    </tr>\n",
       "    <tr>\n",
       "      <th>1</th>\n",
       "      <td>50.659114</td>\n",
       "      <td>67.012710</td>\n",
       "      <td>63.957723</td>\n",
       "    </tr>\n",
       "    <tr>\n",
       "      <th>2</th>\n",
       "      <td>50.609929</td>\n",
       "      <td>66.103793</td>\n",
       "      <td>64.311180</td>\n",
       "    </tr>\n",
       "    <tr>\n",
       "      <th>3</th>\n",
       "      <td>51.061546</td>\n",
       "      <td>65.752751</td>\n",
       "      <td>63.573449</td>\n",
       "    </tr>\n",
       "    <tr>\n",
       "      <th>4</th>\n",
       "      <td>47.859163</td>\n",
       "      <td>65.908382</td>\n",
       "      <td>64.004667</td>\n",
       "    </tr>\n",
       "  </tbody>\n",
       "</table>\n",
       "</div>"
      ],
      "text/plain": [
       "   rougher_input  rougher_output  final_output_sum\n",
       "0      51.680034       66.424950         63.644396\n",
       "1      50.659114       67.012710         63.957723\n",
       "2      50.609929       66.103793         64.311180\n",
       "3      51.061546       65.752751         63.573449\n",
       "4      47.859163       65.908382         64.004667"
      ]
     },
     "execution_count": 52,
     "metadata": {},
     "output_type": "execute_result"
    }
   ],
   "source": [
    "df_full[total_gathering].head()"
   ]
  },
  {
   "cell_type": "markdown",
   "id": "f6a05709-7704-4f57-ad36-d6ae07fb9562",
   "metadata": {},
   "source": [
    "Изучим распределение этих концентраций."
   ]
  },
  {
   "cell_type": "code",
   "execution_count": 53,
   "id": "36c23035-8457-4ae2-8382-c1dc8087af5d",
   "metadata": {},
   "outputs": [
    {
     "data": {
      "image/png": "[encoded data removed]",
      "text/plain": [
       "<Figure size 640x480 with 1 Axes>"
      ]
     },
     "metadata": {},
     "output_type": "display_data"
    }
   ],
   "source": [
    "sns.boxplot(data=df_full[total_gathering]).set(title = 'Распределение суммарных концентраций веществ на разных стадиях');\n",
    "\n"
   ]
  },
  {
   "cell_type": "markdown",
   "id": "f7a81b5c-f32c-40ad-bc24-36150f5e2ddc",
   "metadata": {},
   "source": [
    "На графике видно некоторое количество аномальных измерений, статистических выбросов и даже нулевых значений.\n",
    "Избавимся от этих значений."
   ]
  },
  {
   "cell_type": "code",
   "execution_count": 54,
   "id": "903d3f85-4497-41ae-898e-302e5d0a11b4",
   "metadata": {},
   "outputs": [],
   "source": [
    "for stage in total_gathering:\n",
    "    #print(stage)\n",
    "    top_threshold = df_full[stage].quantile(0.75) + 1.5 * \\\n",
    "(df_full[stage].quantile(0.75) - df_full[stage].quantile(0.25))\n",
    "    #print(top_threshold)\n",
    "    bot_threshold = df_full[stage].quantile(0.25) - 1.5 * \\\n",
    "(df_full[stage].quantile(0.75) - df_full[stage].quantile(0.25))\n",
    "    #print(bot_threshold)\n",
    "    \n",
    "    df_full = df_full.loc[(df_full[stage] > bot_threshold) & (df_full[stage] < top_threshold)]\n",
    "    #print(total_gathering.shape)"
   ]
  },
  {
   "cell_type": "code",
   "execution_count": 55,
   "id": "398b9503-6a50-4def-b494-054044b55a9d",
   "metadata": {},
   "outputs": [
    {
     "data": {
      "image/png": "[encoded data removed]",
      "text/plain": [
       "<Figure size 640x480 with 1 Axes>"
      ]
     },
     "metadata": {},
     "output_type": "display_data"
    }
   ],
   "source": [
    "sns.boxplot(data=df_full[total_gathering]).set(title = 'Распределение суммарных концентраций веществ на разных стадиях');\n",
    "\n"
   ]
  },
  {
   "cell_type": "markdown",
   "id": "0a6d4aa4-f8b3-4871-9f5f-17439b9164af",
   "metadata": {},
   "source": [
    "Оставим в обучающем, тестовом и полном датасетах только те строки, что встречаются в оищенном вспомогательном датасете."
   ]
  },
  {
   "cell_type": "code",
   "execution_count": 56,
   "id": "e4049590-2a3c-4f77-ba0f-48a1cb2a5520",
   "metadata": {},
   "outputs": [],
   "source": [
    "df_train = pd.merge(df_train, df_full['date'], on='date', how='inner')"
   ]
  },
  {
   "cell_type": "code",
   "execution_count": 57,
   "id": "51343bb6-55db-4cc2-ad3a-9a62d7128f5d",
   "metadata": {},
   "outputs": [],
   "source": [
    "df_full = df_full.drop(total_gathering, axis=1)"
   ]
  },
  {
   "cell_type": "markdown",
   "id": "435fec86-16c9-46a0-bfca-25f29ca778d3",
   "metadata": {},
   "source": [
    "## Построение модели"
   ]
  },
  {
   "cell_type": "markdown",
   "id": "79fd7eac-bd6a-4f7e-a738-69480d19b45d",
   "metadata": {},
   "source": [
    "### Создадим функцию симметричного среднего абсолютного процентного отклонения в качестве метрики качества нашей модели"
   ]
  },
  {
   "cell_type": "code",
   "execution_count": 58,
   "id": "493b48d4-9a28-4c5b-a8ce-7e2089e515af",
   "metadata": {},
   "outputs": [],
   "source": [
    "def smape(valid, predicted):\n",
    "    deviations = []\n",
    "    for val, pred in zip(valid, predicted):\n",
    "          deviations.append(abs(val - pred) / ((abs(val) + abs(pred))/2))\n",
    "    \n",
    "    return (1 / len(valid)) * sum(deviations) * 100"
   ]
  },
  {
   "cell_type": "code",
   "execution_count": 59,
   "id": "f0ee2a9b-4568-4269-9518-4cafcf9bb918",
   "metadata": {},
   "outputs": [],
   "source": [
    "def smape_numpy(valid, predicted):\n",
    "    valid = np.array(valid)\n",
    "    prediction = np.array(predicted)\n",
    "    return np.sum(np.absolute(valid - predicted) / ((np.absolute(valid) + np.absolute(predicted)) / 2)) / len(valid) * 100"
   ]
  },
  {
   "cell_type": "code",
   "execution_count": 60,
   "id": "c52e7347-3408-4dab-b1ce-dc357011d21f",
   "metadata": {},
   "outputs": [
    {
     "data": {
      "text/plain": [
       "66.66666666666666"
      ]
     },
     "execution_count": 60,
     "metadata": {},
     "output_type": "execute_result"
    }
   ],
   "source": [
    "smape([1,1], [2,2])"
   ]
  },
  {
   "cell_type": "code",
   "execution_count": 61,
   "id": "af4455cd-618e-4686-b80d-d6d1f2a96011",
   "metadata": {},
   "outputs": [
    {
     "data": {
      "text/plain": [
       "66.66666666666666"
      ]
     },
     "execution_count": 61,
     "metadata": {},
     "output_type": "execute_result"
    }
   ],
   "source": [
    "smape_numpy([1,1], [2,2])"
   ]
  },
  {
   "cell_type": "markdown",
   "id": "b2702d48-638a-4659-bf80-ed03939880a9",
   "metadata": {},
   "source": [
    "Итоговая метрика будет показывать метрику эффективности двух целевых показателей, эффективности обогащения в черновом и финалном концентрате."
   ]
  },
  {
   "cell_type": "code",
   "execution_count": 62,
   "id": "555a2530-100c-4c3c-9f89-f9c22cb56b80",
   "metadata": {},
   "outputs": [],
   "source": [
    "def final_smape(smape_rougher, smape_final):\n",
    "        return (0.25 * smape_rougher) + (0.75 * smape_final)"
   ]
  },
  {
   "cell_type": "markdown",
   "id": "2a3a178d-ed79-45f2-bc83-babaf09f834f",
   "metadata": {},
   "source": [
    "Исключим ненужные параметры из обучающей выборки."
   ]
  },
  {
   "cell_type": "code",
   "execution_count": 63,
   "id": "1caba3ea-c110-4552-8a77-559a0f385e9a",
   "metadata": {},
   "outputs": [],
   "source": [
    "df_train = df_train[df_test.columns]"
   ]
  },
  {
   "cell_type": "markdown",
   "id": "9ad57552-732a-4b91-9690-a404bbae80c6",
   "metadata": {},
   "source": [
    "Выделим целевые признаки и параметры."
   ]
  },
  {
   "cell_type": "code",
   "execution_count": 64,
   "id": "e8b2b512-02e6-404e-8d7f-6e482433150b",
   "metadata": {},
   "outputs": [],
   "source": [
    "features = df_train.drop(['rougher.output.recovery','final.output.recovery', 'date'],axis=1)\n",
    "target_rougher = df_train['rougher.output.recovery']\n",
    "target_final = df_train['final.output.recovery']"
   ]
  },
  {
   "cell_type": "markdown",
   "id": "a667f14b-1ed3-4e1c-8b1c-dd1f806af95b",
   "metadata": {},
   "source": [
    "Отмасштабируем параметры."
   ]
  },
  {
   "cell_type": "code",
   "execution_count": 65,
   "id": "35c4550b-b9d8-43e2-82f4-42c3109d90ab",
   "metadata": {},
   "outputs": [],
   "source": [
    "scaler = StandardScaler()\n",
    "scaler.fit(features)\n",
    "features_scaled = scaler.transform(features)"
   ]
  },
  {
   "cell_type": "markdown",
   "id": "a934bb17-ad0b-4419-a705-d892930eac2a",
   "metadata": {},
   "source": [
    "### Применим модель линейной регрессии и определим оптимальное значений блоков для кроссвалидации."
   ]
  },
  {
   "cell_type": "code",
   "execution_count": 66,
   "id": "11c2988e-52ec-4602-8850-a2208485cd3e",
   "metadata": {},
   "outputs": [
    {
     "name": "stdout",
     "output_type": "stream",
     "text": [
      "Лучшая sMAPE-оценка модели линейной регрессии на обучающей выборке 8.205106518558141\n",
      "Оптимальное количество блоков для кросс-валидации 10\n"
     ]
    }
   ],
   "source": [
    "model = LinearRegression()\n",
    "\n",
    "smape_scorer = make_scorer(smape)\n",
    "\n",
    "best_score = 100000\n",
    "best_cv = None\n",
    "\n",
    "for crossval in range(2, 11):\n",
    "    t_start = perf_counter()\n",
    "    rougher_scores = abs(cross_val_score(model, features_scaled, target_rougher, \\\n",
    "                                 scoring=smape_scorer, cv=crossval)).mean()\n",
    "    final_scores = abs(cross_val_score(model, features_scaled, target_final, \\\n",
    "                                 scoring=smape_scorer, cv=crossval)).mean()\n",
    "    \n",
    "    score = final_smape(rougher_scores, final_scores)\n",
    "    #print(score)\n",
    "    t_stop = perf_counter()\n",
    "    \n",
    "     #if t_stop - t_start > 0.5:\n",
    "         #break\n",
    "    \n",
    "    if score < best_score:\n",
    "        best_score = score\n",
    "        best_cv = crossval\n",
    "        \n",
    "    \n",
    "    #print(crossval, score, t_stop - t_start)\n",
    "\n",
    "print('Лучшая sMAPE-оценка модели линейной регрессии на обучающей выборке', best_score)\n",
    "print('Оптимальное количество блоков для кросс-валидации', best_cv)"
   ]
  },
  {
   "cell_type": "code",
   "execution_count": 67,
   "id": "2d46992a-453e-4697-8b12-ca807ae6b5ad",
   "metadata": {},
   "outputs": [
    {
     "name": "stdout",
     "output_type": "stream",
     "text": [
      "Лучшая sMAPE-оценка модели линейной регрессии на обучающей выборке 8.205106518558143\n",
      "Оптимальное количество блоков для кросс-валидации 10\n"
     ]
    }
   ],
   "source": [
    "model = LinearRegression()\n",
    "\n",
    "smape_scorer = make_scorer(smape_numpy)\n",
    "\n",
    "best_score = 100000\n",
    "best_cv = None\n",
    "\n",
    "for crossval in range(2, 11):\n",
    "    t_start = perf_counter()\n",
    "    rougher_scores = abs(cross_val_score(model, features_scaled, target_rougher, \\\n",
    "                                 scoring=smape_scorer, cv=crossval)).mean()\n",
    "    final_scores = abs(cross_val_score(model, features_scaled, target_final, \\\n",
    "                                 scoring=smape_scorer, cv=crossval)).mean()\n",
    "    \n",
    "    score = final_smape(rougher_scores, final_scores)\n",
    "    #print(score)\n",
    "    t_stop = perf_counter()\n",
    "    \n",
    "#     if t_stop - t_start > 0.5:\n",
    "#         break\n",
    "    \n",
    "    if score < best_score:\n",
    "        best_score = score\n",
    "        best_cv = crossval\n",
    "        \n",
    "    \n",
    "    #print(crossval, score, t_stop - t_start)\n",
    "\n",
    "print('Лучшая sMAPE-оценка модели линейной регрессии на обучающей выборке', best_score)\n",
    "print('Оптимальное количество блоков для кросс-валидации', best_cv)"
   ]
  },
  {
   "cell_type": "markdown",
   "id": "6e148283-763d-47a7-8cbf-075cbfee6958",
   "metadata": {},
   "source": [
    "### Применим модель дерева решений и определим оптимальную глубину модели."
   ]
  },
  {
   "cell_type": "code",
   "execution_count": 68,
   "id": "e8cf2c79-b8c1-4461-9d0e-ebd087b003ce",
   "metadata": {},
   "outputs": [
    {
     "name": "stdout",
     "output_type": "stream",
     "text": [
      "Лучшая sMAPE-оценка модели дерева решений на обучающей выборке 7.932433570722038\n",
      "Оптимальная глубина модели 4\n",
      "CPU times: user 19.3 s, sys: 39.1 ms, total: 19.3 s\n",
      "Wall time: 18.8 s\n"
     ]
    }
   ],
   "source": [
    "%%time\n",
    "\n",
    "smape_scorer = make_scorer(smape)\n",
    "best_score = 100000\n",
    "best_depth = None\n",
    "\n",
    "for depth in range(1, 16, 1):\n",
    "    t_start = perf_counter()\n",
    "    model = DecisionTreeRegressor(max_depth=depth)\n",
    "    \n",
    "    rougher_scores = abs(cross_val_score(model, features_scaled, target_rougher, \\\n",
    "                                 scoring=smape_scorer, cv=best_cv)).mean()\n",
    "    final_scores = abs(cross_val_score(model, features_scaled, target_final, \\\n",
    "                                 scoring=smape_scorer, cv=best_cv)).mean()\n",
    "    score = final_smape(rougher_scores, final_scores)\n",
    "    \n",
    "    t_stop = perf_counter()\n",
    "    \n",
    "    if t_stop - t_start > 6:\n",
    "        break\n",
    "    \n",
    "    if score < best_score:\n",
    "        best_score = score\n",
    "        best_depth = depth       \n",
    "        \n",
    "    #print(depth, score, t_stop - t_start)\n",
    "    \n",
    "print('Лучшая sMAPE-оценка модели дерева решений на обучающей выборке', best_score)\n",
    "print('Оптимальная глубина модели', best_depth)"
   ]
  },
  {
   "cell_type": "code",
   "execution_count": 69,
   "id": "07c6aa03-c735-4505-9bc2-0a4e156d1565",
   "metadata": {},
   "outputs": [
    {
     "name": "stdout",
     "output_type": "stream",
     "text": [
      "Лучшая sMAPE-оценка модели дерева решений на обучающей выборке 7.851606249435552\n",
      "Оптимальная глубина модели 4\n",
      "CPU times: user 25.7 s, sys: 1.49 ms, total: 25.7 s\n",
      "Wall time: 25.7 s\n"
     ]
    }
   ],
   "source": [
    "%%time\n",
    "\n",
    "smape_scorer = make_scorer(smape_numpy)\n",
    "best_score = 100000\n",
    "best_depth = None\n",
    "\n",
    "for depth in range(1, 16, 1):\n",
    "    t_start = perf_counter()\n",
    "    model = DecisionTreeRegressor(max_depth=depth)\n",
    "    \n",
    "    rougher_scores = abs(cross_val_score(model, features_scaled, target_rougher, \\\n",
    "                                 scoring=smape_scorer, cv=best_cv)).mean()\n",
    "    final_scores = abs(cross_val_score(model, features_scaled, target_final, \\\n",
    "                                 scoring=smape_scorer, cv=best_cv)).mean()\n",
    "    score = final_smape(rougher_scores, final_scores)\n",
    "    \n",
    "    t_stop = perf_counter()\n",
    "    \n",
    "    if t_stop - t_start > 6:\n",
    "        break\n",
    "    \n",
    "    if score < best_score:\n",
    "        best_score = score\n",
    "        best_depth = depth       \n",
    "        \n",
    "    #print(depth, score, t_stop - t_start)\n",
    "    \n",
    "print('Лучшая sMAPE-оценка модели дерева решений на обучающей выборке', best_score)\n",
    "print('Оптимальная глубина модели', best_depth)"
   ]
  },
  {
   "cell_type": "markdown",
   "id": "131b22db-6649-4e1d-afe4-4aaaf0747e37",
   "metadata": {},
   "source": [
    "### Применим модель случайного леса и определим оптимальное кочество деревьев."
   ]
  },
  {
   "cell_type": "code",
   "execution_count": 70,
   "id": "bf328f80-18bc-48c4-a247-1d88c7288d1d",
   "metadata": {},
   "outputs": [
    {
     "name": "stdout",
     "output_type": "stream",
     "text": [
      "Лучшая sMAPE-оценка модели случайного леса на обучающей выборке 7.581407071259729\n",
      "Оптимальное количество деревьев 15\n",
      "CPU times: user 5min 34s, sys: 98.8 ms, total: 5min 34s\n",
      "Wall time: 5min 34s\n"
     ]
    }
   ],
   "source": [
    "%%time\n",
    "\n",
    "best_score = 100000\n",
    "best_est = None\n",
    "\n",
    "for est in range(10, 101, 5):\n",
    "    t_start = perf_counter()\n",
    "    \n",
    "    model = RandomForestRegressor(n_estimators=est, max_depth=best_depth)\n",
    "    \n",
    "    rougher_scores = abs(cross_val_score(model, features_scaled, target_rougher, \\\n",
    "                                 scoring=smape_scorer, cv=best_cv)).mean()\n",
    "    final_scores = abs(cross_val_score(model, features_scaled, target_final, \\\n",
    "                                 scoring=smape_scorer, cv=best_cv)).mean()\n",
    "    score = final_smape(rougher_scores, final_scores)\n",
    "    \n",
    "    t_stop = perf_counter()\n",
    "    \n",
    "    if t_stop - t_start > 100:\n",
    "        break\n",
    "    \n",
    "    if score < best_score:\n",
    "        best_score = score\n",
    "        best_est = est\n",
    "    \n",
    "    #print(est, score, t_stop - t_start)\n",
    "    \n",
    "print('Лучшая sMAPE-оценка модели случайного леса на обучающей выборке', best_score)\n",
    "print('Оптимальное количество деревьев', best_est)"
   ]
  },
  {
   "cell_type": "markdown",
   "id": "ae66fb1e-029b-4c1e-b655-1d9058b27447",
   "metadata": {},
   "source": [
    "### Воспользуемся найденными параметрами модели для оценки модели на тестовой выборке."
   ]
  },
  {
   "cell_type": "markdown",
   "id": "471f8d6b-ad63-419d-bd0e-1b808c45279e",
   "metadata": {},
   "source": [
    "Модель случайного леса с оптимальными параметрами:"
   ]
  },
  {
   "cell_type": "code",
   "execution_count": 71,
   "id": "9100da94-34b3-4bd2-ae8a-ee8897f7b06f",
   "metadata": {},
   "outputs": [],
   "source": [
    "best_model = RandomForestRegressor(n_estimators=best_est, max_depth=best_depth)"
   ]
  },
  {
   "cell_type": "markdown",
   "id": "ea381cad-8982-4d59-af35-04d231f6a940",
   "metadata": {},
   "source": [
    "Выделим целевые признаки и парметры тестовой выборки."
   ]
  },
  {
   "cell_type": "code",
   "execution_count": 72,
   "id": "2c45c774-70f9-42ce-8ea5-a726fc5d9f62",
   "metadata": {},
   "outputs": [],
   "source": [
    "test_features = df_test.drop(['rougher.output.recovery','final.output.recovery', 'date'],axis=1)\n",
    "test_features_scaled = scaler.transform(test_features)\n",
    "\n",
    "test_target_rougher = df_test['rougher.output.recovery']\n",
    "test_target_final = df_test['final.output.recovery']"
   ]
  },
  {
   "cell_type": "markdown",
   "id": "f50bb78a-20be-4784-9ea5-09d226788e4e",
   "metadata": {},
   "source": [
    "Получим предсказанные значения целевых признаков для тестовой выборки."
   ]
  },
  {
   "cell_type": "code",
   "execution_count": 73,
   "id": "aa35cf29-d257-47f9-94f7-94771b1dac3d",
   "metadata": {},
   "outputs": [],
   "source": [
    "test_rougher_predict = best_model.fit(features_scaled, target_rougher).predict(test_features_scaled)\n",
    "test_final_predict = best_model.fit(features_scaled, target_final).predict(test_features_scaled)"
   ]
  },
  {
   "cell_type": "markdown",
   "id": "503cf647-ea7b-4dbd-a9ac-25a1c3ba2d92",
   "metadata": {},
   "source": [
    "Оценим эффективность модели на тестовой выборке."
   ]
  },
  {
   "cell_type": "code",
   "execution_count": 74,
   "id": "f3a096db-2765-4eed-b2cb-46b54062b589",
   "metadata": {},
   "outputs": [
    {
     "name": "stdout",
     "output_type": "stream",
     "text": [
      "sMAPE-оценка модели на тестовой выборке 7.4 %\n"
     ]
    }
   ],
   "source": [
    "smape_rougher = smape(test_target_rougher, test_rougher_predict)\n",
    "smape_final = smape(test_target_final, test_final_predict)\n",
    "test_smape = final_smape(smape_rougher, smape_final)\n",
    "\n",
    "print('sMAPE-оценка модели на тестовой выборке', round(test_smape, 2), '%')"
   ]
  },
  {
   "cell_type": "code",
   "execution_count": 75,
   "id": "ba669041-6db9-4079-b002-3a2f96d6d4a8",
   "metadata": {},
   "outputs": [
    {
     "name": "stdout",
     "output_type": "stream",
     "text": [
      "sMAPE-оценка dummy модели на тестовой выборке 7.7 %\n"
     ]
    }
   ],
   "source": [
    "dummy_model = DummyRegressor(strategy='mean')\n",
    "dummy_rougher = dummy_model.fit(features_scaled, target_rougher).predict(test_features_scaled)\n",
    "dummy_final = dummy_model.fit(features_scaled, target_final).predict(test_features_scaled)\n",
    "\n",
    "smape_rougher = smape(test_target_rougher, dummy_rougher)\n",
    "smape_final = smape(test_target_final, dummy_final)\n",
    "test_smape = final_smape(smape_rougher, smape_final)\n",
    "\n",
    "print('sMAPE-оценка dummy модели на тестовой выборке', round(test_smape, 2), '%')"
   ]
  },
  {
   "cell_type": "markdown",
   "id": "3c12b607-58bc-40cb-9c24-9f16024c262e",
   "metadata": {},
   "source": [
    "Результаты полученной модели незначительно отличаются от результатов дамми-модели, а значит полученая модель не является адекватной."
   ]
  },
  {
   "cell_type": "markdown",
   "id": "7a0b3930",
   "metadata": {},
   "source": [
    "## Выводы по проделанной работе:"
   ]
  },
  {
   "cell_type": "markdown",
   "id": "becd88b0",
   "metadata": {},
   "source": [
    "1. Был проведён первоначальный анализ и предобработка имеющихся данных, проверена правильность рассчёта эффективности обогащеиня.\n",
    "1. Датасеты были очищены от пропущенных значений.\n",
    "1. Были показаны изменения концентраций основных веществ на различных этапах очистки.\n",
    "1. Размеры гранул сырья в черновом и финальном концентрате одинаково распределены в обучающей и тестовой выборке, а значит обученная модель будет пригодна для данных из тестовой выборки.\n",
    "1. Было исследовано распределение концентраций основных веществ на главных этапах очистки, и на основании этого исходные датасеты были очищены от аномальных значений.\n",
    "1. Было построено несколько моделей прогнозирования, определены оптимальные параметры моделей, после чего была оценена эффективность модели на тестовой выборке по метрике smape."
   ]
  }
 ],
 "metadata": {
  "ExecuteTimeLog": [
   {
    "duration": 1869,
    "start_time": "2023-01-08T16:54:50.459Z"
   },
   {
    "duration": 126,
    "start_time": "2023-01-08T16:54:52.330Z"
   },
   {
    "duration": 1,
    "start_time": "2023-01-08T16:54:52.458Z"
   },
   {
    "duration": 0,
    "start_time": "2023-01-08T16:54:52.460Z"
   },
   {
    "duration": 1,
    "start_time": "2023-01-08T16:54:52.460Z"
   },
   {
    "duration": 0,
    "start_time": "2023-01-08T16:54:52.461Z"
   },
   {
    "duration": 0,
    "start_time": "2023-01-08T16:54:52.462Z"
   },
   {
    "duration": 0,
    "start_time": "2023-01-08T16:54:52.463Z"
   },
   {
    "duration": 0,
    "start_time": "2023-01-08T16:54:52.464Z"
   },
   {
    "duration": 0,
    "start_time": "2023-01-08T16:54:52.465Z"
   },
   {
    "duration": 0,
    "start_time": "2023-01-08T16:54:52.466Z"
   },
   {
    "duration": 0,
    "start_time": "2023-01-08T16:54:52.467Z"
   },
   {
    "duration": 0,
    "start_time": "2023-01-08T16:54:52.468Z"
   },
   {
    "duration": 0,
    "start_time": "2023-01-08T16:54:52.469Z"
   },
   {
    "duration": 0,
    "start_time": "2023-01-08T16:54:52.470Z"
   },
   {
    "duration": 0,
    "start_time": "2023-01-08T16:54:52.472Z"
   },
   {
    "duration": 0,
    "start_time": "2023-01-08T16:54:52.472Z"
   },
   {
    "duration": 1,
    "start_time": "2023-01-08T16:54:52.473Z"
   },
   {
    "duration": 0,
    "start_time": "2023-01-08T16:54:52.475Z"
   },
   {
    "duration": 0,
    "start_time": "2023-01-08T16:54:52.476Z"
   },
   {
    "duration": 1,
    "start_time": "2023-01-08T16:54:52.476Z"
   },
   {
    "duration": 1720,
    "start_time": "2023-01-08T16:55:42.104Z"
   },
   {
    "duration": 3,
    "start_time": "2023-01-08T16:55:52.760Z"
   },
   {
    "duration": 347,
    "start_time": "2023-01-08T16:55:53.306Z"
   },
   {
    "duration": 293,
    "start_time": "2023-01-08T16:55:53.850Z"
   },
   {
    "duration": 24,
    "start_time": "2023-01-08T16:55:55.228Z"
   },
   {
    "duration": 130,
    "start_time": "2023-01-08T16:55:56.321Z"
   },
   {
    "duration": 20,
    "start_time": "2023-01-08T16:55:56.762Z"
   },
   {
    "duration": 6,
    "start_time": "2023-01-08T16:55:59.283Z"
   },
   {
    "duration": 4,
    "start_time": "2023-01-08T16:56:00.779Z"
   },
   {
    "duration": 20,
    "start_time": "2023-01-08T16:56:21.508Z"
   },
   {
    "duration": 21,
    "start_time": "2023-01-08T16:57:18.082Z"
   },
   {
    "duration": 840,
    "start_time": "2023-01-08T16:58:29.035Z"
   },
   {
    "duration": 6,
    "start_time": "2023-01-08T16:58:47.891Z"
   },
   {
    "duration": 24,
    "start_time": "2023-01-08T16:58:56.161Z"
   },
   {
    "duration": 7,
    "start_time": "2023-01-08T16:59:26.066Z"
   },
   {
    "duration": 12,
    "start_time": "2023-01-08T16:59:59.595Z"
   },
   {
    "duration": 11,
    "start_time": "2023-01-08T17:00:07.856Z"
   },
   {
    "duration": 8,
    "start_time": "2023-01-08T17:00:26.176Z"
   },
   {
    "duration": 8,
    "start_time": "2023-01-08T17:00:36.696Z"
   },
   {
    "duration": 2002,
    "start_time": "2023-01-08T17:08:41.271Z"
   },
   {
    "duration": 1777,
    "start_time": "2023-01-08T17:08:43.275Z"
   },
   {
    "duration": 26,
    "start_time": "2023-01-08T17:08:45.056Z"
   },
   {
    "duration": 14,
    "start_time": "2023-01-08T17:08:45.084Z"
   },
   {
    "duration": 21,
    "start_time": "2023-01-08T17:08:45.111Z"
   },
   {
    "duration": 17,
    "start_time": "2023-01-08T17:08:45.133Z"
   },
   {
    "duration": 19,
    "start_time": "2023-01-08T17:08:45.151Z"
   },
   {
    "duration": 45,
    "start_time": "2023-01-08T17:08:45.172Z"
   },
   {
    "duration": 3,
    "start_time": "2023-01-08T17:08:45.218Z"
   },
   {
    "duration": 9,
    "start_time": "2023-01-08T17:08:45.223Z"
   },
   {
    "duration": 5,
    "start_time": "2023-01-08T17:08:45.233Z"
   },
   {
    "duration": 15,
    "start_time": "2023-01-08T17:08:45.239Z"
   },
   {
    "duration": 5,
    "start_time": "2023-01-08T17:08:45.255Z"
   },
   {
    "duration": 6,
    "start_time": "2023-01-08T17:08:45.263Z"
   },
   {
    "duration": 349,
    "start_time": "2023-01-08T17:08:45.271Z"
   },
   {
    "duration": 352,
    "start_time": "2023-01-08T17:08:45.621Z"
   },
   {
    "duration": 21,
    "start_time": "2023-01-08T17:08:45.974Z"
   },
   {
    "duration": 35,
    "start_time": "2023-01-08T17:08:45.996Z"
   },
   {
    "duration": 20,
    "start_time": "2023-01-08T17:08:46.033Z"
   },
   {
    "duration": 6,
    "start_time": "2023-01-08T17:08:46.055Z"
   },
   {
    "duration": 8,
    "start_time": "2023-01-08T17:08:46.063Z"
   },
   {
    "duration": 6,
    "start_time": "2023-01-08T17:08:46.073Z"
   },
   {
    "duration": 44,
    "start_time": "2023-01-08T17:08:46.080Z"
   },
   {
    "duration": 15,
    "start_time": "2023-01-08T17:08:46.126Z"
   },
   {
    "duration": 7,
    "start_time": "2023-01-08T17:08:46.143Z"
   },
   {
    "duration": 6,
    "start_time": "2023-01-08T17:08:46.152Z"
   },
   {
    "duration": 11,
    "start_time": "2023-01-08T17:08:46.160Z"
   },
   {
    "duration": 40,
    "start_time": "2023-01-08T17:08:46.174Z"
   },
   {
    "duration": 3,
    "start_time": "2023-01-08T17:08:46.217Z"
   },
   {
    "duration": 13,
    "start_time": "2023-01-08T17:08:46.222Z"
   },
   {
    "duration": 3,
    "start_time": "2023-01-08T17:08:46.237Z"
   },
   {
    "duration": 11,
    "start_time": "2023-01-08T17:08:46.241Z"
   },
   {
    "duration": 4,
    "start_time": "2023-01-08T17:08:46.253Z"
   },
   {
    "duration": 10,
    "start_time": "2023-01-08T17:08:46.259Z"
   },
   {
    "duration": 4,
    "start_time": "2023-01-08T17:08:46.270Z"
   },
   {
    "duration": 38,
    "start_time": "2023-01-08T17:08:46.276Z"
   },
   {
    "duration": 4,
    "start_time": "2023-01-08T17:08:46.316Z"
   },
   {
    "duration": 14,
    "start_time": "2023-01-08T17:08:46.321Z"
   },
   {
    "duration": 151,
    "start_time": "2023-01-08T17:08:46.337Z"
   },
   {
    "duration": 6,
    "start_time": "2023-01-08T17:08:46.490Z"
   },
   {
    "duration": 146,
    "start_time": "2023-01-08T17:08:46.511Z"
   },
   {
    "duration": 4,
    "start_time": "2023-01-08T17:08:46.659Z"
   },
   {
    "duration": 9,
    "start_time": "2023-01-08T17:08:46.665Z"
   },
   {
    "duration": 9,
    "start_time": "2023-01-08T17:08:46.675Z"
   },
   {
    "duration": 5,
    "start_time": "2023-01-08T17:08:46.686Z"
   },
   {
    "duration": 19,
    "start_time": "2023-01-08T17:08:46.693Z"
   },
   {
    "duration": 10,
    "start_time": "2023-01-08T17:08:46.714Z"
   },
   {
    "duration": 160,
    "start_time": "2023-01-08T17:08:46.726Z"
   },
   {
    "duration": 35,
    "start_time": "2023-01-08T17:08:46.888Z"
   },
   {
    "duration": 129,
    "start_time": "2023-01-08T17:08:46.925Z"
   },
   {
    "duration": 5,
    "start_time": "2023-01-08T17:08:47.056Z"
   },
   {
    "duration": 7,
    "start_time": "2023-01-08T17:08:47.063Z"
   },
   {
    "duration": 12,
    "start_time": "2023-01-08T17:08:47.072Z"
   },
   {
    "duration": 28,
    "start_time": "2023-01-08T17:08:47.085Z"
   },
   {
    "duration": 7,
    "start_time": "2023-01-08T17:08:47.114Z"
   },
   {
    "duration": 7,
    "start_time": "2023-01-08T17:08:47.122Z"
   },
   {
    "duration": 15,
    "start_time": "2023-01-08T17:08:47.131Z"
   },
   {
    "duration": 19,
    "start_time": "2023-01-08T17:19:22.804Z"
   },
   {
    "duration": 2592,
    "start_time": "2023-01-11T09:59:00.236Z"
   },
   {
    "duration": 1818,
    "start_time": "2023-01-11T09:59:02.830Z"
   },
   {
    "duration": 25,
    "start_time": "2023-01-11T09:59:04.650Z"
   },
   {
    "duration": 38,
    "start_time": "2023-01-11T09:59:04.677Z"
   },
   {
    "duration": 51,
    "start_time": "2023-01-11T09:59:04.721Z"
   },
   {
    "duration": 33,
    "start_time": "2023-01-11T09:59:04.773Z"
   },
   {
    "duration": 47,
    "start_time": "2023-01-11T09:59:04.814Z"
   },
   {
    "duration": 35,
    "start_time": "2023-01-11T09:59:04.862Z"
   },
   {
    "duration": 34,
    "start_time": "2023-01-11T09:59:04.898Z"
   },
   {
    "duration": 30,
    "start_time": "2023-01-11T09:59:04.934Z"
   },
   {
    "duration": 28,
    "start_time": "2023-01-11T09:59:04.965Z"
   },
   {
    "duration": 68,
    "start_time": "2023-01-11T09:59:04.995Z"
   },
   {
    "duration": 29,
    "start_time": "2023-01-11T09:59:05.065Z"
   },
   {
    "duration": 40,
    "start_time": "2023-01-11T09:59:05.097Z"
   },
   {
    "duration": 383,
    "start_time": "2023-01-11T09:59:05.138Z"
   },
   {
    "duration": 445,
    "start_time": "2023-01-11T09:59:05.523Z"
   },
   {
    "duration": 22,
    "start_time": "2023-01-11T09:59:05.970Z"
   },
   {
    "duration": 44,
    "start_time": "2023-01-11T09:59:05.994Z"
   },
   {
    "duration": 44,
    "start_time": "2023-01-11T09:59:06.040Z"
   },
   {
    "duration": 38,
    "start_time": "2023-01-11T09:59:06.085Z"
   },
   {
    "duration": 53,
    "start_time": "2023-01-11T09:59:06.125Z"
   },
   {
    "duration": 20,
    "start_time": "2023-01-11T09:59:06.180Z"
   },
   {
    "duration": 67,
    "start_time": "2023-01-11T09:59:06.202Z"
   },
   {
    "duration": 35,
    "start_time": "2023-01-11T09:59:06.271Z"
   },
   {
    "duration": 31,
    "start_time": "2023-01-11T09:59:06.309Z"
   },
   {
    "duration": 22,
    "start_time": "2023-01-11T09:59:06.342Z"
   },
   {
    "duration": 26,
    "start_time": "2023-01-11T09:59:06.366Z"
   },
   {
    "duration": 185,
    "start_time": "2023-01-11T09:59:06.393Z"
   },
   {
    "duration": 3,
    "start_time": "2023-01-11T09:59:06.580Z"
   },
   {
    "duration": 34,
    "start_time": "2023-01-11T09:59:06.585Z"
   },
   {
    "duration": 192,
    "start_time": "2023-01-11T09:59:06.620Z"
   },
   {
    "duration": 14,
    "start_time": "2023-01-11T09:59:06.814Z"
   },
   {
    "duration": 18,
    "start_time": "2023-01-11T09:59:06.839Z"
   },
   {
    "duration": 202,
    "start_time": "2023-01-11T09:59:06.859Z"
   },
   {
    "duration": 2,
    "start_time": "2023-01-11T09:59:07.063Z"
   },
   {
    "duration": 26,
    "start_time": "2023-01-11T09:59:07.067Z"
   },
   {
    "duration": 186,
    "start_time": "2023-01-11T09:59:07.094Z"
   },
   {
    "duration": 3,
    "start_time": "2023-01-11T09:59:07.281Z"
   },
   {
    "duration": 65,
    "start_time": "2023-01-11T09:59:07.286Z"
   },
   {
    "duration": 187,
    "start_time": "2023-01-11T09:59:07.352Z"
   },
   {
    "duration": 3,
    "start_time": "2023-01-11T09:59:07.544Z"
   },
   {
    "duration": 42,
    "start_time": "2023-01-11T09:59:07.549Z"
   },
   {
    "duration": 237,
    "start_time": "2023-01-11T09:59:07.593Z"
   },
   {
    "duration": 135,
    "start_time": "2023-01-11T09:59:07.838Z"
   },
   {
    "duration": 5,
    "start_time": "2023-01-11T09:59:07.975Z"
   },
   {
    "duration": 134,
    "start_time": "2023-01-11T09:59:07.982Z"
   },
   {
    "duration": 9,
    "start_time": "2023-01-11T09:59:08.123Z"
   },
   {
    "duration": 13,
    "start_time": "2023-01-11T09:59:08.133Z"
   },
   {
    "duration": 28,
    "start_time": "2023-01-11T09:59:08.148Z"
   },
   {
    "duration": 66,
    "start_time": "2023-01-11T09:59:08.177Z"
   },
   {
    "duration": 12,
    "start_time": "2023-01-11T09:59:08.245Z"
   },
   {
    "duration": 21,
    "start_time": "2023-01-11T09:59:08.259Z"
   },
   {
    "duration": 167,
    "start_time": "2023-01-11T09:59:08.282Z"
   },
   {
    "duration": 49,
    "start_time": "2023-01-11T09:59:08.451Z"
   },
   {
    "duration": 155,
    "start_time": "2023-01-11T09:59:08.504Z"
   },
   {
    "duration": 15,
    "start_time": "2023-01-11T09:59:08.660Z"
   },
   {
    "duration": 6,
    "start_time": "2023-01-11T09:59:08.677Z"
   },
   {
    "duration": 53,
    "start_time": "2023-01-11T09:59:08.685Z"
   },
   {
    "duration": 9,
    "start_time": "2023-01-11T09:59:08.740Z"
   },
   {
    "duration": 8,
    "start_time": "2023-01-11T09:59:08.752Z"
   },
   {
    "duration": 15,
    "start_time": "2023-01-11T09:59:08.761Z"
   },
   {
    "duration": 20,
    "start_time": "2023-01-11T09:59:08.777Z"
   },
   {
    "duration": 1342,
    "start_time": "2023-01-11T09:59:08.799Z"
   },
   {
    "duration": 2549,
    "start_time": "2023-01-11T10:10:10.517Z"
   },
   {
    "duration": 1703,
    "start_time": "2023-01-11T10:10:13.068Z"
   },
   {
    "duration": 25,
    "start_time": "2023-01-11T10:10:14.772Z"
   },
   {
    "duration": 31,
    "start_time": "2023-01-11T10:10:14.799Z"
   },
   {
    "duration": 33,
    "start_time": "2023-01-11T10:10:14.832Z"
   },
   {
    "duration": 16,
    "start_time": "2023-01-11T10:10:14.867Z"
   },
   {
    "duration": 37,
    "start_time": "2023-01-11T10:10:14.885Z"
   },
   {
    "duration": 24,
    "start_time": "2023-01-11T10:10:14.932Z"
   },
   {
    "duration": 4,
    "start_time": "2023-01-11T10:10:14.957Z"
   },
   {
    "duration": 6,
    "start_time": "2023-01-11T10:10:14.964Z"
   },
   {
    "duration": 5,
    "start_time": "2023-01-11T10:10:14.972Z"
   },
   {
    "duration": 15,
    "start_time": "2023-01-11T10:10:14.978Z"
   },
   {
    "duration": 4,
    "start_time": "2023-01-11T10:10:14.995Z"
   },
   {
    "duration": 54,
    "start_time": "2023-01-11T10:10:15.001Z"
   },
   {
    "duration": 367,
    "start_time": "2023-01-11T10:10:15.057Z"
   },
   {
    "duration": 486,
    "start_time": "2023-01-11T10:10:15.427Z"
   },
   {
    "duration": 40,
    "start_time": "2023-01-11T10:10:15.915Z"
   },
   {
    "duration": 24,
    "start_time": "2023-01-11T10:10:15.959Z"
   },
   {
    "duration": 22,
    "start_time": "2023-01-11T10:10:15.984Z"
   },
   {
    "duration": 36,
    "start_time": "2023-01-11T10:10:16.007Z"
   },
   {
    "duration": 18,
    "start_time": "2023-01-11T10:10:16.045Z"
   },
   {
    "duration": 7,
    "start_time": "2023-01-11T10:10:16.065Z"
   },
   {
    "duration": 25,
    "start_time": "2023-01-11T10:10:16.073Z"
   },
   {
    "duration": 17,
    "start_time": "2023-01-11T10:10:16.099Z"
   },
   {
    "duration": 24,
    "start_time": "2023-01-11T10:10:16.118Z"
   },
   {
    "duration": 9,
    "start_time": "2023-01-11T10:10:16.148Z"
   },
   {
    "duration": 9,
    "start_time": "2023-01-11T10:10:16.159Z"
   },
   {
    "duration": 141,
    "start_time": "2023-01-11T10:10:16.173Z"
   },
   {
    "duration": 3,
    "start_time": "2023-01-11T10:10:16.316Z"
   },
   {
    "duration": 42,
    "start_time": "2023-01-11T10:10:16.321Z"
   },
   {
    "duration": 151,
    "start_time": "2023-01-11T10:10:16.365Z"
   },
   {
    "duration": 4,
    "start_time": "2023-01-11T10:10:16.518Z"
   },
   {
    "duration": 31,
    "start_time": "2023-01-11T10:10:16.527Z"
   },
   {
    "duration": 150,
    "start_time": "2023-01-11T10:10:16.560Z"
   },
   {
    "duration": 2,
    "start_time": "2023-01-11T10:10:16.712Z"
   },
   {
    "duration": 30,
    "start_time": "2023-01-11T10:10:16.716Z"
   },
   {
    "duration": 150,
    "start_time": "2023-01-11T10:10:16.750Z"
   },
   {
    "duration": 3,
    "start_time": "2023-01-11T10:10:16.902Z"
   },
   {
    "duration": 12,
    "start_time": "2023-01-11T10:10:16.906Z"
   },
   {
    "duration": 168,
    "start_time": "2023-01-11T10:10:16.923Z"
   },
   {
    "duration": 3,
    "start_time": "2023-01-11T10:10:17.092Z"
   },
   {
    "duration": 15,
    "start_time": "2023-01-11T10:10:17.096Z"
   },
   {
    "duration": 161,
    "start_time": "2023-01-11T10:10:17.113Z"
   },
   {
    "duration": 113,
    "start_time": "2023-01-11T10:10:17.276Z"
   },
   {
    "duration": 5,
    "start_time": "2023-01-11T10:10:17.391Z"
   },
   {
    "duration": 144,
    "start_time": "2023-01-11T10:10:17.397Z"
   },
   {
    "duration": 5,
    "start_time": "2023-01-11T10:10:17.543Z"
   },
   {
    "duration": 11,
    "start_time": "2023-01-11T10:10:17.551Z"
   },
   {
    "duration": 8,
    "start_time": "2023-01-11T10:10:17.564Z"
   },
   {
    "duration": 6,
    "start_time": "2023-01-11T10:10:17.573Z"
   },
   {
    "duration": 9,
    "start_time": "2023-01-11T10:10:17.581Z"
   },
   {
    "duration": 26,
    "start_time": "2023-01-11T10:10:17.592Z"
   },
   {
    "duration": 165,
    "start_time": "2023-01-11T10:10:17.620Z"
   },
   {
    "duration": 38,
    "start_time": "2023-01-11T10:10:17.786Z"
   },
   {
    "duration": 156,
    "start_time": "2023-01-11T10:10:17.827Z"
   },
   {
    "duration": 15,
    "start_time": "2023-01-11T10:10:17.984Z"
   },
   {
    "duration": 8,
    "start_time": "2023-01-11T10:10:18.000Z"
   },
   {
    "duration": 19,
    "start_time": "2023-01-11T10:10:18.010Z"
   },
   {
    "duration": 7,
    "start_time": "2023-01-11T10:10:18.030Z"
   },
   {
    "duration": 16,
    "start_time": "2023-01-11T10:10:18.040Z"
   },
   {
    "duration": 15,
    "start_time": "2023-01-11T10:10:18.059Z"
   },
   {
    "duration": 16,
    "start_time": "2023-01-11T10:10:18.076Z"
   },
   {
    "duration": 1646,
    "start_time": "2023-01-11T10:10:18.094Z"
   },
   {
    "duration": 19251,
    "start_time": "2023-01-11T10:11:13.807Z"
   },
   {
    "duration": 130,
    "start_time": "2023-01-11T10:14:31.673Z"
   },
   {
    "duration": 10,
    "start_time": "2023-01-11T10:14:40.858Z"
   },
   {
    "duration": 7,
    "start_time": "2023-01-11T10:14:56.683Z"
   },
   {
    "duration": 9,
    "start_time": "2023-01-11T10:14:58.767Z"
   },
   {
    "duration": 14,
    "start_time": "2023-01-11T10:15:10.560Z"
   },
   {
    "duration": 3,
    "start_time": "2023-01-11T10:16:34.499Z"
   },
   {
    "duration": 10210,
    "start_time": "2023-01-11T10:16:37.963Z"
   },
   {
    "duration": 28,
    "start_time": "2023-01-11T10:16:53.853Z"
   }
  ],
  "kernelspec": {
   "display_name": "Python 3 (ipykernel)",
   "language": "python",
   "name": "python3"
  },
  "language_info": {
   "codemirror_mode": {
    "name": "ipython",
    "version": 3
   },
   "file_extension": ".py",
   "mimetype": "text/x-python",
   "name": "python",
   "nbconvert_exporter": "python",
   "pygments_lexer": "ipython3",
   "version": "3.9.17"
  },
  "toc": {
   "base_numbering": 1,
   "nav_menu": {},
   "number_sections": true,
   "sideBar": true,
   "skip_h1_title": true,
   "title_cell": "Table of Contents",
   "title_sidebar": "Contents",
   "toc_cell": false,
   "toc_position": {},
   "toc_section_display": true,
   "toc_window_display": true
  }
 },
 "nbformat": 4,
 "nbformat_minor": 5
}
